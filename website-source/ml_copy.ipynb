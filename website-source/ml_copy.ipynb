{
 "cells": [
  {
   "cell_type": "code",
   "execution_count": 1,
   "id": "127e5b3a-47ec-46e1-a057-3a40e8bdf005",
   "metadata": {},
   "outputs": [
    {
     "name": "stdout",
     "output_type": "stream",
     "text": [
      "\n",
      "Downloading and Extracting Packages:\n",
      "\n",
      "\n",
      "## Package Plan ##\n",
      "\n",
      "  environment location: /opt/conda\n",
      "\n",
      "  added / updated specs:\n",
      "    - conda-forge/openjdk/11.0.1/download/linux-64::openjdk==11.0.1=hacce0ff_1021\n",
      "\n",
      "\n",
      "The following NEW packages will be INSTALLED:\n",
      "\n",
      "  openjdk            conda-forge/openjdk/11.0.1/download/linux-64::openjdk-11.0.1-hacce0ff_1021 \n",
      "\n",
      "\n",
      "\n",
      "Downloading and Extracting Packages:\n",
      "\n",
      "Preparing transaction: done\n",
      "Verifying transaction: done\n",
      "Executing transaction: done\n",
      "\n",
      "Note: you may need to restart the kernel to use updated packages.\n",
      "Collecting pyspark==3.4.0\n",
      "  Using cached pyspark-3.4.0-py2.py3-none-any.whl\n",
      "Requirement already satisfied: py4j==0.10.9.7 in /opt/conda/lib/python3.11/site-packages (from pyspark==3.4.0) (0.10.9.7)\n",
      "Installing collected packages: pyspark\n",
      "Successfully installed pyspark-3.4.0\n",
      "Note: you may need to restart the kernel to use updated packages.\n"
     ]
    },
    {
     "data": {
      "text/html": [
       "<script>Jupyter.notebook.kernel.restart()</script>"
      ],
      "text/plain": [
       "<IPython.core.display.HTML object>"
      ]
     },
     "execution_count": 1,
     "metadata": {},
     "output_type": "execute_result"
    }
   ],
   "source": [
    "# Setup - Run only once per Kernel App\n",
    "%conda install https://anaconda.org/conda-forge/openjdk/11.0.1/download/linux-64/openjdk-11.0.1-hacce0ff_1021.tar.bz2\n",
    "\n",
    "# install PySpark\n",
    "%pip install pyspark==3.4.0\n",
    "\n",
    "# restart kernel\n",
    "from IPython.core.display import HTML\n",
    "HTML(\"<script>Jupyter.notebook.kernel.restart()</script>\")"
   ]
  },
  {
   "cell_type": "code",
   "execution_count": 2,
   "id": "87de0a7c-fdf4-4bc3-aed7-a0c0ff57e2a0",
   "metadata": {},
   "outputs": [
    {
     "name": "stdout",
     "output_type": "stream",
     "text": [
      "sagemaker.config INFO - Not applying SDK defaults from location: /etc/xdg/sagemaker/config.yaml\n",
      "sagemaker.config INFO - Not applying SDK defaults from location: /home/sagemaker-user/.config/sagemaker/config.yaml\n"
     ]
    }
   ],
   "source": [
    "import os\n",
    "import sagemaker\n",
    "from pyspark.sql import functions as f\n",
    "sess = sagemaker.Session()\n",
    "bucket = sess.default_bucket()"
   ]
  },
  {
   "cell_type": "code",
   "execution_count": 3,
   "id": "218e6d65-36cc-4bae-87ce-2fc8de4d29d1",
   "metadata": {},
   "outputs": [
    {
     "name": "stderr",
     "output_type": "stream",
     "text": [
      "Warning: Ignoring non-Spark config property: fs.s3a.aws.credentials.provider\n"
     ]
    },
    {
     "name": "stdout",
     "output_type": "stream",
     "text": [
      ":: loading settings :: url = jar:file:/opt/conda/lib/python3.11/site-packages/pyspark/jars/ivy-2.5.1.jar!/org/apache/ivy/core/settings/ivysettings.xml\n"
     ]
    },
    {
     "name": "stderr",
     "output_type": "stream",
     "text": [
      "Ivy Default Cache set to: /home/sagemaker-user/.ivy2/cache\n",
      "The jars for the packages stored in: /home/sagemaker-user/.ivy2/jars\n",
      "org.apache.hadoop#hadoop-aws added as a dependency\n",
      ":: resolving dependencies :: org.apache.spark#spark-submit-parent-d0b47657-4fe9-4512-b7ee-3f56686220c8;1.0\n",
      "\tconfs: [default]\n",
      "\tfound org.apache.hadoop#hadoop-aws;3.2.2 in central\n",
      "\tfound com.amazonaws#aws-java-sdk-bundle;1.11.563 in central\n",
      ":: resolution report :: resolve 230ms :: artifacts dl 7ms\n",
      "\t:: modules in use:\n",
      "\tcom.amazonaws#aws-java-sdk-bundle;1.11.563 from central in [default]\n",
      "\torg.apache.hadoop#hadoop-aws;3.2.2 from central in [default]\n",
      "\t---------------------------------------------------------------------\n",
      "\t|                  |            modules            ||   artifacts   |\n",
      "\t|       conf       | number| search|dwnlded|evicted|| number|dwnlded|\n",
      "\t---------------------------------------------------------------------\n",
      "\t|      default     |   2   |   0   |   0   |   0   ||   2   |   0   |\n",
      "\t---------------------------------------------------------------------\n",
      ":: retrieving :: org.apache.spark#spark-submit-parent-d0b47657-4fe9-4512-b7ee-3f56686220c8\n",
      "\tconfs: [default]\n",
      "\t0 artifacts copied, 2 already retrieved (0kB/7ms)\n",
      "24/12/07 06:45:34 WARN NativeCodeLoader: Unable to load native-hadoop library for your platform... using builtin-java classes where applicable\n",
      "Setting default log level to \"WARN\".\n",
      "To adjust logging level use sc.setLogLevel(newLevel). For SparkR, use setLogLevel(newLevel).\n"
     ]
    },
    {
     "name": "stdout",
     "output_type": "stream",
     "text": [
      "3.4.0\n"
     ]
    }
   ],
   "source": [
    "\n",
    "from pyspark.sql import SparkSession\n",
    "\n",
    "spark = (\n",
    "    SparkSession.builder.appName(\"PySparkApp\")\n",
    "    .config(\"spark.jars.packages\", \"org.apache.hadoop:hadoop-aws:3.2.2\")\n",
    "    .config(\n",
    "        \"fs.s3a.aws.credentials.provider\",\n",
    "        \"com.amazonaws.auth.ContainerCredentialsProvider\",\n",
    "    )\n",
    "    .getOrCreate()\n",
    ")\n",
    "\n",
    "print(spark.version)"
   ]
  },
  {
   "cell_type": "markdown",
   "id": "b061c0dd-f1a7-4816-89ab-80a926833001",
   "metadata": {},
   "source": [
    "## Join External and Comment Data"
   ]
  },
  {
   "cell_type": "markdown",
   "id": "95b54b61-2be2-4306-87e2-767659fe128b",
   "metadata": {},
   "source": [
    "### Pull and Clean External BTC Data"
   ]
  },
  {
   "cell_type": "code",
   "execution_count": 4,
   "id": "833c9930-9bd2-4629-b28f-5b4b3d875698",
   "metadata": {},
   "outputs": [
    {
     "name": "stderr",
     "output_type": "stream",
     "text": [
      "                                                                                \r"
     ]
    }
   ],
   "source": [
    "import pandas as pd\n",
    "\n",
    "spark.conf.set(\"spark.sql.legacy.timeParserPolicy\", \"LEGACY\")\n",
    "\n",
    "\n",
    "btc_in = spark.read.options(header='True', inferSchema='True', delimiter=',').csv(\"./btc_data_clean.csv\")\n",
    "\n",
    "clean_btc = btc_in.withColumn(\"prediction_date\", f.from_unixtime(f.unix_timestamp(f.col('prediction_date'), 'M/dd/yyy'))) \\\n",
    "                .withColumn('day', f.dayofmonth('prediction_date')) \\\n",
    "                .withColumn('month', f.month('prediction_date')) \\\n",
    "                .withColumn('year', f.year('prediction_date'))\n",
    "\n",
    "cols_to_keep = ['Volatility','Increase','day','month','year']\n",
    "selected_cols = [col for col in clean_btc.columns if col in cols_to_keep]\n",
    "clean_btc_ready = clean_btc.select(selected_cols).toPandas()"
   ]
  },
  {
   "cell_type": "markdown",
   "id": "900c5d00-d25b-4c15-bf93-292d4e2c4179",
   "metadata": {},
   "source": [
    "### Join with NLP Comment Data"
   ]
  },
  {
   "cell_type": "code",
   "execution_count": 5,
   "id": "41248845-3218-48ce-8f8c-082a70f1dc2b",
   "metadata": {},
   "outputs": [],
   "source": [
    "comments_in = pd.read_csv('./NLP_output_for_ml.csv')"
   ]
  },
  {
   "cell_type": "code",
   "execution_count": 6,
   "id": "0ec7d4c2-6830-4504-908c-634ea41b1759",
   "metadata": {},
   "outputs": [],
   "source": [
    "full_data = pd.merge(comments_in, clean_btc_ready, left_on = ['day','month','year'], right_on = ['day','month','year']) "
   ]
  },
  {
   "cell_type": "code",
   "execution_count": 7,
   "id": "da4be639-1a75-45e2-8136-6d5d1f96b545",
   "metadata": {},
   "outputs": [
    {
     "data": {
      "text/html": [
       "<div>\n",
       "<style scoped>\n",
       "    .dataframe tbody tr th:only-of-type {\n",
       "        vertical-align: middle;\n",
       "    }\n",
       "\n",
       "    .dataframe tbody tr th {\n",
       "        vertical-align: top;\n",
       "    }\n",
       "\n",
       "    .dataframe thead th {\n",
       "        text-align: right;\n",
       "    }\n",
       "</style>\n",
       "<table border=\"1\" class=\"dataframe\">\n",
       "  <thead>\n",
       "    <tr style=\"text-align: right;\">\n",
       "      <th></th>\n",
       "      <th>Unnamed: 0</th>\n",
       "      <th>year</th>\n",
       "      <th>month</th>\n",
       "      <th>day</th>\n",
       "      <th>total</th>\n",
       "      <th>postotal</th>\n",
       "      <th>negtotal</th>\n",
       "      <th>neutotal</th>\n",
       "      <th>snpcomments</th>\n",
       "      <th>fedcomments</th>\n",
       "      <th>cryptocomments</th>\n",
       "      <th>Volatility</th>\n",
       "      <th>Increase</th>\n",
       "    </tr>\n",
       "  </thead>\n",
       "  <tbody>\n",
       "    <tr>\n",
       "      <th>0</th>\n",
       "      <td>0</td>\n",
       "      <td>2024</td>\n",
       "      <td>3</td>\n",
       "      <td>19</td>\n",
       "      <td>8</td>\n",
       "      <td>6</td>\n",
       "      <td>2</td>\n",
       "      <td>0</td>\n",
       "      <td>0</td>\n",
       "      <td>0</td>\n",
       "      <td>3</td>\n",
       "      <td>0.115697</td>\n",
       "      <td>1</td>\n",
       "    </tr>\n",
       "    <tr>\n",
       "      <th>1</th>\n",
       "      <td>1</td>\n",
       "      <td>2023</td>\n",
       "      <td>9</td>\n",
       "      <td>4</td>\n",
       "      <td>24</td>\n",
       "      <td>11</td>\n",
       "      <td>11</td>\n",
       "      <td>2</td>\n",
       "      <td>1</td>\n",
       "      <td>1</td>\n",
       "      <td>6</td>\n",
       "      <td>0.010366</td>\n",
       "      <td>0</td>\n",
       "    </tr>\n",
       "    <tr>\n",
       "      <th>2</th>\n",
       "      <td>2</td>\n",
       "      <td>2023</td>\n",
       "      <td>6</td>\n",
       "      <td>29</td>\n",
       "      <td>10</td>\n",
       "      <td>5</td>\n",
       "      <td>5</td>\n",
       "      <td>0</td>\n",
       "      <td>0</td>\n",
       "      <td>0</td>\n",
       "      <td>0</td>\n",
       "      <td>0.051272</td>\n",
       "      <td>1</td>\n",
       "    </tr>\n",
       "    <tr>\n",
       "      <th>3</th>\n",
       "      <td>3</td>\n",
       "      <td>2023</td>\n",
       "      <td>8</td>\n",
       "      <td>10</td>\n",
       "      <td>21</td>\n",
       "      <td>14</td>\n",
       "      <td>7</td>\n",
       "      <td>0</td>\n",
       "      <td>0</td>\n",
       "      <td>0</td>\n",
       "      <td>1</td>\n",
       "      <td>0.009294</td>\n",
       "      <td>0</td>\n",
       "    </tr>\n",
       "    <tr>\n",
       "      <th>4</th>\n",
       "      <td>4</td>\n",
       "      <td>2023</td>\n",
       "      <td>7</td>\n",
       "      <td>4</td>\n",
       "      <td>6</td>\n",
       "      <td>1</td>\n",
       "      <td>3</td>\n",
       "      <td>2</td>\n",
       "      <td>0</td>\n",
       "      <td>1</td>\n",
       "      <td>0</td>\n",
       "      <td>0.020875</td>\n",
       "      <td>0</td>\n",
       "    </tr>\n",
       "  </tbody>\n",
       "</table>\n",
       "</div>"
      ],
      "text/plain": [
       "   Unnamed: 0  year  month  day  total  postotal  negtotal  neutotal  \\\n",
       "0           0  2024      3   19      8         6         2         0   \n",
       "1           1  2023      9    4     24        11        11         2   \n",
       "2           2  2023      6   29     10         5         5         0   \n",
       "3           3  2023      8   10     21        14         7         0   \n",
       "4           4  2023      7    4      6         1         3         2   \n",
       "\n",
       "   snpcomments  fedcomments  cryptocomments  Volatility  Increase  \n",
       "0            0            0               3    0.115697         1  \n",
       "1            1            1               6    0.010366         0  \n",
       "2            0            0               0    0.051272         1  \n",
       "3            0            0               1    0.009294         0  \n",
       "4            0            1               0    0.020875         0  "
      ]
     },
     "execution_count": 7,
     "metadata": {},
     "output_type": "execute_result"
    }
   ],
   "source": [
    "full_data.head()"
   ]
  },
  {
   "cell_type": "markdown",
   "id": "b3480d70-3969-4948-8b16-da7d64677e18",
   "metadata": {},
   "source": [
    "## Pipeline in Spark"
   ]
  },
  {
   "cell_type": "code",
   "execution_count": 8,
   "id": "fa349a3c-5f6d-4046-8cbd-d7ba82779ad2",
   "metadata": {},
   "outputs": [],
   "source": [
    "from pyspark.sql.types import FloatType\n",
    "\n",
    "#comments_in = spark.read.options(header='True', inferSchema='True', delimiter=',').csv(\"./NLP_output_for_ml.csv\")\n",
    "full_spark_raw = spark.createDataFrame(full_data).withColumn('Volatility', f.col('Volatility').cast(FloatType()) )\n"
   ]
  },
  {
   "cell_type": "code",
   "execution_count": 9,
   "id": "87f613a6-6eb1-4e55-9724-3c68c33d5d5a",
   "metadata": {},
   "outputs": [
    {
     "name": "stderr",
     "output_type": "stream",
     "text": [
      "[Stage 3:>                                                          (0 + 1) / 1]\r"
     ]
    },
    {
     "name": "stdout",
     "output_type": "stream",
     "text": [
      "+----------+----+-----+---+-----+--------+--------+--------+-----------+-----------+--------------+-----------+--------+\n",
      "|Unnamed: 0|year|month|day|total|postotal|negtotal|neutotal|snpcomments|fedcomments|cryptocomments| Volatility|Increase|\n",
      "+----------+----+-----+---+-----+--------+--------+--------+-----------+-----------+--------------+-----------+--------+\n",
      "|         0|2024|    3| 19|    8|       6|       2|       0|          0|          0|             3| 0.11569654|       1|\n",
      "|         1|2023|    9|  4|   24|      11|      11|       2|          1|          1|             6|0.010366165|       0|\n",
      "|         2|2023|    6| 29|   10|       5|       5|       0|          0|          0|             0|0.051271606|       1|\n",
      "|         3|2023|    8| 10|   21|      14|       7|       0|          0|          0|             1|0.009294065|       0|\n",
      "|         4|2023|    7|  4|    6|       1|       3|       2|          0|          1|             0|0.020875178|       0|\n",
      "|         5|2023|    8| 14|   30|      26|       3|       1|          0|          0|             3|0.012009502|       0|\n",
      "|         6|2023|    7|  2|   10|       4|       6|       0|          0|          0|             1|0.025981873|       1|\n",
      "|         7|2023|    7| 20|   30|      15|      14|       1|          0|          0|             4|0.010704339|       1|\n",
      "|         8|2023|    8| 31|   22|      14|       5|       3|          0|          0|             4| 0.03018702|       0|\n",
      "|         9|2023|    7| 22|   23|      12|       8|       3|          0|          0|             1|0.020185372|       1|\n",
      "|        10|2023|    8| 22|   25|      13|      11|       1|          0|          0|             4| 0.03821135|       1|\n",
      "|        11|2023|    7|  5|    8|       3|       5|       0|          0|          1|             1|0.052260034|       0|\n",
      "|        12|2023|    9| 16|   23|      14|       7|       2|          1|          0|             6|0.007744146|       0|\n",
      "|        13|2024|    7|  5|    6|       2|       4|       0|          0|          0|             3| 0.04299435|       1|\n",
      "|        14|2023|    8| 11|   25|      15|       9|       1|          0|          0|             4|0.003582499|       1|\n",
      "|        15|2023|    9| 23|   18|      12|       5|       1|          0|          0|             6|0.021272434|       0|\n",
      "|        16|2023|    9| 27|   19|      11|       6|       2|          0|          0|             2|0.035808284|       1|\n",
      "|        17|2023|    9| 11|   25|      15|      10|       0|          1|          0|             4|0.053209834|       1|\n",
      "|        18|2023|    8|  9|   35|      22|      12|       1|          0|          0|             6|0.011559267|       0|\n",
      "|        19|2023|    7| 26|   25|      15|       8|       2|          0|          0|             4|0.016175574|       0|\n",
      "+----------+----+-----+---+-----+--------+--------+--------+-----------+-----------+--------------+-----------+--------+\n",
      "only showing top 20 rows\n",
      "\n"
     ]
    },
    {
     "name": "stderr",
     "output_type": "stream",
     "text": [
      "                                                                                \r"
     ]
    }
   ],
   "source": [
    "full_spark_raw.show()"
   ]
  },
  {
   "cell_type": "code",
   "execution_count": 54,
   "id": "b8ec994c-2e77-4718-aed9-6016a117bc8e",
   "metadata": {},
   "outputs": [
    {
     "name": "stdout",
     "output_type": "stream",
     "text": [
      "root\n",
      " |-- Unnamed: 0: long (nullable = true)\n",
      " |-- year: long (nullable = true)\n",
      " |-- month: long (nullable = true)\n",
      " |-- day: long (nullable = true)\n",
      " |-- total: long (nullable = true)\n",
      " |-- postotal: long (nullable = true)\n",
      " |-- negtotal: long (nullable = true)\n",
      " |-- neutotal: long (nullable = true)\n",
      " |-- snpcomments: long (nullable = true)\n",
      " |-- fedcomments: long (nullable = true)\n",
      " |-- cryptocomments: long (nullable = true)\n",
      " |-- Volatility: float (nullable = true)\n",
      " |-- Increase: long (nullable = true)\n",
      "\n"
     ]
    }
   ],
   "source": [
    "full_spark_raw.printSchema()"
   ]
  },
  {
   "cell_type": "code",
   "execution_count": 10,
   "id": "c17c8af5-9727-4ae3-bdd4-1bff581406ba",
   "metadata": {},
   "outputs": [],
   "source": [
    "from pyspark.ml.linalg import Vectors\n",
    "from pyspark.ml.feature import VectorAssembler\n",
    "\n",
    "# select only the predictor columns we want in our model\n",
    "vectorAssembler_features = VectorAssembler(inputCols = ['postotal','negtotal','neutotal','snpcomments','fedcomments','cryptocomments'], outputCol = 'features')\n",
    "vectorAssembler_volatility = VectorAssembler(inputCols = ['Volatility'], outputCol = 'vol')\n",
    "#vectorAssembler_increase = VectorAssembler(inputCols = ['Increase'], outputCol = 'inc')"
   ]
  },
  {
   "cell_type": "code",
   "execution_count": 11,
   "id": "cb249fa9-b1b3-44d1-be44-89d30c524e92",
   "metadata": {},
   "outputs": [],
   "source": [
    "from pyspark.ml.feature import Normalizer\n",
    "\n",
    "# normalize data \n",
    "normalizer = Normalizer(inputCol = 'features', outputCol = 'features_norm')\n",
    "#normalizerVol = Normalizer(inputCol = 'vol', outputCol = 'vol_norm', p = 1.0)\n",
    "normalizerInc = Normalizer(inputCol = 'inc', outputCol = 'inc_norm')"
   ]
  },
  {
   "cell_type": "code",
   "execution_count": 12,
   "id": "9c29aaa2-090d-487a-9479-cc1dedc39a97",
   "metadata": {},
   "outputs": [],
   "source": [
    "from pyspark.ml import Pipeline\n",
    "\n",
    "\n",
    "pipeline = Pipeline(stages = [vectorAssembler_features, vectorAssembler_volatility, normalizer])\n",
    "#  vectorAssembler_increase, normalizerVol, normalizerInc\n",
    "#data_model = pipeline.fit(full_spark_raw)\n",
    "#pipelined_data = data_model.transform(full_spark_raw)"
   ]
  },
  {
   "cell_type": "code",
   "execution_count": 81,
   "id": "0652a0b3-0733-4c37-8616-ff8fb1ae21f6",
   "metadata": {
    "scrolled": true
   },
   "outputs": [
    {
     "name": "stdout",
     "output_type": "stream",
     "text": [
      "+----------+----+-----+---+-----+--------+--------+--------+-----------+-----------+--------------+-----------+--------+--------------------+--------------------+--------------------+\n",
      "|Unnamed: 0|year|month|day|total|postotal|negtotal|neutotal|snpcomments|fedcomments|cryptocomments| Volatility|Increase|            features|                 vol|       features_norm|\n",
      "+----------+----+-----+---+-----+--------+--------+--------+-----------+-----------+--------------+-----------+--------+--------------------+--------------------+--------------------+\n",
      "|         0|2024|    3| 19|    8|       6|       2|       0|          0|          0|             3| 0.11569654|       1|[6.0,2.0,0.0,0.0,...|[0.11569654196500...|[0.85714285714285...|\n",
      "|         1|2023|    9|  4|   24|      11|      11|       2|          1|          1|             6|0.010366165|       0|[11.0,11.0,2.0,1....|[0.01036616507917...|[0.65272991200661...|\n",
      "|         2|2023|    6| 29|   10|       5|       5|       0|          0|          0|             0|0.051271606|       1| (6,[0,1],[5.0,5.0])|[0.05127160623669...|(6,[0,1],[0.70710...|\n",
      "|         3|2023|    8| 10|   21|      14|       7|       0|          0|          0|             1|0.009294065|       0|[14.0,7.0,0.0,0.0...|[0.00929406471550...|[0.89260739828867...|\n",
      "|         4|2023|    7|  4|    6|       1|       3|       2|          0|          1|             0|0.020875178|       0|[1.0,3.0,2.0,0.0,...|[0.02087517827749...|[0.25819888974716...|\n",
      "|         5|2023|    8| 14|   30|      26|       3|       1|          0|          0|             3|0.012009502|       0|[26.0,3.0,1.0,0.0...|[0.01200950238853...|[0.98623621435414...|\n",
      "|         6|2023|    7|  2|   10|       4|       6|       0|          0|          0|             1|0.025981873|       1|[4.0,6.0,0.0,0.0,...|[0.02598187327384...|[0.54944225579475...|\n",
      "|         7|2023|    7| 20|   30|      15|      14|       1|          0|          0|             4|0.010704339|       1|[15.0,14.0,1.0,0....|[0.01070433855056...|[0.71672772385124...|\n",
      "|         8|2023|    8| 31|   22|      14|       5|       3|          0|          0|             4| 0.03018702|       0|[14.0,5.0,3.0,0.0...|[0.03018702007830...|[0.89260739828867...|\n",
      "|         9|2023|    7| 22|   23|      12|       8|       3|          0|          0|             1|0.020185372|       1|[12.0,8.0,3.0,0.0...|[0.02018537186086...|[0.81274255377431...|\n",
      "|        10|2023|    8| 22|   25|      13|      11|       1|          0|          0|             4| 0.03821135|       1|[13.0,11.0,1.0,0....|[0.03821134939789...|[0.74194918919595...|\n",
      "|        11|2023|    7|  5|    8|       3|       5|       0|          0|          1|             1|0.052260034|       0|[3.0,5.0,0.0,0.0,...|[0.05226003378629...|[0.5,0.8333333333...|\n",
      "|        12|2023|    9| 16|   23|      14|       7|       2|          1|          0|             6|0.007744146|       0|[14.0,7.0,2.0,1.0...|[0.00774414604529...|[0.82783735438471...|\n",
      "|        13|2024|    7|  5|    6|       2|       4|       0|          0|          0|             3| 0.04299435|       1|[2.0,4.0,0.0,0.0,...|[0.04299435019493...|[0.37139067635410...|\n",
      "|        14|2023|    8| 11|   25|      15|       9|       1|          0|          0|             4|0.003582499|       1|[15.0,9.0,1.0,0.0...|[0.00358249898999...|[0.83462232611198...|\n",
      "|        15|2023|    9| 23|   18|      12|       5|       1|          0|          0|             6|0.021272434|       0|[12.0,5.0,1.0,0.0...|[0.02127243392169...|[0.83607961714994...|\n",
      "|        16|2023|    9| 27|   19|      11|       6|       2|          0|          0|             2|0.035808284|       1|[11.0,6.0,2.0,0.0...|[0.03580828383564...|[0.85634883857767...|\n",
      "|        17|2023|    9| 11|   25|      15|      10|       0|          1|          0|             4|0.053209834|       1|[15.0,10.0,0.0,1....|[0.05320983380079...|[0.81110710565381...|\n",
      "|        18|2023|    8|  9|   35|      22|      12|       1|          0|          0|             6|0.011559267|       0|[22.0,12.0,1.0,0....|[0.01155926659703...|[0.85312340776242...|\n",
      "|        19|2023|    7| 26|   25|      15|       8|       2|          0|          0|             4|0.016175574|       0|[15.0,8.0,2.0,0.0...|[0.01617557369172...|[0.85332018598286...|\n",
      "+----------+----+-----+---+-----+--------+--------+--------+-----------+-----------+--------------+-----------+--------+--------------------+--------------------+--------------------+\n",
      "only showing top 20 rows\n",
      "\n"
     ]
    }
   ],
   "source": [
    "pipelined_data.show()"
   ]
  },
  {
   "cell_type": "markdown",
   "id": "40f35e83-26df-42c5-abf6-be395072e3a2",
   "metadata": {},
   "source": [
    "## Building train-test-val datasets"
   ]
  },
  {
   "cell_type": "code",
   "execution_count": 13,
   "id": "52226c7f-5af5-4710-a80e-46f6b1427671",
   "metadata": {},
   "outputs": [],
   "source": [
    "train_data, test_data, val_data = full_spark_raw.randomSplit([0.7, 0.2, 0.1], 42)\n"
   ]
  },
  {
   "cell_type": "code",
   "execution_count": 14,
   "id": "c5983802-718d-41d1-bbf6-132367a747b1",
   "metadata": {},
   "outputs": [
    {
     "name": "stderr",
     "output_type": "stream",
     "text": [
      "                                                                                \r"
     ]
    },
    {
     "name": "stdout",
     "output_type": "stream",
     "text": [
      "train size:  290\n"
     ]
    },
    {
     "name": "stderr",
     "output_type": "stream",
     "text": [
      "                                                                                \r"
     ]
    },
    {
     "name": "stdout",
     "output_type": "stream",
     "text": [
      "test size:  98\n"
     ]
    },
    {
     "name": "stderr",
     "output_type": "stream",
     "text": [
      "[Stage 10:==============>                                           (1 + 3) / 4]\r"
     ]
    },
    {
     "name": "stdout",
     "output_type": "stream",
     "text": [
      "val size:  36\n"
     ]
    },
    {
     "name": "stderr",
     "output_type": "stream",
     "text": [
      "                                                                                \r"
     ]
    }
   ],
   "source": [
    "print('train size: ', train_data.count()) \n",
    "print('test size: ', test_data.count())\n",
    "print('val size: ', val_data.count())"
   ]
  },
  {
   "cell_type": "markdown",
   "id": "50d121d1-a682-4d82-bd63-edacc7dab1c4",
   "metadata": {},
   "source": [
    "### Fit pipeline on train data to avoid information leak"
   ]
  },
  {
   "cell_type": "code",
   "execution_count": 15,
   "id": "0a7ce200-0eb5-45e2-9c32-54f730cf2d84",
   "metadata": {},
   "outputs": [],
   "source": [
    "\n",
    "pipeline = Pipeline(stages = [vectorAssembler_features, vectorAssembler_volatility,  normalizer])\n",
    "# normalizerVol, normalizerInc, vectorAssembler_increase,\n",
    "fitted_pipeline = pipeline.fit(train_data)\n",
    "train_data = fitted_pipeline.transform(train_data)\n",
    "test_data = fitted_pipeline.transform(test_data)\n",
    "val_data = fitted_pipeline.transform(val_data)"
   ]
  },
  {
   "cell_type": "code",
   "execution_count": 18,
   "id": "5c3c246b-e710-4b74-ba5a-2ec4bc7b1561",
   "metadata": {},
   "outputs": [
    {
     "name": "stderr",
     "output_type": "stream",
     "text": [
      "[Stage 16:>                                                         (0 + 3) / 3]\r"
     ]
    },
    {
     "name": "stdout",
     "output_type": "stream",
     "text": [
      "+----------+----+-----+---+-----+--------+--------+--------+-----------+-----------+--------------+-----------+--------+--------------------+--------------------+--------------------+\n",
      "|Unnamed: 0|year|month|day|total|postotal|negtotal|neutotal|snpcomments|fedcomments|cryptocomments| Volatility|Increase|            features|                 vol|       features_norm|\n",
      "+----------+----+-----+---+-----+--------+--------+--------+-----------+-----------+--------------+-----------+--------+--------------------+--------------------+--------------------+\n",
      "|         6|2023|    7|  2|   10|       4|       6|       0|          0|          0|             1|0.025981873|       1|[4.0,6.0,0.0,0.0,...|[0.02598187327384...|[0.54944225579475...|\n",
      "|         8|2023|    8| 31|   22|      14|       5|       3|          0|          0|             4| 0.03018702|       0|[14.0,5.0,3.0,0.0...|[0.03018702007830...|[0.89260739828867...|\n",
      "|        47|2023|    6| 22|   10|       4|       6|       0|          0|          0|             3|0.052619252|       1|[4.0,6.0,0.0,0.0,...|[0.05261925235390...|[0.51214751973158...|\n",
      "|        55|2023|    9| 19|   19|      10|       9|       0|          0|          0|             3|0.019361097|       0|[10.0,9.0,0.0,0.0...|[0.01936109736561...|[0.72547625011001...|\n",
      "|        77|2023|    9|  5|   25|      15|       9|       1|          1|          0|             6| 0.02352453|       0|[15.0,9.0,1.0,1.0...|[0.02352453023195...|[0.80874579902578...|\n",
      "|       100|2023|    9| 22|   22|      14|       7|       1|          0|          0|             5|0.004465478|       0|[14.0,7.0,1.0,0.0...|[0.00446547800675...|[0.85043943492310...|\n",
      "|       120|2023|    6|  9|   21|      11|      10|       0|          0|          0|             5| 0.03991042|       0|[11.0,10.0,0.0,0....|[0.03991042077541...|[0.70133438436967...|\n",
      "|       127|2023|    9| 18|   24|      16|       6|       2|          0|          0|             5|0.030214135|       1|[16.0,6.0,2.0,0.0...|[0.03021413460373...|[0.89303291549751...|\n",
      "|       161|2023|    7| 13|   13|       8|       3|       2|          0|          0|             1|0.052702334|       0|[8.0,3.0,2.0,0.0,...|[0.05270233377814...|[0.90582162731567...|\n",
      "|       162|2023|    7|  8|    5|       2|       3|       0|          0|          0|             2|0.011674282|       0|[2.0,3.0,0.0,0.0,...|[0.01167428214102...|[0.48507125007266...|\n",
      "|       165|2023|    6| 11|   11|       5|       6|       0|          0|          0|             1|0.017189978|       0|[5.0,6.0,0.0,0.0,...|[0.01718997769057...|[0.63500063500095...|\n",
      "|       166|2023|    8| 20|   16|       9|       7|       0|          0|          0|             4|0.014130916|       0|[9.0,7.0,0.0,0.0,...|[0.01413091644644...|[0.74484529974213...|\n",
      "|       174|2023|    9|  6|   27|      17|       9|       1|          0|          1|             4| 0.03071667|       1|[17.0,9.0,1.0,0.0...|[0.03071667067706...|[0.86304424036357...|\n",
      "|       191|2024|    3| 25|    7|       5|       2|       0|          0|          0|             0|0.030392166|       1| (6,[0,1],[5.0,2.0])|[0.03039216622710...|(6,[0,1],[0.92847...|\n",
      "|       198|2023|   10| 22|    4|       1|       2|       1|          0|          0|             0| 0.14955209|       1|[1.0,2.0,1.0,0.0,...|[0.1495520919561386]|[0.40824829046386...|\n",
      "|       221|2023|   12| 30|    4|       2|       2|       0|          0|          0|             3|0.021532169|       1|[2.0,2.0,0.0,0.0,...|[0.02153216861188...|[0.48507125007266...|\n",
      "|       222|2024|    4| 23|    4|       3|       1|       0|          0|          0|             2|0.052000377|       0|[3.0,1.0,0.0,0.0,...|[0.05200037732720...|[0.80178372573727...|\n",
      "|       223|2023|   11| 26|    5|       3|       1|       1|          0|          0|             2| 0.02167586|       0|[3.0,1.0,1.0,0.0,...|[0.02167586050927...|[0.77459666924148...|\n",
      "|       240|2024|    2| 22|    5|       4|       1|       0|          0|          0|             0|0.019385979|       0| (6,[0,1],[4.0,1.0])|[0.01938597857952...|(6,[0,1],[0.97014...|\n",
      "|       245|2024|    4| 14|    4|       2|       2|       0|          0|          0|             0|0.067364216|       0| (6,[0,1],[2.0,2.0])|[0.06736421585083...|(6,[0,1],[0.70710...|\n",
      "+----------+----+-----+---+-----+--------+--------+--------+-----------+-----------+--------------+-----------+--------+--------------------+--------------------+--------------------+\n",
      "only showing top 20 rows\n",
      "\n"
     ]
    },
    {
     "name": "stderr",
     "output_type": "stream",
     "text": [
      "                                                                                \r"
     ]
    }
   ],
   "source": [
    "val_data.show()"
   ]
  },
  {
   "cell_type": "markdown",
   "id": "9cd41854-74a2-4845-9a10-63ac40402069",
   "metadata": {},
   "source": [
    "## Build Classification Models (logistic regression, GBT)\n",
    "\n",
    "#### LR"
   ]
  },
  {
   "cell_type": "code",
   "execution_count": 16,
   "id": "40b9d394-519e-4f9a-9eb6-639352f44887",
   "metadata": {},
   "outputs": [],
   "source": [
    "from pyspark.ml.classification import LogisticRegression\n",
    "from pyspark.ml.classification import GBTClassifier\n",
    "from pyspark.ml.evaluation import MulticlassClassificationEvaluator"
   ]
  },
  {
   "cell_type": "code",
   "execution_count": 17,
   "id": "9a3b8b7d-ce27-4dc7-9833-864923fe3421",
   "metadata": {},
   "outputs": [
    {
     "name": "stderr",
     "output_type": "stream",
     "text": [
      "                                                                                \r"
     ]
    },
    {
     "name": "stdout",
     "output_type": "stream",
     "text": [
      "Coefficients: (6,[],[])\n",
      "Intercept: 0.1937068790190799\n"
     ]
    }
   ],
   "source": [
    "lr = LogisticRegression(maxIter=10, regParam=0.3, elasticNetParam=0.8, featuresCol='features_norm',labelCol = 'Increase')\n",
    "lrModel = lr.fit(train_data)\n",
    "\n",
    "\n",
    "# Print the coefficients and intercept for logistic regression\n",
    "print(\"Coefficients: \" + str(lrModel.coefficients))\n",
    "print(\"Intercept: \" + str(lrModel.intercept))\n",
    "\n",
    "\n"
   ]
  },
  {
   "cell_type": "code",
   "execution_count": 18,
   "id": "6d325d20-ebb4-4337-b4b8-f834b7b13bb1",
   "metadata": {},
   "outputs": [],
   "source": [
    "def eval_results_binary(df, model, real = 'Increase', pred = 'prediction'):\n",
    "    preds = model.transform(df)\n",
    "    evaluator = MulticlassClassificationEvaluator(labelCol=real, predictionCol=pred, metricName=\"accuracy\")\n",
    "    accuracy = evaluator.evaluate(preds)\n",
    "\n",
    "    print(\"Accuracy = %g\" % accuracy)\n",
    "    print(\"Train Error = %g\" % (1.0 - accuracy))\n",
    "\n",
    "\n"
   ]
  },
  {
   "cell_type": "code",
   "execution_count": 32,
   "id": "f2290e33-8e10-412e-9135-774524beed96",
   "metadata": {},
   "outputs": [
    {
     "name": "stderr",
     "output_type": "stream",
     "text": [
      "                                                                                \r"
     ]
    },
    {
     "name": "stdout",
     "output_type": "stream",
     "text": [
      "Accuracy = 0.548276\n",
      "Train Error = 0.451724\n"
     ]
    },
    {
     "name": "stderr",
     "output_type": "stream",
     "text": [
      "[Stage 5001:============================>                           (2 + 2) / 4]\r"
     ]
    },
    {
     "name": "stdout",
     "output_type": "stream",
     "text": [
      "Accuracy = 0.438776\n",
      "Train Error = 0.561224\n"
     ]
    },
    {
     "name": "stderr",
     "output_type": "stream",
     "text": [
      "                                                                                \r"
     ]
    }
   ],
   "source": [
    "lr = LogisticRegression(maxIter=10, regParam=0.5, elasticNetParam=0.1, featuresCol='features_norm',labelCol = 'Increase')\n",
    "lrModel = lr.fit(train_data)\n",
    "\n",
    "eval_results_binary(train_data, lrModel)\n",
    "eval_results_binary(test_data, lrModel)"
   ]
  },
  {
   "cell_type": "markdown",
   "id": "ddb72edd-5627-4dcb-948d-74f9cae832c8",
   "metadata": {},
   "source": [
    "#### LR with Hyperparameter Search"
   ]
  },
  {
   "cell_type": "code",
   "execution_count": 20,
   "id": "668bff7e-c562-4696-b2b2-c22e79fe06e5",
   "metadata": {},
   "outputs": [],
   "source": [
    "from pyspark.ml.tuning import ParamGridBuilder, TrainValidationSplit, CrossValidator\n",
    "from pyspark.ml.evaluation import RegressionEvaluator, BinaryClassificationEvaluator"
   ]
  },
  {
   "cell_type": "code",
   "execution_count": 21,
   "id": "4d1d2e6e-70b7-457f-9e61-ebf44d12ea0f",
   "metadata": {},
   "outputs": [
    {
     "data": {
      "text/plain": [
       "'# In this case the estimator is simply the linear regression.\\n# A TrainValidationSplit requires an Estimator, a set of Estimator ParamMaps, and an Evaluator.\\ntvs = TrainValidationSplit(estimator=lr,\\n                           estimatorParamMaps=paramGrid,\\n                           evaluator=RegressionEvaluator(),\\n                           # 80% of the data will be used for training, 20% for validation.\\n                           trainRatio=0.8)'"
      ]
     },
     "execution_count": 21,
     "metadata": {},
     "output_type": "execute_result"
    }
   ],
   "source": [
    "# fix label column name\n",
    "train_data_cv = train_data.withColumn('label', f.col('Increase'))\n",
    "\n",
    "paramGrid = ParamGridBuilder()\\\n",
    "    .addGrid(lr.regParam, [0.3,0.2, 0.1, 0.01]) \\\n",
    "    .addGrid(lr.fitIntercept, [False, True])\\\n",
    "    .addGrid(lr.elasticNetParam, [0.0, 0.5, 1.0])\\\n",
    "    .build()\n",
    "\n",
    "# devalre model\n",
    "lr_cv = LogisticRegression(maxIter=10, regParam=0.5, elasticNetParam=0.1, featuresCol='features_norm',labelCol = 'Increase')\n",
    "\n",
    "crossval = CrossValidator(estimator=lr_cv,\n",
    "                      estimatorParamMaps=paramGrid,\n",
    "                      evaluator=RegressionEvaluator(),\n",
    "                      numFolds=2)  \n",
    "\n",
    "\n",
    "\n",
    "\"\"\"# In this case the estimator is simply the linear regression.\n",
    "# A TrainValidationSplit requires an Estimator, a set of Estimator ParamMaps, and an Evaluator.\n",
    "tvs = TrainValidationSplit(estimator=lr,\n",
    "                           estimatorParamMaps=paramGrid,\n",
    "                           evaluator=RegressionEvaluator(),\n",
    "                           # 80% of the data will be used for training, 20% for validation.\n",
    "                           trainRatio=0.8)\"\"\""
   ]
  },
  {
   "cell_type": "code",
   "execution_count": 22,
   "id": "9b287973-2a48-4846-8142-ee4e89ddaf8f",
   "metadata": {},
   "outputs": [
    {
     "name": "stderr",
     "output_type": "stream",
     "text": [
      "                                                                                \r"
     ]
    }
   ],
   "source": [
    "tuned_lr_model = crossval.fit(train_data_cv)"
   ]
  },
  {
   "cell_type": "code",
   "execution_count": 31,
   "id": "e7450198-7ce7-4cba-824d-7859c52835e8",
   "metadata": {},
   "outputs": [
    {
     "name": "stderr",
     "output_type": "stream",
     "text": [
      "                                                                                \r"
     ]
    },
    {
     "name": "stdout",
     "output_type": "stream",
     "text": [
      "Accuracy = 0.548276\n",
      "Train Error = 0.451724\n"
     ]
    },
    {
     "name": "stderr",
     "output_type": "stream",
     "text": [
      "[Stage 4995:>                                                       (0 + 4) / 4]\r"
     ]
    },
    {
     "name": "stdout",
     "output_type": "stream",
     "text": [
      "Accuracy = 0.438776\n",
      "Train Error = 0.561224\n",
      "regParam: regularization parameter (>= 0). (default: 0.0, current: 0.5)\n",
      "fitIntercept: whether to fit an intercept term. (default: True)\n",
      "elasticNetParam: the ElasticNet mixing parameter, in range [0, 1]. For alpha = 0, the penalty is an L2 penalty. For alpha = 1, it is an L1 penalty. (default: 0.0, current: 0.1)\n"
     ]
    },
    {
     "name": "stderr",
     "output_type": "stream",
     "text": [
      "                                                                                \r"
     ]
    }
   ],
   "source": [
    "#tuned_lr_model.explainParam('fitIntercept')\n",
    "eval_results_binary(train_data, tuned_lr_model.bestModel)\n",
    "eval_results_binary(test_data, tuned_lr_model.bestModel)\n",
    "\n",
    "print(tuned_lr_model.bestModel.explainParam('regParam'))\n",
    "print(tuned_lr_model.bestModel.explainParam('fitIntercept'))\n",
    "print(tuned_lr_model.bestModel.explainParam('elasticNetParam'))"
   ]
  },
  {
   "cell_type": "markdown",
   "id": "fa3a0bd3-b248-4a2d-87e0-559fc36c07e4",
   "metadata": {},
   "source": [
    "best params: reg 0.5, intercept fit = true, elastic net = 0.1."
   ]
  },
  {
   "cell_type": "markdown",
   "id": "218c7abf-2905-4d33-91f3-f33642ca79a1",
   "metadata": {},
   "source": [
    "#### GBT without tuning"
   ]
  },
  {
   "cell_type": "code",
   "execution_count": 24,
   "id": "a7bc6760-d71f-4e48-aa5b-624aa4f7f1e8",
   "metadata": {},
   "outputs": [
    {
     "name": "stderr",
     "output_type": "stream",
     "text": [
      "                                                                                \r"
     ]
    }
   ],
   "source": [
    "gbt = GBTClassifier(labelCol=\"Increase\", featuresCol=\"features_norm\", maxIter=10)\n",
    "gbt_model = gbt.fit(train_data)\n",
    "\n"
   ]
  },
  {
   "cell_type": "code",
   "execution_count": 25,
   "id": "74c8871f-7dd2-4716-8401-388a9d8cedb3",
   "metadata": {},
   "outputs": [
    {
     "name": "stderr",
     "output_type": "stream",
     "text": [
      "                                                                                \r"
     ]
    },
    {
     "name": "stdout",
     "output_type": "stream",
     "text": [
      "Accuracy = 0.827586\n",
      "Train Error = 0.172414\n",
      "Accuracy = 0.438776\n",
      "Train Error = 0.561224\n"
     ]
    },
    {
     "name": "stderr",
     "output_type": "stream",
     "text": [
      "                                                                                \r"
     ]
    }
   ],
   "source": [
    "eval_results_binary(train_data, gbt_model)\n",
    "\n",
    "eval_results_binary(test_data, gbt_model)\n"
   ]
  },
  {
   "cell_type": "markdown",
   "id": "1168a261-52dd-43b4-8af7-b98ac433c985",
   "metadata": {},
   "source": [
    "massive overfitting"
   ]
  },
  {
   "cell_type": "markdown",
   "id": "65f5e71d-5c3d-4c07-9437-bdbfb36707f2",
   "metadata": {},
   "source": [
    "#### GBT with tuning"
   ]
  },
  {
   "cell_type": "code",
   "execution_count": 26,
   "id": "5c81b634-d131-4c74-be70-4ae379909951",
   "metadata": {},
   "outputs": [],
   "source": [
    "test_data_cv = test_data.withColumn('label', f.col('Increase'))\n",
    "\n",
    "\n",
    "gbt = GBTClassifier(labelCol=\"Increase\", featuresCol=\"features_norm\", maxIter=10)\n",
    "\n",
    "paramGrid_gbt = ParamGridBuilder()\\\n",
    "    .addGrid(gbt.maxDepth, [5,4, 3, 2]) \\\n",
    "    .addGrid(gbt.minInstancesPerNode, [1, 2,3])\\\n",
    "    .addGrid(gbt.minInfoGain, [0.0, 0.05, 0.1])\\\n",
    "    .build()\n",
    "\n",
    "\n",
    "crossval_gbt = CrossValidator(estimator=gbt,\n",
    "                      estimatorParamMaps=paramGrid_gbt,\n",
    "                      evaluator=BinaryClassificationEvaluator(),\n",
    "                      numFolds=2)  \n"
   ]
  },
  {
   "cell_type": "code",
   "execution_count": 48,
   "id": "f4961370-64a3-42b9-ae76-21d7cdfff7b6",
   "metadata": {},
   "outputs": [
    {
     "name": "stderr",
     "output_type": "stream",
     "text": [
      "                                                                                \r"
     ]
    }
   ],
   "source": [
    "tuned_gbt_model = crossval_gbt.fit(train_data_cv)"
   ]
  },
  {
   "cell_type": "code",
   "execution_count": 28,
   "id": "11220db8-02d3-428d-9bc1-ce8cb6ba2d8f",
   "metadata": {},
   "outputs": [
    {
     "name": "stderr",
     "output_type": "stream",
     "text": [
      "                                                                                \r"
     ]
    },
    {
     "name": "stdout",
     "output_type": "stream",
     "text": [
      "Accuracy = 0.827586\n",
      "Train Error = 0.172414\n"
     ]
    },
    {
     "name": "stderr",
     "output_type": "stream",
     "text": [
      "                                                                                \r"
     ]
    },
    {
     "name": "stdout",
     "output_type": "stream",
     "text": [
      "Accuracy = 0.438776\n",
      "Train Error = 0.561224\n"
     ]
    },
    {
     "name": "stderr",
     "output_type": "stream",
     "text": [
      "                                                                                \r"
     ]
    },
    {
     "name": "stdout",
     "output_type": "stream",
     "text": [
      "Accuracy = 0.475862\n",
      "Train Error = 0.524138\n"
     ]
    },
    {
     "name": "stderr",
     "output_type": "stream",
     "text": [
      "[Stage 4991:==========================================>             (3 + 1) / 4]\r"
     ]
    },
    {
     "name": "stdout",
     "output_type": "stream",
     "text": [
      "Accuracy = 0.785714\n",
      "Train Error = 0.214286\n"
     ]
    },
    {
     "name": "stderr",
     "output_type": "stream",
     "text": [
      "                                                                                \r"
     ]
    }
   ],
   "source": [
    "eval_results_binary(train_data, gbt_model)\n",
    "eval_results_binary(test_data, gbt_model)\n",
    "\n",
    "\n",
    "eval_results_binary(train_data, tuned_gbt_model.bestModel)\n",
    "eval_results_binary(test_data, tuned_gbt_model.bestModel)"
   ]
  },
  {
   "cell_type": "code",
   "execution_count": 164,
   "id": "551d10ef-e68a-4c7c-b97d-d2f2b4a9cef7",
   "metadata": {},
   "outputs": [
    {
     "name": "stdout",
     "output_type": "stream",
     "text": [
      "maxDepth: Maximum depth of the tree. (>= 0) E.g., depth 0 means 1 leaf node; depth 1 means 1 internal node + 2 leaf nodes. Must be in range [0, 30]. (default: 5, current: 5)\n",
      "minInstancesPerNode: Minimum number of instances each child must have after split. If a split causes the left or right child to have fewer than minInstancesPerNode, the split will be discarded as invalid. Should be >= 1. (default: 1, current: 2)\n",
      "minInfoGain: Minimum information gain for a split to be considered at a tree node. (default: 0.0, current: 0.0)\n"
     ]
    }
   ],
   "source": [
    "print(tuned_gbt_model.bestModel.explainParam('maxDepth'))\n",
    "print(tuned_gbt_model.bestModel.explainParam('minInstancesPerNode'))\n",
    "print(tuned_gbt_model.bestModel.explainParam('minInfoGain'))"
   ]
  },
  {
   "cell_type": "markdown",
   "id": "ba409942-c84f-41f3-aa3b-1ace838777a7",
   "metadata": {},
   "source": [
    "best results were depth 5, min instances 2, min info gain 0"
   ]
  },
  {
   "cell_type": "markdown",
   "id": "c933ebcc-4637-4eef-8ae0-65437cfb36b2",
   "metadata": {},
   "source": [
    "### Classification Evaluation Metrics"
   ]
  },
  {
   "cell_type": "code",
   "execution_count": 29,
   "id": "49ef88f9-b1df-42d3-a37d-033fc9b20da6",
   "metadata": {},
   "outputs": [],
   "source": [
    "from pyspark.mllib.evaluation import BinaryClassificationMetrics\n"
   ]
  },
  {
   "cell_type": "code",
   "execution_count": 166,
   "id": "56cba052-a7b2-4b06-910f-c381d91bdd8a",
   "metadata": {},
   "outputs": [],
   "source": [
    "class CurveMetrics(BinaryClassificationMetrics):\n",
    "    def __init__(self, *args):\n",
    "        super(CurveMetrics, self).__init__(*args)\n",
    "\n",
    "    def _to_list(self, rdd):\n",
    "        points = []\n",
    "        # Note this collect could be inefficient for large datasets \n",
    "        # considering there may be one probability per datapoint (at most)\n",
    "        # The Scala version takes a numBins parameter, \n",
    "        # but it doesn't seem possible to pass this from Python to Java\n",
    "        for row in rdd.collect():\n",
    "            # Results are returned as type scala.Tuple2, \n",
    "            # which doesn't appear to have a py4j mapping\n",
    "            points += [(float(row._1()), float(row._2()))]\n",
    "        return points\n",
    "\n",
    "    def get_curve(self, method):\n",
    "        rdd = getattr(self._java_model, method)().toJavaRDD()\n",
    "        return self._to_list(rdd)"
   ]
  },
  {
   "cell_type": "code",
   "execution_count": 169,
   "id": "08251393-9410-4d07-af03-5e6077ac8efe",
   "metadata": {
    "collapsed": true,
    "jupyter": {
     "outputs_hidden": true
    },
    "scrolled": true
   },
   "outputs": [
    {
     "name": "stdout",
     "output_type": "stream",
     "text": [
      "+----------+----+-----+---+-----+--------+--------+--------+-----------+-----------+--------------+-----------+--------+--------------------+--------------------+--------------------+--------------------+--------------------+----------+\n",
      "|Unnamed: 0|year|month|day|total|postotal|negtotal|neutotal|snpcomments|fedcomments|cryptocomments| Volatility|Increase|            features|                 vol|       features_norm|       rawPrediction|         probability|prediction|\n",
      "+----------+----+-----+---+-----+--------+--------+--------+-----------+-----------+--------------+-----------+--------+--------------------+--------------------+--------------------+--------------------+--------------------+----------+\n",
      "|         2|2023|    6| 29|   10|       5|       5|       0|          0|          0|             0|0.051271606|       1| (6,[0,1],[5.0,5.0])|[0.05127160623669...|(6,[0,1],[0.70710...|[0.04072378081366...|[0.52035064163719...|       0.0|\n",
      "|         9|2023|    7| 22|   23|      12|       8|       3|          0|          0|             1|0.020185372|       1|[12.0,8.0,3.0,0.0...|[0.02018537186086...|[0.81274255377431...|[-0.7361010373105...|[0.18660814018841...|       1.0|\n",
      "|        13|2024|    7|  5|    6|       2|       4|       0|          0|          0|             3| 0.04299435|       1|[2.0,4.0,0.0,0.0,...|[0.04299435019493...|[0.37139067635410...|[-0.1529128864276...|[0.42413394598506...|       1.0|\n",
      "|        14|2023|    8| 11|   25|      15|       9|       1|          0|          0|             4|0.003582499|       1|[15.0,9.0,1.0,0.0...|[0.00358249898999...|[0.83462232611198...|[-0.6753426955932...|[0.20575834131895...|       1.0|\n",
      "|        15|2023|    9| 23|   18|      12|       5|       1|          0|          0|             6|0.021272434|       0|[12.0,5.0,1.0,0.0...|[0.02127243392169...|[0.83607961714994...|[0.36261892673148...|[0.67375938363221...|       0.0|\n",
      "|        19|2023|    7| 26|   25|      15|       8|       2|          0|          0|             4|0.016175574|       0|[15.0,8.0,2.0,0.0...|[0.01617557369172...|[0.85332018598286...|[0.10030486553126...|[0.54998491126510...|       0.0|\n",
      "|        21|2023|    7| 28|   17|      12|       3|       2|          0|          0|             5|0.004884871|       1|[12.0,3.0,2.0,0.0...|[0.00488487118855...|[0.88949917999332...|[0.16334880911301...|[0.58095564020636...|       0.0|\n",
      "|        23|2023|    9| 20|   23|      10|      13|       0|          0|          0|             5|0.028508546|       0|[10.0,13.0,0.0,0....|[0.02850854583084...|[0.58321184351980...|[0.04050837598431...|[0.52024311670070...|       0.0|\n",
      "|        24|2023|    6|  3|   11|       5|       6|       0|          0|          0|             2| 0.01677447|       1|[5.0,6.0,0.0,0.0,...|[0.01677446998655...|[0.62017367294604...|[1.23295505714401...|[0.92171716920551...|       0.0|\n",
      "|        28|2023|    7| 21|   26|      12|      12|       2|          0|          1|             3|0.011058536|       0|[12.0,12.0,2.0,0....|[0.01105853635817...|[0.69052240517812...|[1.26820819127500...|[0.92665563822624...|       0.0|\n",
      "|        29|2023|   12|  8|   12|       9|       3|       0|          1|          0|             2|0.016837386|       0|[9.0,3.0,0.0,1.0,...|[0.01683738641440...|[0.92338051687663...|[0.52726781183063...|[0.74164491181732...|       0.0|\n",
      "|        30|2023|    7|  7|   13|       8|       5|       0|          0|          0|             1|0.010676579|       0|[8.0,5.0,0.0,0.0,...|[0.01067657861858...|[0.84327404271156...|[-0.0590892792101...|[0.47048969789841...|       1.0|\n",
      "|        32|2024|    3|  5|   13|      10|       3|       0|          0|          0|             3|0.074554786|       1|[10.0,3.0,0.0,0.0...|[0.07455478608608...|[0.92057461789832...|[-0.6682806879796...|[0.20807610777871...|       1.0|\n",
      "|        34|2023|   10| 19|    6|       4|       1|       1|          0|          0|             1|0.054999303|       1|[4.0,1.0,1.0,0.0,...|[0.05499930307269...|[0.91766293548224...|[-0.4394189538902...|[0.29341865083119...|       1.0|\n",
      "|        35|2023|    8|  3|   17|       6|      10|       1|          0|          0|             4|0.015187176|       0|[6.0,10.0,1.0,0.0...|[0.01518717594444...|[0.48507125007266...|[-0.9201703097821...|[0.13701101308056...|       1.0|\n",
      "|        39|2023|    8| 15|   27|      17|      10|       0|          0|          0|             6| 0.01827349|       0|[17.0,10.0,0.0,0....|[0.01827348954975...|[0.82462112512353...|[0.21149793044922...|[0.60419991034895...|       0.0|\n",
      "|        42|2023|    8|  8|   23|      15|       8|       0|          0|          0|             2|0.024177648|       0|[15.0,8.0,0.0,0.0...|[0.02417764812707...|[0.87630935675547...|[-0.0388693196488...|[0.48057512171456...|       1.0|\n",
      "|        43|2023|    8| 28|   21|      14|       4|       3|          0|          0|             4|0.081407145|       1|[14.0,4.0,3.0,0.0...|[0.08140714466571...|[0.90939772344628...|[-0.4394189538902...|[0.29341865083119...|       1.0|\n",
      "|        45|2023|    9| 25|   15|       6|       8|       1|          0|          0|             2|0.011511951|       0|[6.0,8.0,1.0,0.0,...|[0.01151195075362...|[0.58554004376911...|[-1.1215306613341...|[0.09594966373682...|       1.0|\n",
      "|        46|2023|    6| 19|    7|       5|       2|       0|          0|          0|             1| 0.06434874|       1|[5.0,2.0,0.0,0.0,...|[0.0643487423658371]|[0.91287092917527...|[0.35156128078979...|[0.66887972031075...|       0.0|\n",
      "+----------+----+-----+---+-----+--------+--------+--------+-----------+-----------+--------------+-----------+--------+--------------------+--------------------+--------------------+--------------------+--------------------+----------+\n",
      "only showing top 20 rows\n",
      "\n"
     ]
    }
   ],
   "source": [
    "predictions.show()"
   ]
  },
  {
   "cell_type": "code",
   "execution_count": 30,
   "id": "ea8137f3-c8dd-4485-a15d-c5324fb5b2ca",
   "metadata": {},
   "outputs": [
    {
     "ename": "NameError",
     "evalue": "name 'CurveMetrics' is not defined",
     "output_type": "error",
     "traceback": [
      "\u001b[0;31m---------------------------------------------------------------------------\u001b[0m",
      "\u001b[0;31mNameError\u001b[0m                                 Traceback (most recent call last)",
      "Cell \u001b[0;32mIn[30], line 9\u001b[0m\n\u001b[1;32m      7\u001b[0m \u001b[38;5;66;03m# Returns as a list (false positive rate, true positive rate)\u001b[39;00m\n\u001b[1;32m      8\u001b[0m preds \u001b[38;5;241m=\u001b[39m predictions\u001b[38;5;241m.\u001b[39mselect(\u001b[38;5;124m'\u001b[39m\u001b[38;5;124mprediction\u001b[39m\u001b[38;5;124m'\u001b[39m,\u001b[38;5;124m'\u001b[39m\u001b[38;5;124mprobability\u001b[39m\u001b[38;5;124m'\u001b[39m)\u001b[38;5;241m.\u001b[39mrdd\u001b[38;5;241m.\u001b[39mmap(\u001b[38;5;28;01mlambda\u001b[39;00m row: (\u001b[38;5;28mfloat\u001b[39m(row[\u001b[38;5;124m'\u001b[39m\u001b[38;5;124mprobability\u001b[39m\u001b[38;5;124m'\u001b[39m][\u001b[38;5;241m1\u001b[39m]), \u001b[38;5;28mfloat\u001b[39m(row[\u001b[38;5;124m'\u001b[39m\u001b[38;5;124mprediction\u001b[39m\u001b[38;5;124m'\u001b[39m])))\n\u001b[0;32m----> 9\u001b[0m points \u001b[38;5;241m=\u001b[39m \u001b[43mCurveMetrics\u001b[49m(preds)\u001b[38;5;241m.\u001b[39mget_curve(\u001b[38;5;124m'\u001b[39m\u001b[38;5;124mroc\u001b[39m\u001b[38;5;124m'\u001b[39m)\n\u001b[1;32m     10\u001b[0m roc \u001b[38;5;241m=\u001b[39m CurveMetrics(preds)\u001b[38;5;241m.\u001b[39mget_curve(\u001b[38;5;124m'\u001b[39m\u001b[38;5;124mroc\u001b[39m\u001b[38;5;124m'\u001b[39m)\n",
      "\u001b[0;31mNameError\u001b[0m: name 'CurveMetrics' is not defined"
     ]
    }
   ],
   "source": [
    "import matplotlib.pyplot as plt\n",
    "\n",
    "# Create a Pipeline estimator and fit on train DF, predict on test DF\n",
    "#model = gbt_model.fit(train_data)\n",
    "predictions = gbt_model.transform(test_data)\n",
    "\n",
    "# Returns as a list (false positive rate, true positive rate)\n",
    "preds = predictions.select('prediction','probability').rdd.map(lambda row: (float(row['probability'][1]), float(row['prediction'])))\n",
    "points = CurveMetrics(preds).get_curve('roc')\n",
    "roc = CurveMetrics(preds).get_curve('roc')\n"
   ]
  },
  {
   "cell_type": "code",
   "execution_count": 33,
   "id": "460688ca-4ce9-4cb8-b667-c69c5040fe6d",
   "metadata": {},
   "outputs": [
    {
     "name": "stderr",
     "output_type": "stream",
     "text": [
      "                                                                                \r"
     ]
    }
   ],
   "source": [
    "from sklearn.metrics import roc_curve, RocCurveDisplay, auc\n",
    "from pyspark.ml.functions import vector_to_array\n",
    "\n",
    "predictions = gbt_model.transform(test_data)\n",
    "\n",
    "y_score = predictions.select(vector_to_array(\"probability\")[1]).rdd.keys().collect()\n",
    "y_true = predictions.select(\"Increase\").rdd.keys().collect()\n",
    "fpr, tpr, thresholds = roc_curve(y_true, y_score)\n",
    "roc_auc = auc(fpr, tpr)"
   ]
  },
  {
   "cell_type": "code",
   "execution_count": 34,
   "id": "0a97623f-888f-4c49-b50c-0e4d02cb7daf",
   "metadata": {},
   "outputs": [],
   "source": [
    "\n",
    "def ROC_curve(model, data):\n",
    "    preds = model.transform(data)\n",
    "    \n",
    "    y_score = preds.select(vector_to_array(\"probability\")[1]).rdd.keys().collect()\n",
    "    y_true = preds.select(\"Increase\").rdd.keys().collect()\n",
    "    fpr, tpr, thresholds = roc_curve(y_true, y_score)\n",
    "    roc_auc = auc(fpr, tpr)\n",
    "    return fpr, tpr, thresholds, roc_auc"
   ]
  },
  {
   "cell_type": "code",
   "execution_count": 49,
   "id": "59089fe8-dfa1-446d-ae1d-6622a9b9e343",
   "metadata": {},
   "outputs": [
    {
     "name": "stderr",
     "output_type": "stream",
     "text": [
      "                                                                                \r"
     ]
    }
   ],
   "source": [
    "fpr_gbt, tpr_gbt, thresholds_gbt, roc_auc_gbt = ROC_curve(gbt_model, test_data)\n",
    "fpr_gbt_tuned, tpr_gbt_tuned, thresholds_gbt_tuned, roc_auc_gbt_tuned = ROC_curve(tuned_gbt_model.bestModel, val_data)\n",
    "fpr_lr, tpr_lr, thresholds_lr, roc_auc_lr = ROC_curve(lrModel, test_data)\n",
    "fpr_lr_tuned, tpr_lr_tuned, thresholds_lr_tuned, roc_auc_lr_tuned = ROC_curve(tuned_lr_model.bestModel, test_data)"
   ]
  },
  {
   "cell_type": "code",
   "execution_count": 50,
   "id": "cb661699-7d8b-4982-84e4-625e9d108945",
   "metadata": {},
   "outputs": [
    {
     "data": {
      "image/png": "[encoded data removed]",
      "text/plain": [
       "<Figure size 640x480 with 1 Axes>"
      ]
     },
     "metadata": {},
     "output_type": "display_data"
    }
   ],
   "source": [
    "plt.figure()  \n",
    "plt.plot(fpr_gbt, tpr_gbt, label='GBT (area = %0.2f)' % roc_auc_gbt)\n",
    "plt.plot(fpr_gbt_tuned, tpr_gbt_tuned, label='GBT Tuned (area = %0.2f)' % roc_auc_gbt_tuned)\n",
    "#plt.plot(fpr_lr, tpr_lr, thresholds_lr, label='Log Reg. (area = %0.2f)' % roc_auc_lr)\n",
    "#plt.plot(fpr_lr_tuned, tpr_lr_tuned, label='Log Reg. Tuned (area = %0.2f)' % roc_auc_lr_tuned)\n",
    "\n",
    "plt.plot([0, 1], [0, 1], 'k--', label='No Skill')\n",
    "plt.xlim([0.0, 1.0])\n",
    "plt.ylim([0.0, 1.05])\n",
    "plt.xlabel('False Positive Rate')\n",
    "plt.ylabel('True Positive Rate')\n",
    "plt.title('ROC Curve for GBT Models')\n",
    "plt.legend()\n",
    "plt.show()"
   ]
  },
  {
   "cell_type": "code",
   "execution_count": 44,
   "id": "f199540f-2be7-4e2d-a66e-ae83d58b27ae",
   "metadata": {},
   "outputs": [
    {
     "data": {
      "image/png": "[encoded data removed]",
      "text/plain": [
       "<Figure size 640x480 with 1 Axes>"
      ]
     },
     "metadata": {},
     "output_type": "display_data"
    }
   ],
   "source": [
    "plt.figure()  \n",
    "\n",
    "plt.plot(fpr_lr, tpr_lr+.01, label='Logistic Reg. (area = %0.2f)' % roc_auc_lr)\n",
    "\n",
    "plt.plot(fpr_lr_tuned, tpr_lr_tuned-.01, label='Logistic Reg. Tuned (area = %0.2f)' % roc_auc_lr_tuned)\n",
    "\n",
    "plt.plot([0, 1], [0, 1], 'k--', label='No Skill')\n",
    "plt.xlim([0.0, 1.0])\n",
    "plt.ylim([0.0, 1.05])\n",
    "plt.xlabel('False Positive Rate')\n",
    "plt.ylabel('True Positive Rate')\n",
    "plt.title('ROC Curve for Logistic Regression Models')\n",
    "plt.legend()\n",
    "plt.show()"
   ]
  },
  {
   "cell_type": "markdown",
   "id": "cd44293c-7272-4be6-b28e-54a2ade0a0ff",
   "metadata": {},
   "source": [
    "## Build Regression Models"
   ]
  },
  {
   "cell_type": "markdown",
   "id": "cda0f1e1-cb65-45b1-a0f6-9bd5d84ae562",
   "metadata": {},
   "source": [
    "### Linear Regression\n"
   ]
  },
  {
   "cell_type": "code",
   "execution_count": 51,
   "id": "b0a86363-fdcd-4958-94b3-24dce2841782",
   "metadata": {},
   "outputs": [],
   "source": [
    "from pyspark.ml.regression import LinearRegression\n",
    "from pyspark.ml.regression import GBTRegressor\n",
    "from pyspark.ml.evaluation import RegressionEvaluator\n",
    "from pyspark.ml.regression import GBTRegressor"
   ]
  },
  {
   "cell_type": "code",
   "execution_count": 52,
   "id": "715b3d06-d088-4846-8ba5-66c461c1eee3",
   "metadata": {},
   "outputs": [
    {
     "name": "stderr",
     "output_type": "stream",
     "text": [
      "                                                                                \r"
     ]
    }
   ],
   "source": [
    "train_data_cv = train_data.withColumn('label', f.col('Increase'))\n",
    "\n",
    "lr = LinearRegression(featuresCol=\"features_norm\", labelCol=\"Volatility\", predictionCol=\"predicted_vol\", regParam=0.1)\n",
    "lr_model = lr.fit(train_data)\n",
    "predictions = lr_model.transform(test_data)\n"
   ]
  },
  {
   "cell_type": "code",
   "execution_count": 53,
   "id": "faad5f07-d2b7-4c89-8dfa-df1d9fb5082c",
   "metadata": {},
   "outputs": [],
   "source": [
    "def eval_results_reg(model, testdf, labels = 'Volatility', predcol = 'predicted_vol'):\n",
    "\n",
    "    predictions = model.transform(testdf)\n",
    "    \n",
    "    evaluator = RegressionEvaluator(labelCol=\"Volatility\", predictionCol=\"predicted_vol\", metricName=\"rmse\")\n",
    "    rmse = evaluator.evaluate(predictions)\n",
    "    \n",
    "    evaluator_r2 = RegressionEvaluator(labelCol=\"Volatility\", predictionCol=\"predicted_vol\", metricName=\"r2\")\n",
    "    r2 = evaluator_r2.evaluate(predictions)\n",
    "\n",
    "    print('rmse: ', rmse) \n",
    "    print('r2: ', r2)\n"
   ]
  },
  {
   "cell_type": "code",
   "execution_count": 65,
   "id": "2d4cbf91-9ffd-4ed1-8c49-a135505beeb0",
   "metadata": {},
   "outputs": [
    {
     "name": "stderr",
     "output_type": "stream",
     "text": [
      "                                                                                \r"
     ]
    },
    {
     "name": "stdout",
     "output_type": "stream",
     "text": [
      "rmse:  0.02220339615429509\n",
      "r2:  0.008431300143542875\n"
     ]
    },
    {
     "name": "stderr",
     "output_type": "stream",
     "text": [
      "[Stage 13850:===========================>                           (2 + 2) / 4]\r"
     ]
    },
    {
     "name": "stdout",
     "output_type": "stream",
     "text": [
      "rmse:  0.02213137254223798\n",
      "r2:  0.0009947192877705069\n"
     ]
    },
    {
     "name": "stderr",
     "output_type": "stream",
     "text": [
      "                                                                                \r"
     ]
    }
   ],
   "source": [
    "eval_results_reg(lr_model, train_data)\n",
    "eval_results_reg(lr_model, test_data)\n",
    "\n"
   ]
  },
  {
   "cell_type": "markdown",
   "id": "e930ae62-76d3-4485-a129-adfdb7d25ff6",
   "metadata": {},
   "source": [
    "#### Tuned Hyperparameters"
   ]
  },
  {
   "cell_type": "code",
   "execution_count": 55,
   "id": "a521feb0-cc8b-4155-8d5a-a1ad5d976de4",
   "metadata": {},
   "outputs": [],
   "source": [
    "lr = LinearRegression(featuresCol=\"features_norm\", labelCol=\"Volatility\", predictionCol=\"predicted_vol\")\n",
    "\n",
    "\n",
    "paramGrid_linreg = ParamGridBuilder()\\\n",
    "    .addGrid(lr.regParam, [0.0,0.1,0.2]) \\\n",
    "    .addGrid(lr.elasticNetParam, [0.2, 0.4, 0.6, 0.8])\\\n",
    "    .build()\n",
    "\n",
    "\n",
    "crossval_linreg = CrossValidator(estimator=lr,\n",
    "                      estimatorParamMaps=paramGrid_linreg,\n",
    "                      evaluator=RegressionEvaluator(labelCol=\"Volatility\", predictionCol=\"predicted_vol\", metricName=\"r2\"),\n",
    "                      numFolds=3)  "
   ]
  },
  {
   "cell_type": "code",
   "execution_count": 56,
   "id": "ace97a2c-3924-44c3-a330-47f092a71dd0",
   "metadata": {},
   "outputs": [
    {
     "name": "stderr",
     "output_type": "stream",
     "text": [
      "24/12/07 07:01:43 WARN Instrumentation: [96f402a2] regParam is zero, which might cause numerical instability and overfitting.\n",
      "24/12/07 07:01:45 WARN Instrumentation: [d4c8098b] regParam is zero, which might cause numerical instability and overfitting.\n",
      "24/12/07 07:01:45 WARN Instrumentation: [1f98621c] regParam is zero, which might cause numerical instability and overfitting.\n",
      "24/12/07 07:01:46 WARN Instrumentation: [ce5c9fe2] regParam is zero, which might cause numerical instability and overfitting.\n",
      "24/12/07 07:01:48 WARN Instrumentation: [0bb4ce86] regParam is zero, which might cause numerical instability and overfitting.\n",
      "24/12/07 07:01:50 WARN Instrumentation: [cd12cb60] regParam is zero, which might cause numerical instability and overfitting.\n",
      "24/12/07 07:01:51 WARN Instrumentation: [fa4dbcc2] regParam is zero, which might cause numerical instability and overfitting.\n",
      "24/12/07 07:01:51 WARN Instrumentation: [f5ee3758] regParam is zero, which might cause numerical instability and overfitting.\n",
      "24/12/07 07:01:53 WARN Instrumentation: [ccc08602] regParam is zero, which might cause numerical instability and overfitting.\n",
      "24/12/07 07:01:55 WARN Instrumentation: [d6462d1b] regParam is zero, which might cause numerical instability and overfitting.\n",
      "24/12/07 07:01:55 WARN Instrumentation: [e872d0fb] regParam is zero, which might cause numerical instability and overfitting.\n",
      "24/12/07 07:01:56 WARN Instrumentation: [013e0f0d] regParam is zero, which might cause numerical instability and overfitting.\n",
      "                                                                                \r"
     ]
    }
   ],
   "source": [
    "tuned_linreg_model = crossval_linreg.fit(train_data)"
   ]
  },
  {
   "cell_type": "code",
   "execution_count": 66,
   "id": "f51180b2-19bf-4dea-ba7f-517a707caca7",
   "metadata": {},
   "outputs": [
    {
     "name": "stderr",
     "output_type": "stream",
     "text": [
      "                                                                                \r"
     ]
    },
    {
     "name": "stdout",
     "output_type": "stream",
     "text": [
      "rmse:  0.022297593980785187\n",
      "r2:  3.3306690738754696e-16\n"
     ]
    },
    {
     "name": "stderr",
     "output_type": "stream",
     "text": [
      "                                                                                \r"
     ]
    },
    {
     "name": "stdout",
     "output_type": "stream",
     "text": [
      "rmse:  0.02216353106124524\n",
      "r2:  -0.0019106469616598787\n"
     ]
    },
    {
     "name": "stderr",
     "output_type": "stream",
     "text": [
      "                                                                                \r"
     ]
    }
   ],
   "source": [
    "eval_results_reg(tuned_linreg_model, train_data)\n",
    "eval_results_reg(tuned_linreg_model, test_data)"
   ]
  },
  {
   "cell_type": "code",
   "execution_count": 58,
   "id": "fb5b8bda-fad4-4a09-8cdb-49e7649f568d",
   "metadata": {},
   "outputs": [
    {
     "name": "stdout",
     "output_type": "stream",
     "text": [
      "regParam: regularization parameter (>= 0). (default: 0.0, current: 0.2)\n",
      "elasticNetParam: the ElasticNet mixing parameter, in range [0, 1]. For alpha = 0, the penalty is an L2 penalty. For alpha = 1, it is an L1 penalty. (default: 0.0, current: 0.2)\n"
     ]
    }
   ],
   "source": [
    "print(tuned_linreg_model.bestModel.explainParam('regParam'))\n",
    "print(tuned_linreg_model.bestModel.explainParam('elasticNetParam'))"
   ]
  },
  {
   "cell_type": "code",
   "execution_count": 82,
   "id": "c7162fee-53ea-46c3-9403-120504d02f72",
   "metadata": {},
   "outputs": [
    {
     "name": "stdout",
     "output_type": "stream",
     "text": [
      "[-0.0006648945929220134,-0.0006146639773429391,-0.000992980630497191,0.006169592546959767,0.000871323960578097,0.002031770773261513]\n",
      "0.03420036530507536\n"
     ]
    }
   ],
   "source": [
    "print(lr_model.coefficients)\n",
    "print(tuned_linreg_model.bestModel.intercept)"
   ]
  },
  {
   "cell_type": "markdown",
   "id": "9e0cc564-d15f-42dd-bcc7-3ebf675ecf4e",
   "metadata": {},
   "source": [
    "### Gradient Boosted Regressor"
   ]
  },
  {
   "cell_type": "code",
   "execution_count": 60,
   "id": "58925605-facb-44cc-bad0-09c850554238",
   "metadata": {},
   "outputs": [
    {
     "name": "stderr",
     "output_type": "stream",
     "text": [
      "                                                                                \r"
     ]
    }
   ],
   "source": [
    "gbr = GBTRegressor(featuresCol=\"features_norm\", labelCol=\"Volatility\", predictionCol=\"predicted_vol\", maxIter=10)\n",
    "\n",
    "gbr_model = gbr.fit(train_data)"
   ]
  },
  {
   "cell_type": "code",
   "execution_count": 67,
   "id": "63d6f065-cc04-4b3d-8fa3-f5566d124a18",
   "metadata": {},
   "outputs": [
    {
     "name": "stderr",
     "output_type": "stream",
     "text": [
      "                                                                                \r"
     ]
    },
    {
     "name": "stdout",
     "output_type": "stream",
     "text": [
      "rmse:  0.015124025795236173\n",
      "r2:  0.5399354050685081\n"
     ]
    },
    {
     "name": "stderr",
     "output_type": "stream",
     "text": [
      "[Stage 13858:>                                                      (0 + 4) / 4]\r"
     ]
    },
    {
     "name": "stdout",
     "output_type": "stream",
     "text": [
      "rmse:  0.02540514560521019\n",
      "r2:  -0.31641997320583726\n"
     ]
    },
    {
     "name": "stderr",
     "output_type": "stream",
     "text": [
      "                                                                                \r"
     ]
    }
   ],
   "source": [
    "eval_results_reg(gbr_model, train_data)\n",
    "eval_results_reg(gbr_model, test_data)"
   ]
  },
  {
   "cell_type": "code",
   "execution_count": 62,
   "id": "1dab3d0f-1ce3-45b7-9baf-c1fcecf91b8d",
   "metadata": {},
   "outputs": [],
   "source": [
    "gbr = GBTRegressor(featuresCol=\"features_norm\", labelCol=\"Volatility\", predictionCol=\"predicted_vol\", maxIter=10)\n",
    "\n",
    "\n",
    "paramGrid_gbr = ParamGridBuilder()\\\n",
    "    .addGrid(gbr.maxDepth, [6, 5,4, 3, 2]) \\\n",
    "    .addGrid(gbr.minInstancesPerNode, [1, 2,3])\\\n",
    "    .addGrid(gbr.minInfoGain, [0.0, 0.05, 0.1])\\\n",
    "    .build()\n",
    "\n",
    "\n",
    "crossval_gbr = CrossValidator(estimator=gbr,\n",
    "                      estimatorParamMaps=paramGrid_gbr,\n",
    "                      evaluator=RegressionEvaluator(labelCol=\"Volatility\", predictionCol=\"predicted_vol\", metricName=\"r2\"),\n",
    "                      numFolds=2)  "
   ]
  },
  {
   "cell_type": "code",
   "execution_count": 63,
   "id": "417894dc-65a2-4d65-8e0d-27ab0080f603",
   "metadata": {},
   "outputs": [
    {
     "name": "stderr",
     "output_type": "stream",
     "text": [
      "                                                                                \r"
     ]
    }
   ],
   "source": [
    "tuned_gbr_model = crossval_gbr.fit(train_data)"
   ]
  },
  {
   "cell_type": "code",
   "execution_count": 68,
   "id": "a638601b-c67f-453d-89e9-635aa82c7cf6",
   "metadata": {},
   "outputs": [
    {
     "name": "stderr",
     "output_type": "stream",
     "text": [
      "                                                                                \r"
     ]
    },
    {
     "name": "stdout",
     "output_type": "stream",
     "text": [
      "rmse:  0.022297593980785187\n",
      "r2:  3.3306690738754696e-16\n"
     ]
    },
    {
     "name": "stderr",
     "output_type": "stream",
     "text": [
      "                                                                                \r"
     ]
    },
    {
     "name": "stdout",
     "output_type": "stream",
     "text": [
      "rmse:  0.02216353106124524\n",
      "r2:  -0.0019106469616601007\n"
     ]
    },
    {
     "name": "stderr",
     "output_type": "stream",
     "text": [
      "                                                                                \r"
     ]
    }
   ],
   "source": [
    "eval_results_reg(tuned_gbr_model.bestModel, train_data)\n",
    "eval_results_reg(tuned_gbr_model.bestModel, test_data)"
   ]
  },
  {
   "cell_type": "code",
   "execution_count": 79,
   "id": "ac3f63f5-8372-4eee-8bfd-ed9d4fced223",
   "metadata": {},
   "outputs": [
    {
     "name": "stderr",
     "output_type": "stream",
     "text": [
      "                                                                                \r"
     ]
    }
   ],
   "source": [
    "predictions = gbr_model.transform(test_data)\n",
    "predictions2 = lr_model.transform(test_data)\n",
    "\n",
    "x_ax = range(0, predictions.count())\n",
    "y_pred_gbr = predictions.select(\"predicted_vol\").collect()\n",
    "y_pred_lr = predictions2.select(\"predicted_vol\").collect()\n",
    "\n",
    "y_orig = predictions.select(\"Volatility\").collect()  "
   ]
  },
  {
   "cell_type": "code",
   "execution_count": 81,
   "id": "d91ae275-bd3e-4ad0-9094-6a436eb8aaf1",
   "metadata": {},
   "outputs": [
    {
     "data": {
      "image/png": "[encoded data removed]",
      "text/plain": [
       "<Figure size 640x480 with 1 Axes>"
      ]
     },
     "metadata": {},
     "output_type": "display_data"
    }
   ],
   "source": [
    "plt.plot(x_ax, y_orig, label=\"Original\")\n",
    "plt.plot(x_ax, y_pred_gbr, label=\"Predicted - GBR\")\n",
    "plt.plot(x_ax, y_pred_lr, label=\"Predicted - LR\")\n",
    "\n",
    "plt.title(\"Predicted vs. Real Volatility (Test Set)\")\n",
    "plt.xlabel('Index')\n",
    "plt.ylabel('Volatility (% of Open Price)')\n",
    "plt.legend(loc='best',fancybox=True, shadow=True)\n",
    "plt.grid(True)\n",
    "plt.show()"
   ]
  }
 ],
 "metadata": {
  "kernelspec": {
   "display_name": "Python 3 (ipykernel)",
   "language": "python",
   "name": "python3"
  },
  "language_info": {
   "codemirror_mode": {
    "name": "ipython",
    "version": 3
   },
   "file_extension": ".py",
   "mimetype": "text/x-python",
   "name": "python",
   "nbconvert_exporter": "python",
   "pygments_lexer": "ipython3",
   "version": "3.11.10"
  }
 },
 "nbformat": 4,
 "nbformat_minor": 5
}
