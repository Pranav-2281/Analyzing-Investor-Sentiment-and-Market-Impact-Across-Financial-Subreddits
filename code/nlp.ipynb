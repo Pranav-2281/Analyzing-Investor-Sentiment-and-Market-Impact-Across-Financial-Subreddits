{
 "cells": [
  {
   "cell_type": "code",
   "execution_count": 1,
   "id": "78b8279a-aaf3-4c5b-8290-479a58b437dc",
   "metadata": {},
   "outputs": [
    {
     "name": "stdout",
     "output_type": "stream",
     "text": [
      "\n",
      "Downloading and Extracting Packages:\n",
      "\n",
      "\n",
      "## Package Plan ##\n",
      "\n",
      "  environment location: /opt/conda\n",
      "\n",
      "\n",
      "\n",
      "Preparing transaction: done\n",
      "Verifying transaction: done\n",
      "Executing transaction: done\n",
      "\n",
      "Note: you may need to restart the kernel to use updated packages.\n",
      "Requirement already satisfied: pyspark==3.4.0 in /opt/conda/lib/python3.11/site-packages (3.4.0)\n",
      "Requirement already satisfied: py4j==0.10.9.7 in /opt/conda/lib/python3.11/site-packages (from pyspark==3.4.0) (0.10.9.7)\n",
      "Note: you may need to restart the kernel to use updated packages.\n"
     ]
    },
    {
     "data": {
      "text/html": [
       "<script>Jupyter.notebook.kernel.restart()</script>"
      ],
      "text/plain": [
       "<IPython.core.display.HTML object>"
      ]
     },
     "execution_count": 1,
     "metadata": {},
     "output_type": "execute_result"
    }
   ],
   "source": [
    "# Setup - Run only once per Kernel App\n",
    "%conda install https://anaconda.org/conda-forge/openjdk/11.0.1/download/linux-64/openjdk-11.0.1-hacce0ff_1021.tar.bz2\n",
    "\n",
    "# install PySpark\n",
    "%pip install pyspark==3.4.0\n",
    "\n",
    "# restart kernel\n",
    "from IPython.core.display import HTML\n",
    "HTML(\"<script>Jupyter.notebook.kernel.restart()</script>\")"
   ]
  },
  {
   "cell_type": "code",
   "execution_count": 2,
   "id": "b455c661-b4e1-4873-b06f-06a62a16f976",
   "metadata": {},
   "outputs": [
    {
     "name": "stdout",
     "output_type": "stream",
     "text": [
      "Collecting spark-nlp==5.5.0\n",
      "  Using cached spark_nlp-5.5.0-py2.py3-none-any.whl.metadata (19 kB)\n",
      "Using cached spark_nlp-5.5.0-py2.py3-none-any.whl (620 kB)\n",
      "Installing collected packages: spark-nlp\n",
      "  Attempting uninstall: spark-nlp\n",
      "    Found existing installation: spark-nlp 5.5.1\n",
      "    Uninstalling spark-nlp-5.5.1:\n",
      "      Successfully uninstalled spark-nlp-5.5.1\n",
      "Successfully installed spark-nlp-5.5.0\n",
      "Requirement already satisfied: spark-nlp in /opt/conda/lib/python3.11/site-packages (5.5.0)\n",
      "Collecting spark-nlp\n",
      "  Using cached spark_nlp-5.5.1-py2.py3-none-any.whl.metadata (19 kB)\n",
      "Using cached spark_nlp-5.5.1-py2.py3-none-any.whl (626 kB)\n",
      "Installing collected packages: spark-nlp\n",
      "  Attempting uninstall: spark-nlp\n",
      "    Found existing installation: spark-nlp 5.5.0\n",
      "    Uninstalling spark-nlp-5.5.0:\n",
      "      Successfully uninstalled spark-nlp-5.5.0\n",
      "Successfully installed spark-nlp-5.5.1\n"
     ]
    }
   ],
   "source": [
    "!pip install spark-nlp==5.5.0\n",
    "!pip install spark-nlp --upgrade"
   ]
  },
  {
   "cell_type": "code",
   "execution_count": 4,
   "id": "8f6e399f-469e-4a87-8d5f-d7fb3aa62670",
   "metadata": {},
   "outputs": [
    {
     "name": "stdout",
     "output_type": "stream",
     "text": [
      ":: loading settings :: url = jar:file:/opt/conda/lib/python3.11/site-packages/pyspark/jars/ivy-2.5.1.jar!/org/apache/ivy/core/settings/ivysettings.xml\n"
     ]
    },
    {
     "name": "stderr",
     "output_type": "stream",
     "text": [
      "Ivy Default Cache set to: /home/sagemaker-user/.ivy2/cache\n",
      "The jars for the packages stored in: /home/sagemaker-user/.ivy2/jars\n",
      "com.johnsnowlabs.nlp#spark-nlp_2.12 added as a dependency\n",
      ":: resolving dependencies :: org.apache.spark#spark-submit-parent-080e928f-fbfd-4d80-b442-13f0814e4a82;1.0\n",
      "\tconfs: [default]\n",
      "\tfound com.johnsnowlabs.nlp#spark-nlp_2.12;5.5.1 in central\n",
      "\tfound com.typesafe#config;1.4.2 in central\n",
      "\tfound org.rocksdb#rocksdbjni;6.29.5 in central\n",
      "\tfound com.amazonaws#aws-java-sdk-s3;1.12.500 in central\n",
      "\tfound com.amazonaws#aws-java-sdk-kms;1.12.500 in central\n",
      "\tfound com.amazonaws#aws-java-sdk-core;1.12.500 in central\n",
      "\tfound commons-logging#commons-logging;1.1.3 in central\n",
      "\tfound commons-codec#commons-codec;1.15 in central\n",
      "\tfound org.apache.httpcomponents#httpclient;4.5.13 in central\n",
      "\tfound org.apache.httpcomponents#httpcore;4.4.13 in central\n",
      "\tfound software.amazon.ion#ion-java;1.0.2 in central\n",
      "\tfound joda-time#joda-time;2.8.1 in central\n",
      "\tfound com.amazonaws#jmespath-java;1.12.500 in central\n",
      "\tfound com.github.universal-automata#liblevenshtein;3.0.0 in central\n",
      "\tfound com.google.protobuf#protobuf-java-util;3.0.0-beta-3 in central\n",
      "\tfound com.google.protobuf#protobuf-java;3.0.0-beta-3 in central\n",
      "\tfound com.google.code.gson#gson;2.3 in central\n",
      "\tfound it.unimi.dsi#fastutil;7.0.12 in central\n",
      "\tfound org.projectlombok#lombok;1.16.8 in central\n",
      "\tfound com.google.cloud#google-cloud-storage;2.20.1 in central\n",
      "\tfound com.google.guava#guava;31.1-jre in central\n",
      "\tfound com.google.guava#failureaccess;1.0.1 in central\n",
      "\tfound com.google.guava#listenablefuture;9999.0-empty-to-avoid-conflict-with-guava in central\n",
      "\tfound com.google.errorprone#error_prone_annotations;2.18.0 in central\n",
      "\tfound com.google.j2objc#j2objc-annotations;1.3 in central\n",
      "\tfound com.google.http-client#google-http-client;1.43.0 in central\n",
      "\tfound io.opencensus#opencensus-contrib-http-util;0.31.1 in central\n",
      "\tfound com.google.http-client#google-http-client-jackson2;1.43.0 in central\n",
      "\tfound com.google.http-client#google-http-client-gson;1.43.0 in central\n",
      "\tfound com.google.api-client#google-api-client;2.2.0 in central\n",
      "\tfound com.google.oauth-client#google-oauth-client;1.34.1 in central\n",
      "\tfound com.google.http-client#google-http-client-apache-v2;1.43.0 in central\n",
      "\tfound com.google.apis#google-api-services-storage;v1-rev20220705-2.0.0 in central\n",
      "\tfound com.google.code.gson#gson;2.10.1 in central\n",
      "\tfound com.google.cloud#google-cloud-core;2.12.0 in central\n",
      "\tfound io.grpc#grpc-context;1.53.0 in central\n",
      "\tfound com.google.auto.value#auto-value-annotations;1.10.1 in central\n",
      "\tfound com.google.auto.value#auto-value;1.10.1 in central\n",
      "\tfound javax.annotation#javax.annotation-api;1.3.2 in central\n",
      "\tfound com.google.cloud#google-cloud-core-http;2.12.0 in central\n",
      "\tfound com.google.http-client#google-http-client-appengine;1.43.0 in central\n",
      "\tfound com.google.api#gax-httpjson;0.108.2 in central\n",
      "\tfound com.google.cloud#google-cloud-core-grpc;2.12.0 in central\n",
      "\tfound io.grpc#grpc-alts;1.53.0 in central\n",
      "\tfound io.grpc#grpc-grpclb;1.53.0 in central\n",
      "\tfound org.conscrypt#conscrypt-openjdk-uber;2.5.2 in central\n",
      "\tfound io.grpc#grpc-auth;1.53.0 in central\n",
      "\tfound io.grpc#grpc-protobuf;1.53.0 in central\n",
      "\tfound io.grpc#grpc-protobuf-lite;1.53.0 in central\n",
      "\tfound io.grpc#grpc-core;1.53.0 in central\n",
      "\tfound com.google.api#gax;2.23.2 in central\n",
      "\tfound com.google.api#gax-grpc;2.23.2 in central\n",
      "\tfound com.google.auth#google-auth-library-credentials;1.16.0 in central\n",
      "\tfound com.google.auth#google-auth-library-oauth2-http;1.16.0 in central\n",
      "\tfound com.google.api#api-common;2.6.2 in central\n",
      "\tfound io.opencensus#opencensus-api;0.31.1 in central\n",
      "\tfound com.google.api.grpc#proto-google-iam-v1;1.9.2 in central\n",
      "\tfound com.google.protobuf#protobuf-java;3.21.12 in central\n",
      "\tfound com.google.protobuf#protobuf-java-util;3.21.12 in central\n",
      "\tfound com.google.api.grpc#proto-google-common-protos;2.14.2 in central\n",
      "\tfound org.threeten#threetenbp;1.6.5 in central\n",
      "\tfound com.google.api.grpc#proto-google-cloud-storage-v2;2.20.1-alpha in central\n",
      "\tfound com.google.api.grpc#grpc-google-cloud-storage-v2;2.20.1-alpha in central\n",
      "\tfound com.google.api.grpc#gapic-google-cloud-storage-v2;2.20.1-alpha in central\n",
      "\tfound com.google.code.findbugs#jsr305;3.0.2 in central\n",
      "\tfound io.grpc#grpc-api;1.53.0 in central\n",
      "\tfound io.grpc#grpc-stub;1.53.0 in central\n",
      "\tfound org.checkerframework#checker-qual;3.31.0 in central\n",
      "\tfound io.perfmark#perfmark-api;0.26.0 in central\n",
      "\tfound com.google.android#annotations;4.1.1.4 in central\n",
      "\tfound org.codehaus.mojo#animal-sniffer-annotations;1.22 in central\n",
      "\tfound io.opencensus#opencensus-proto;0.2.0 in central\n",
      "\tfound io.grpc#grpc-services;1.53.0 in central\n",
      "\tfound com.google.re2j#re2j;1.6 in central\n",
      "\tfound io.grpc#grpc-netty-shaded;1.53.0 in central\n",
      "\tfound io.grpc#grpc-googleapis;1.53.0 in central\n",
      "\tfound io.grpc#grpc-xds;1.53.0 in central\n",
      "\tfound com.navigamez#greex;1.0 in central\n",
      "\tfound dk.brics.automaton#automaton;1.11-8 in central\n",
      "\tfound com.johnsnowlabs.nlp#tensorflow-cpu_2.12;0.4.4 in central\n",
      "\tfound com.microsoft.onnxruntime#onnxruntime;1.19.2 in central\n",
      "\tfound com.johnsnowlabs.nlp#jsl-llamacpp-cpu_2.12;0.1.4 in central\n",
      "\tfound org.jetbrains#annotations;24.1.0 in central\n",
      "\tfound com.johnsnowlabs.nlp#jsl-openvino-cpu_2.12;0.1.0 in central\n",
      ":: resolution report :: resolve 1530ms :: artifacts dl 47ms\n",
      "\t:: modules in use:\n",
      "\tcom.amazonaws#aws-java-sdk-core;1.12.500 from central in [default]\n",
      "\tcom.amazonaws#aws-java-sdk-kms;1.12.500 from central in [default]\n",
      "\tcom.amazonaws#aws-java-sdk-s3;1.12.500 from central in [default]\n",
      "\tcom.amazonaws#jmespath-java;1.12.500 from central in [default]\n",
      "\tcom.github.universal-automata#liblevenshtein;3.0.0 from central in [default]\n",
      "\tcom.google.android#annotations;4.1.1.4 from central in [default]\n",
      "\tcom.google.api#api-common;2.6.2 from central in [default]\n",
      "\tcom.google.api#gax;2.23.2 from central in [default]\n",
      "\tcom.google.api#gax-grpc;2.23.2 from central in [default]\n",
      "\tcom.google.api#gax-httpjson;0.108.2 from central in [default]\n",
      "\tcom.google.api-client#google-api-client;2.2.0 from central in [default]\n",
      "\tcom.google.api.grpc#gapic-google-cloud-storage-v2;2.20.1-alpha from central in [default]\n",
      "\tcom.google.api.grpc#grpc-google-cloud-storage-v2;2.20.1-alpha from central in [default]\n",
      "\tcom.google.api.grpc#proto-google-cloud-storage-v2;2.20.1-alpha from central in [default]\n",
      "\tcom.google.api.grpc#proto-google-common-protos;2.14.2 from central in [default]\n",
      "\tcom.google.api.grpc#proto-google-iam-v1;1.9.2 from central in [default]\n",
      "\tcom.google.apis#google-api-services-storage;v1-rev20220705-2.0.0 from central in [default]\n",
      "\tcom.google.auth#google-auth-library-credentials;1.16.0 from central in [default]\n",
      "\tcom.google.auth#google-auth-library-oauth2-http;1.16.0 from central in [default]\n",
      "\tcom.google.auto.value#auto-value;1.10.1 from central in [default]\n",
      "\tcom.google.auto.value#auto-value-annotations;1.10.1 from central in [default]\n",
      "\tcom.google.cloud#google-cloud-core;2.12.0 from central in [default]\n",
      "\tcom.google.cloud#google-cloud-core-grpc;2.12.0 from central in [default]\n",
      "\tcom.google.cloud#google-cloud-core-http;2.12.0 from central in [default]\n",
      "\tcom.google.cloud#google-cloud-storage;2.20.1 from central in [default]\n",
      "\tcom.google.code.findbugs#jsr305;3.0.2 from central in [default]\n",
      "\tcom.google.code.gson#gson;2.10.1 from central in [default]\n",
      "\tcom.google.errorprone#error_prone_annotations;2.18.0 from central in [default]\n",
      "\tcom.google.guava#failureaccess;1.0.1 from central in [default]\n",
      "\tcom.google.guava#guava;31.1-jre from central in [default]\n",
      "\tcom.google.guava#listenablefuture;9999.0-empty-to-avoid-conflict-with-guava from central in [default]\n",
      "\tcom.google.http-client#google-http-client;1.43.0 from central in [default]\n",
      "\tcom.google.http-client#google-http-client-apache-v2;1.43.0 from central in [default]\n",
      "\tcom.google.http-client#google-http-client-appengine;1.43.0 from central in [default]\n",
      "\tcom.google.http-client#google-http-client-gson;1.43.0 from central in [default]\n",
      "\tcom.google.http-client#google-http-client-jackson2;1.43.0 from central in [default]\n",
      "\tcom.google.j2objc#j2objc-annotations;1.3 from central in [default]\n",
      "\tcom.google.oauth-client#google-oauth-client;1.34.1 from central in [default]\n",
      "\tcom.google.protobuf#protobuf-java;3.21.12 from central in [default]\n",
      "\tcom.google.protobuf#protobuf-java-util;3.21.12 from central in [default]\n",
      "\tcom.google.re2j#re2j;1.6 from central in [default]\n",
      "\tcom.johnsnowlabs.nlp#jsl-llamacpp-cpu_2.12;0.1.4 from central in [default]\n",
      "\tcom.johnsnowlabs.nlp#jsl-openvino-cpu_2.12;0.1.0 from central in [default]\n",
      "\tcom.johnsnowlabs.nlp#spark-nlp_2.12;5.5.1 from central in [default]\n",
      "\tcom.johnsnowlabs.nlp#tensorflow-cpu_2.12;0.4.4 from central in [default]\n",
      "\tcom.microsoft.onnxruntime#onnxruntime;1.19.2 from central in [default]\n",
      "\tcom.navigamez#greex;1.0 from central in [default]\n",
      "\tcom.typesafe#config;1.4.2 from central in [default]\n",
      "\tcommons-codec#commons-codec;1.15 from central in [default]\n",
      "\tcommons-logging#commons-logging;1.1.3 from central in [default]\n",
      "\tdk.brics.automaton#automaton;1.11-8 from central in [default]\n",
      "\tio.grpc#grpc-alts;1.53.0 from central in [default]\n",
      "\tio.grpc#grpc-api;1.53.0 from central in [default]\n",
      "\tio.grpc#grpc-auth;1.53.0 from central in [default]\n",
      "\tio.grpc#grpc-context;1.53.0 from central in [default]\n",
      "\tio.grpc#grpc-core;1.53.0 from central in [default]\n",
      "\tio.grpc#grpc-googleapis;1.53.0 from central in [default]\n",
      "\tio.grpc#grpc-grpclb;1.53.0 from central in [default]\n",
      "\tio.grpc#grpc-netty-shaded;1.53.0 from central in [default]\n",
      "\tio.grpc#grpc-protobuf;1.53.0 from central in [default]\n",
      "\tio.grpc#grpc-protobuf-lite;1.53.0 from central in [default]\n",
      "\tio.grpc#grpc-services;1.53.0 from central in [default]\n",
      "\tio.grpc#grpc-stub;1.53.0 from central in [default]\n",
      "\tio.grpc#grpc-xds;1.53.0 from central in [default]\n",
      "\tio.opencensus#opencensus-api;0.31.1 from central in [default]\n",
      "\tio.opencensus#opencensus-contrib-http-util;0.31.1 from central in [default]\n",
      "\tio.opencensus#opencensus-proto;0.2.0 from central in [default]\n",
      "\tio.perfmark#perfmark-api;0.26.0 from central in [default]\n",
      "\tit.unimi.dsi#fastutil;7.0.12 from central in [default]\n",
      "\tjavax.annotation#javax.annotation-api;1.3.2 from central in [default]\n",
      "\tjoda-time#joda-time;2.8.1 from central in [default]\n",
      "\torg.apache.httpcomponents#httpclient;4.5.13 from central in [default]\n",
      "\torg.apache.httpcomponents#httpcore;4.4.13 from central in [default]\n",
      "\torg.checkerframework#checker-qual;3.31.0 from central in [default]\n",
      "\torg.codehaus.mojo#animal-sniffer-annotations;1.22 from central in [default]\n",
      "\torg.conscrypt#conscrypt-openjdk-uber;2.5.2 from central in [default]\n",
      "\torg.jetbrains#annotations;24.1.0 from central in [default]\n",
      "\torg.projectlombok#lombok;1.16.8 from central in [default]\n",
      "\torg.rocksdb#rocksdbjni;6.29.5 from central in [default]\n",
      "\torg.threeten#threetenbp;1.6.5 from central in [default]\n",
      "\tsoftware.amazon.ion#ion-java;1.0.2 from central in [default]\n",
      "\t:: evicted modules:\n",
      "\tcommons-logging#commons-logging;1.2 by [commons-logging#commons-logging;1.1.3] in [default]\n",
      "\tcommons-codec#commons-codec;1.11 by [commons-codec#commons-codec;1.15] in [default]\n",
      "\tcom.google.protobuf#protobuf-java-util;3.0.0-beta-3 by [com.google.protobuf#protobuf-java-util;3.21.12] in [default]\n",
      "\tcom.google.protobuf#protobuf-java;3.0.0-beta-3 by [com.google.protobuf#protobuf-java;3.21.12] in [default]\n",
      "\tcom.google.code.gson#gson;2.3 by [com.google.code.gson#gson;2.10.1] in [default]\n",
      "\t---------------------------------------------------------------------\n",
      "\t|                  |            modules            ||   artifacts   |\n",
      "\t|       conf       | number| search|dwnlded|evicted|| number|dwnlded|\n",
      "\t---------------------------------------------------------------------\n",
      "\t|      default     |   86  |   0   |   0   |   5   ||   81  |   0   |\n",
      "\t---------------------------------------------------------------------\n",
      ":: retrieving :: org.apache.spark#spark-submit-parent-080e928f-fbfd-4d80-b442-13f0814e4a82\n",
      "\tconfs: [default]\n",
      "\t0 artifacts copied, 81 already retrieved (0kB/30ms)\n",
      "24/12/05 19:45:42 WARN NativeCodeLoader: Unable to load native-hadoop library for your platform... using builtin-java classes where applicable\n",
      "Setting default log level to \"WARN\".\n",
      "To adjust logging level use sc.setLogLevel(newLevel). For SparkR, use setLogLevel(newLevel).\n",
      "24/12/05 19:45:44 WARN Utils: Service 'SparkUI' could not bind on port 4040. Attempting port 4041.\n"
     ]
    },
    {
     "data": {
      "text/plain": [
       "'3.4.0'"
      ]
     },
     "execution_count": 4,
     "metadata": {},
     "output_type": "execute_result"
    }
   ],
   "source": [
    "import sparknlp\n",
    "spark = sparknlp.start()\n",
    "\n",
    "sparknlp.version()\n",
    "spark.version"
   ]
  },
  {
   "cell_type": "code",
   "execution_count": 3,
   "id": "fcbf4340-069b-4266-a89f-994fd150bd55",
   "metadata": {},
   "outputs": [],
   "source": [
    "import json\n",
    "import sparknlp\n",
    "import numpy as np\n",
    "import pandas as pd\n",
    "from sparknlp.base import *\n",
    "from sparknlp.annotator import *\n",
    "from sparknlp.pretrained import PretrainedPipeline\n",
    "from pyspark.sql import functions as f\n",
    "from pyspark.sql import SparkSession\n",
    "from pyspark.sql.functions import col\n",
    "from pyspark.ml.feature import Tokenizer, CountVectorizer, IDF\n",
    "from pyspark.ml import Pipeline"
   ]
  },
  {
   "cell_type": "code",
   "execution_count": 6,
   "id": "911f6b5d-53e6-4d2f-9e51-e0517f43d919",
   "metadata": {
    "scrolled": true
   },
   "outputs": [
    {
     "name": "stdout",
     "output_type": "stream",
     "text": [
      "sparknlp version: 5.5.1\n"
     ]
    },
    {
     "name": "stderr",
     "output_type": "stream",
     "text": [
      "24/12/05 19:45:52 WARN SparkSession: Using an existing Spark session; only runtime SQL configurations will take effect.\n"
     ]
    }
   ],
   "source": [
    "\n",
    "print(f\"sparknlp version: {sparknlp.version()}\")\n",
    "\n",
    "spark = SparkSession.builder \\\n",
    "    .appName(\"Spark NLP\")\\\n",
    "    .master(\"local[*]\")\\\n",
    "    .config(\"spark.driver.memory\",\"16G\")\\\n",
    "    .config(\"spark.driver.maxResultSize\", \"0\") \\\n",
    "    .config(\"spark.kryoserializer.buffer.max\", \"2000M\")\\\n",
    "    .config(\"spark.jars.packages\", \"com.johnsnowlabs.nlp:spark-nlp_2.12:5.1.3\")\\\n",
    "    .getOrCreate()\n",
    "\n",
    "#"
   ]
  },
  {
   "cell_type": "code",
   "execution_count": 3,
   "id": "f35c5734-bba2-41d8-a400-505f88fe1a47",
   "metadata": {},
   "outputs": [
    {
     "name": "stdout",
     "output_type": "stream",
     "text": [
      "openjdk version \"11.0.1-internal\" 2018-10-16\n",
      "OpenJDK Runtime Environment (build 11.0.1-internal+0-adhoc..src)\n",
      "OpenJDK 64-Bit Server VM (build 11.0.1-internal+0-adhoc..src, mixed mode)\n"
     ]
    }
   ],
   "source": [
    "tokenizer = Tokenizer(inputCol=\"text\", outputCol=\"words\")\n",
    "# Vectorize the words using CountVectorizer (instead of HashingTF)\n",
    "countVectorizer = CountVectorizer(inputCol=\"words\", outputCol=\"raw_features\", vocabSize=1000, minDF=1)\n",
    "# Compute the IDF (Inverse Document Frequency)\n",
    "idf = IDF(inputCol=\"raw_features\", outputCol=\"tfidf_features\")\n",
    "# Build the pipeline\n",
    "pipeline = Pipeline(stages=[tokenizer, countVectorizer, idf])\n",
    "\n",
    "# Fit and transform the data\n",
    "model = pipeline.fit(df)\n",
    "result = model.transform(df)"
   ]
  },
  {
   "cell_type": "code",
   "execution_count": 4,
   "id": "cb3be505-64d2-4594-88f4-147898c78665",
   "metadata": {},
   "outputs": [
    {
     "name": "stderr",
     "output_type": "stream",
     "text": [
      "Warning: Ignoring non-Spark config property: fs.s3a.aws.credentials.provider\n"
     ]
    },
    {
     "name": "stdout",
     "output_type": "stream",
     "text": [
      ":: loading settings :: url = jar:file:/opt/conda/lib/python3.11/site-packages/pyspark/jars/ivy-2.5.1.jar!/org/apache/ivy/core/settings/ivysettings.xml\n"
     ]
    },
    {
     "name": "stderr",
     "output_type": "stream",
     "text": [
      "Ivy Default Cache set to: /home/sagemaker-user/.ivy2/cache\n",
      "The jars for the packages stored in: /home/sagemaker-user/.ivy2/jars\n",
      "org.apache.hadoop#hadoop-aws added as a dependency\n",
      ":: resolving dependencies :: org.apache.spark#spark-submit-parent-fa249e36-9f90-4e6a-9ed9-057b2b6eb57a;1.0\n",
      "\tconfs: [default]\n",
      "\tfound org.apache.hadoop#hadoop-aws;3.2.2 in central\n",
      "\tfound com.amazonaws#aws-java-sdk-bundle;1.11.563 in central\n",
      ":: resolution report :: resolve 194ms :: artifacts dl 7ms\n",
      "\t:: modules in use:\n",
      "\tcom.amazonaws#aws-java-sdk-bundle;1.11.563 from central in [default]\n",
      "\torg.apache.hadoop#hadoop-aws;3.2.2 from central in [default]\n",
      "\t---------------------------------------------------------------------\n",
      "\t|                  |            modules            ||   artifacts   |\n",
      "\t|       conf       | number| search|dwnlded|evicted|| number|dwnlded|\n",
      "\t---------------------------------------------------------------------\n",
      "\t|      default     |   2   |   0   |   0   |   0   ||   2   |   0   |\n",
      "\t---------------------------------------------------------------------\n",
      ":: retrieving :: org.apache.spark#spark-submit-parent-fa249e36-9f90-4e6a-9ed9-057b2b6eb57a\n",
      "\tconfs: [default]\n",
      "\t0 artifacts copied, 2 already retrieved (0kB/5ms)\n",
      "24/12/05 19:47:02 WARN NativeCodeLoader: Unable to load native-hadoop library for your platform... using builtin-java classes where applicable\n",
      "Setting default log level to \"WARN\".\n",
      "To adjust logging level use sc.setLogLevel(newLevel). For SparkR, use setLogLevel(newLevel).\n",
      "24/12/05 19:47:03 WARN Utils: Service 'SparkUI' could not bind on port 4040. Attempting port 4041.\n"
     ]
    },
    {
     "name": "stdout",
     "output_type": "stream",
     "text": [
      "3.4.0\n"
     ]
    }
   ],
   "source": [
    "# Import pyspark and build Spark session\n",
    "spark = (\n",
    "    SparkSession.builder.appName(\"PySparkApp\")\n",
    "    .config(\"spark.jars.packages\", \"org.apache.hadoop:hadoop-aws:3.2.2\")\n",
    "    .config(\n",
    "        \"fs.s3a.aws.credentials.provider\",\n",
    "        \"com.amazonaws.auth.ContainerCredentialsProvider\",\n",
    "    )\n",
    "    .getOrCreate()\n",
    ")\n",
    "\n",
    "print(spark.version)"
   ]
  },
  {
   "cell_type": "code",
   "execution_count": 5,
   "id": "248d45d6-0495-490d-813a-ac0854d4826c",
   "metadata": {
    "scrolled": true
   },
   "outputs": [
    {
     "name": "stderr",
     "output_type": "stream",
     "text": [
      "24/12/05 19:47:05 WARN MetricsConfig: Cannot locate configuration: tried hadoop-metrics2-s3a-file-system.properties,hadoop-metrics2.properties\n",
      "24/12/05 19:47:06 WARN FileSystem: Failed to initialize fileystem s3a://sagemaker-us-east-1-249863557958/project/comments: java.io.FileNotFoundException: Bucket sagemaker-us-east-1-249863557958 does not exist\n",
      "24/12/05 19:47:06 WARN FileStreamSink: Assume no metadata directory. Error while looking for metadata directory in the path: s3a://sagemaker-us-east-1-249863557958/project/comments.\n",
      "java.io.FileNotFoundException: Bucket sagemaker-us-east-1-249863557958 does not exist\n",
      "\tat org.apache.hadoop.fs.s3a.S3AFileSystem.verifyBucketExists(S3AFileSystem.java:393)\n",
      "\tat org.apache.hadoop.fs.s3a.S3AFileSystem.initialize(S3AFileSystem.java:322)\n",
      "\tat org.apache.hadoop.fs.FileSystem.createFileSystem(FileSystem.java:3469)\n",
      "\tat org.apache.hadoop.fs.FileSystem.access$300(FileSystem.java:174)\n",
      "\tat org.apache.hadoop.fs.FileSystem$Cache.getInternal(FileSystem.java:3574)\n",
      "\tat org.apache.hadoop.fs.FileSystem$Cache.get(FileSystem.java:3521)\n",
      "\tat org.apache.hadoop.fs.FileSystem.get(FileSystem.java:540)\n",
      "\tat org.apache.hadoop.fs.Path.getFileSystem(Path.java:365)\n",
      "\tat org.apache.spark.sql.execution.streaming.FileStreamSink$.hasMetadata(FileStreamSink.scala:53)\n",
      "\tat org.apache.spark.sql.execution.datasources.DataSource.resolveRelation(DataSource.scala:366)\n",
      "\tat org.apache.spark.sql.DataFrameReader.loadV1Source(DataFrameReader.scala:229)\n",
      "\tat org.apache.spark.sql.DataFrameReader.$anonfun$load$2(DataFrameReader.scala:211)\n",
      "\tat scala.Option.getOrElse(Option.scala:189)\n",
      "\tat org.apache.spark.sql.DataFrameReader.load(DataFrameReader.scala:211)\n",
      "\tat org.apache.spark.sql.DataFrameReader.parquet(DataFrameReader.scala:563)\n",
      "\tat java.base/jdk.internal.reflect.NativeMethodAccessorImpl.invoke0(Native Method)\n",
      "\tat java.base/jdk.internal.reflect.NativeMethodAccessorImpl.invoke(NativeMethodAccessorImpl.java:62)\n",
      "\tat java.base/jdk.internal.reflect.DelegatingMethodAccessorImpl.invoke(DelegatingMethodAccessorImpl.java:43)\n",
      "\tat java.base/java.lang.reflect.Method.invoke(Method.java:566)\n",
      "\tat py4j.reflection.MethodInvoker.invoke(MethodInvoker.java:244)\n",
      "\tat py4j.reflection.ReflectionEngine.invoke(ReflectionEngine.java:374)\n",
      "\tat py4j.Gateway.invoke(Gateway.java:282)\n",
      "\tat py4j.commands.AbstractCommand.invokeMethod(AbstractCommand.java:132)\n",
      "\tat py4j.commands.CallCommand.execute(CallCommand.java:79)\n",
      "\tat py4j.ClientServerConnection.waitForCommands(ClientServerConnection.java:182)\n",
      "\tat py4j.ClientServerConnection.run(ClientServerConnection.java:106)\n",
      "\tat java.base/java.lang.Thread.run(Thread.java:834)\n",
      "24/12/05 19:47:06 WARN MetricsConfig: Cannot locate configuration: tried hadoop-metrics2-s3a-file-system.properties,hadoop-metrics2.properties\n",
      "24/12/05 19:47:06 WARN FileSystem: Failed to initialize fileystem s3a://sagemaker-us-east-1-249863557958/project/comments: java.io.FileNotFoundException: Bucket sagemaker-us-east-1-249863557958 does not exist\n"
     ]
    },
    {
     "ename": "Py4JJavaError",
     "evalue": "An error occurred while calling o32.parquet.\n: java.io.FileNotFoundException: Bucket sagemaker-us-east-1-249863557958 does not exist\n\tat org.apache.hadoop.fs.s3a.S3AFileSystem.verifyBucketExists(S3AFileSystem.java:393)\n\tat org.apache.hadoop.fs.s3a.S3AFileSystem.initialize(S3AFileSystem.java:322)\n\tat org.apache.hadoop.fs.FileSystem.createFileSystem(FileSystem.java:3469)\n\tat org.apache.hadoop.fs.FileSystem.access$300(FileSystem.java:174)\n\tat org.apache.hadoop.fs.FileSystem$Cache.getInternal(FileSystem.java:3574)\n\tat org.apache.hadoop.fs.FileSystem$Cache.get(FileSystem.java:3521)\n\tat org.apache.hadoop.fs.FileSystem.get(FileSystem.java:540)\n\tat org.apache.hadoop.fs.Path.getFileSystem(Path.java:365)\n\tat org.apache.spark.sql.execution.datasources.DataSource$.$anonfun$checkAndGlobPathIfNecessary$1(DataSource.scala:724)\n\tat scala.collection.immutable.List.map(List.scala:293)\n\tat org.apache.spark.sql.execution.datasources.DataSource$.checkAndGlobPathIfNecessary(DataSource.scala:722)\n\tat org.apache.spark.sql.execution.datasources.DataSource.checkAndGlobPathIfNecessary(DataSource.scala:551)\n\tat org.apache.spark.sql.execution.datasources.DataSource.resolveRelation(DataSource.scala:404)\n\tat org.apache.spark.sql.DataFrameReader.loadV1Source(DataFrameReader.scala:229)\n\tat org.apache.spark.sql.DataFrameReader.$anonfun$load$2(DataFrameReader.scala:211)\n\tat scala.Option.getOrElse(Option.scala:189)\n\tat org.apache.spark.sql.DataFrameReader.load(DataFrameReader.scala:211)\n\tat org.apache.spark.sql.DataFrameReader.parquet(DataFrameReader.scala:563)\n\tat java.base/jdk.internal.reflect.NativeMethodAccessorImpl.invoke0(Native Method)\n\tat java.base/jdk.internal.reflect.NativeMethodAccessorImpl.invoke(NativeMethodAccessorImpl.java:62)\n\tat java.base/jdk.internal.reflect.DelegatingMethodAccessorImpl.invoke(DelegatingMethodAccessorImpl.java:43)\n\tat java.base/java.lang.reflect.Method.invoke(Method.java:566)\n\tat py4j.reflection.MethodInvoker.invoke(MethodInvoker.java:244)\n\tat py4j.reflection.ReflectionEngine.invoke(ReflectionEngine.java:374)\n\tat py4j.Gateway.invoke(Gateway.java:282)\n\tat py4j.commands.AbstractCommand.invokeMethod(AbstractCommand.java:132)\n\tat py4j.commands.CallCommand.execute(CallCommand.java:79)\n\tat py4j.ClientServerConnection.waitForCommands(ClientServerConnection.java:182)\n\tat py4j.ClientServerConnection.run(ClientServerConnection.java:106)\n\tat java.base/java.lang.Thread.run(Thread.java:834)\n",
     "output_type": "error",
     "traceback": [
      "\u001b[0;31m---------------------------------------------------------------------------\u001b[0m",
      "\u001b[0;31mPy4JJavaError\u001b[0m                             Traceback (most recent call last)",
      "File \u001b[0;32m<timed exec>:1\u001b[0m\n",
      "File \u001b[0;32m/opt/conda/lib/python3.11/site-packages/pyspark/sql/readwriter.py:531\u001b[0m, in \u001b[0;36mDataFrameReader.parquet\u001b[0;34m(self, *paths, **options)\u001b[0m\n\u001b[1;32m    520\u001b[0m int96RebaseMode \u001b[38;5;241m=\u001b[39m options\u001b[38;5;241m.\u001b[39mget(\u001b[38;5;124m\"\u001b[39m\u001b[38;5;124mint96RebaseMode\u001b[39m\u001b[38;5;124m\"\u001b[39m, \u001b[38;5;28;01mNone\u001b[39;00m)\n\u001b[1;32m    521\u001b[0m \u001b[38;5;28mself\u001b[39m\u001b[38;5;241m.\u001b[39m_set_opts(\n\u001b[1;32m    522\u001b[0m     mergeSchema\u001b[38;5;241m=\u001b[39mmergeSchema,\n\u001b[1;32m    523\u001b[0m     pathGlobFilter\u001b[38;5;241m=\u001b[39mpathGlobFilter,\n\u001b[0;32m   (...)\u001b[0m\n\u001b[1;32m    528\u001b[0m     int96RebaseMode\u001b[38;5;241m=\u001b[39mint96RebaseMode,\n\u001b[1;32m    529\u001b[0m )\n\u001b[0;32m--> 531\u001b[0m \u001b[38;5;28;01mreturn\u001b[39;00m \u001b[38;5;28mself\u001b[39m\u001b[38;5;241m.\u001b[39m_df(\u001b[38;5;28;43mself\u001b[39;49m\u001b[38;5;241;43m.\u001b[39;49m\u001b[43m_jreader\u001b[49m\u001b[38;5;241;43m.\u001b[39;49m\u001b[43mparquet\u001b[49m\u001b[43m(\u001b[49m\u001b[43m_to_seq\u001b[49m\u001b[43m(\u001b[49m\u001b[38;5;28;43mself\u001b[39;49m\u001b[38;5;241;43m.\u001b[39;49m\u001b[43m_spark\u001b[49m\u001b[38;5;241;43m.\u001b[39;49m\u001b[43m_sc\u001b[49m\u001b[43m,\u001b[49m\u001b[43m \u001b[49m\u001b[43mpaths\u001b[49m\u001b[43m)\u001b[49m\u001b[43m)\u001b[49m)\n",
      "File \u001b[0;32m/opt/conda/lib/python3.11/site-packages/py4j/java_gateway.py:1322\u001b[0m, in \u001b[0;36mJavaMember.__call__\u001b[0;34m(self, *args)\u001b[0m\n\u001b[1;32m   1316\u001b[0m command \u001b[38;5;241m=\u001b[39m proto\u001b[38;5;241m.\u001b[39mCALL_COMMAND_NAME \u001b[38;5;241m+\u001b[39m\\\n\u001b[1;32m   1317\u001b[0m     \u001b[38;5;28mself\u001b[39m\u001b[38;5;241m.\u001b[39mcommand_header \u001b[38;5;241m+\u001b[39m\\\n\u001b[1;32m   1318\u001b[0m     args_command \u001b[38;5;241m+\u001b[39m\\\n\u001b[1;32m   1319\u001b[0m     proto\u001b[38;5;241m.\u001b[39mEND_COMMAND_PART\n\u001b[1;32m   1321\u001b[0m answer \u001b[38;5;241m=\u001b[39m \u001b[38;5;28mself\u001b[39m\u001b[38;5;241m.\u001b[39mgateway_client\u001b[38;5;241m.\u001b[39msend_command(command)\n\u001b[0;32m-> 1322\u001b[0m return_value \u001b[38;5;241m=\u001b[39m \u001b[43mget_return_value\u001b[49m\u001b[43m(\u001b[49m\n\u001b[1;32m   1323\u001b[0m \u001b[43m    \u001b[49m\u001b[43manswer\u001b[49m\u001b[43m,\u001b[49m\u001b[43m \u001b[49m\u001b[38;5;28;43mself\u001b[39;49m\u001b[38;5;241;43m.\u001b[39;49m\u001b[43mgateway_client\u001b[49m\u001b[43m,\u001b[49m\u001b[43m \u001b[49m\u001b[38;5;28;43mself\u001b[39;49m\u001b[38;5;241;43m.\u001b[39;49m\u001b[43mtarget_id\u001b[49m\u001b[43m,\u001b[49m\u001b[43m \u001b[49m\u001b[38;5;28;43mself\u001b[39;49m\u001b[38;5;241;43m.\u001b[39;49m\u001b[43mname\u001b[49m\u001b[43m)\u001b[49m\n\u001b[1;32m   1325\u001b[0m \u001b[38;5;28;01mfor\u001b[39;00m temp_arg \u001b[38;5;129;01min\u001b[39;00m temp_args:\n\u001b[1;32m   1326\u001b[0m     \u001b[38;5;28;01mif\u001b[39;00m \u001b[38;5;28mhasattr\u001b[39m(temp_arg, \u001b[38;5;124m\"\u001b[39m\u001b[38;5;124m_detach\u001b[39m\u001b[38;5;124m\"\u001b[39m):\n",
      "File \u001b[0;32m/opt/conda/lib/python3.11/site-packages/pyspark/errors/exceptions/captured.py:169\u001b[0m, in \u001b[0;36mcapture_sql_exception.<locals>.deco\u001b[0;34m(*a, **kw)\u001b[0m\n\u001b[1;32m    167\u001b[0m \u001b[38;5;28;01mdef\u001b[39;00m \u001b[38;5;21mdeco\u001b[39m(\u001b[38;5;241m*\u001b[39ma: Any, \u001b[38;5;241m*\u001b[39m\u001b[38;5;241m*\u001b[39mkw: Any) \u001b[38;5;241m-\u001b[39m\u001b[38;5;241m>\u001b[39m Any:\n\u001b[1;32m    168\u001b[0m     \u001b[38;5;28;01mtry\u001b[39;00m:\n\u001b[0;32m--> 169\u001b[0m         \u001b[38;5;28;01mreturn\u001b[39;00m \u001b[43mf\u001b[49m\u001b[43m(\u001b[49m\u001b[38;5;241;43m*\u001b[39;49m\u001b[43ma\u001b[49m\u001b[43m,\u001b[49m\u001b[43m \u001b[49m\u001b[38;5;241;43m*\u001b[39;49m\u001b[38;5;241;43m*\u001b[39;49m\u001b[43mkw\u001b[49m\u001b[43m)\u001b[49m\n\u001b[1;32m    170\u001b[0m     \u001b[38;5;28;01mexcept\u001b[39;00m Py4JJavaError \u001b[38;5;28;01mas\u001b[39;00m e:\n\u001b[1;32m    171\u001b[0m         converted \u001b[38;5;241m=\u001b[39m convert_exception(e\u001b[38;5;241m.\u001b[39mjava_exception)\n",
      "File \u001b[0;32m/opt/conda/lib/python3.11/site-packages/py4j/protocol.py:326\u001b[0m, in \u001b[0;36mget_return_value\u001b[0;34m(answer, gateway_client, target_id, name)\u001b[0m\n\u001b[1;32m    324\u001b[0m value \u001b[38;5;241m=\u001b[39m OUTPUT_CONVERTER[\u001b[38;5;28mtype\u001b[39m](answer[\u001b[38;5;241m2\u001b[39m:], gateway_client)\n\u001b[1;32m    325\u001b[0m \u001b[38;5;28;01mif\u001b[39;00m answer[\u001b[38;5;241m1\u001b[39m] \u001b[38;5;241m==\u001b[39m REFERENCE_TYPE:\n\u001b[0;32m--> 326\u001b[0m     \u001b[38;5;28;01mraise\u001b[39;00m Py4JJavaError(\n\u001b[1;32m    327\u001b[0m         \u001b[38;5;124m\"\u001b[39m\u001b[38;5;124mAn error occurred while calling \u001b[39m\u001b[38;5;132;01m{0}\u001b[39;00m\u001b[38;5;132;01m{1}\u001b[39;00m\u001b[38;5;132;01m{2}\u001b[39;00m\u001b[38;5;124m.\u001b[39m\u001b[38;5;130;01m\\n\u001b[39;00m\u001b[38;5;124m\"\u001b[39m\u001b[38;5;241m.\u001b[39m\n\u001b[1;32m    328\u001b[0m         \u001b[38;5;28mformat\u001b[39m(target_id, \u001b[38;5;124m\"\u001b[39m\u001b[38;5;124m.\u001b[39m\u001b[38;5;124m\"\u001b[39m, name), value)\n\u001b[1;32m    329\u001b[0m \u001b[38;5;28;01melse\u001b[39;00m:\n\u001b[1;32m    330\u001b[0m     \u001b[38;5;28;01mraise\u001b[39;00m Py4JError(\n\u001b[1;32m    331\u001b[0m         \u001b[38;5;124m\"\u001b[39m\u001b[38;5;124mAn error occurred while calling \u001b[39m\u001b[38;5;132;01m{0}\u001b[39;00m\u001b[38;5;132;01m{1}\u001b[39;00m\u001b[38;5;132;01m{2}\u001b[39;00m\u001b[38;5;124m. Trace:\u001b[39m\u001b[38;5;130;01m\\n\u001b[39;00m\u001b[38;5;132;01m{3}\u001b[39;00m\u001b[38;5;130;01m\\n\u001b[39;00m\u001b[38;5;124m\"\u001b[39m\u001b[38;5;241m.\u001b[39m\n\u001b[1;32m    332\u001b[0m         \u001b[38;5;28mformat\u001b[39m(target_id, \u001b[38;5;124m\"\u001b[39m\u001b[38;5;124m.\u001b[39m\u001b[38;5;124m\"\u001b[39m, name, value))\n",
      "\u001b[0;31mPy4JJavaError\u001b[0m: An error occurred while calling o32.parquet.\n: java.io.FileNotFoundException: Bucket sagemaker-us-east-1-249863557958 does not exist\n\tat org.apache.hadoop.fs.s3a.S3AFileSystem.verifyBucketExists(S3AFileSystem.java:393)\n\tat org.apache.hadoop.fs.s3a.S3AFileSystem.initialize(S3AFileSystem.java:322)\n\tat org.apache.hadoop.fs.FileSystem.createFileSystem(FileSystem.java:3469)\n\tat org.apache.hadoop.fs.FileSystem.access$300(FileSystem.java:174)\n\tat org.apache.hadoop.fs.FileSystem$Cache.getInternal(FileSystem.java:3574)\n\tat org.apache.hadoop.fs.FileSystem$Cache.get(FileSystem.java:3521)\n\tat org.apache.hadoop.fs.FileSystem.get(FileSystem.java:540)\n\tat org.apache.hadoop.fs.Path.getFileSystem(Path.java:365)\n\tat org.apache.spark.sql.execution.datasources.DataSource$.$anonfun$checkAndGlobPathIfNecessary$1(DataSource.scala:724)\n\tat scala.collection.immutable.List.map(List.scala:293)\n\tat org.apache.spark.sql.execution.datasources.DataSource$.checkAndGlobPathIfNecessary(DataSource.scala:722)\n\tat org.apache.spark.sql.execution.datasources.DataSource.checkAndGlobPathIfNecessary(DataSource.scala:551)\n\tat org.apache.spark.sql.execution.datasources.DataSource.resolveRelation(DataSource.scala:404)\n\tat org.apache.spark.sql.DataFrameReader.loadV1Source(DataFrameReader.scala:229)\n\tat org.apache.spark.sql.DataFrameReader.$anonfun$load$2(DataFrameReader.scala:211)\n\tat scala.Option.getOrElse(Option.scala:189)\n\tat org.apache.spark.sql.DataFrameReader.load(DataFrameReader.scala:211)\n\tat org.apache.spark.sql.DataFrameReader.parquet(DataFrameReader.scala:563)\n\tat java.base/jdk.internal.reflect.NativeMethodAccessorImpl.invoke0(Native Method)\n\tat java.base/jdk.internal.reflect.NativeMethodAccessorImpl.invoke(NativeMethodAccessorImpl.java:62)\n\tat java.base/jdk.internal.reflect.DelegatingMethodAccessorImpl.invoke(DelegatingMethodAccessorImpl.java:43)\n\tat java.base/java.lang.reflect.Method.invoke(Method.java:566)\n\tat py4j.reflection.MethodInvoker.invoke(MethodInvoker.java:244)\n\tat py4j.reflection.ReflectionEngine.invoke(ReflectionEngine.java:374)\n\tat py4j.Gateway.invoke(Gateway.java:282)\n\tat py4j.commands.AbstractCommand.invokeMethod(AbstractCommand.java:132)\n\tat py4j.commands.CallCommand.execute(CallCommand.java:79)\n\tat py4j.ClientServerConnection.waitForCommands(ClientServerConnection.java:182)\n\tat py4j.ClientServerConnection.run(ClientServerConnection.java:106)\n\tat java.base/java.lang.Thread.run(Thread.java:834)\n"
     ]
    }
   ],
   "source": [
    "%%time\n",
    "comments = spark.read.parquet(\n",
    "    \"s3a://sagemaker-us-east-1-249863557958/project/comments\",\n",
    "    header=True\n",
    ")\n",
    "#comments.show()"
   ]
  },
  {
   "cell_type": "code",
   "execution_count": 9,
   "id": "d9426064-8b1c-49d7-b0b7-1bdf680376af",
   "metadata": {},
   "outputs": [
    {
     "name": "stderr",
     "output_type": "stream",
     "text": [
      "[Stage 2:======================================================>(116 + 1) / 117]\r"
     ]
    },
    {
     "name": "stdout",
     "output_type": "stream",
     "text": [
      "+--------------+-------+\n",
      "|     subreddit|  count|\n",
      "+--------------+-------+\n",
      "|       finance|  25291|\n",
      "|CryptoCurrency|3360896|\n",
      "|     investing| 516497|\n",
      "+--------------+-------+\n",
      "\n"
     ]
    },
    {
     "name": "stderr",
     "output_type": "stream",
     "text": [
      "                                                                                \r"
     ]
    }
   ],
   "source": [
    "comments.groupBy('subreddit').count().show()"
   ]
  },
  {
   "cell_type": "code",
   "execution_count": 5,
   "id": "ac8b895b-45d5-45eb-b924-bb956346d63f",
   "metadata": {},
   "outputs": [],
   "source": [
    "# filter to 1 1000th of the data for exploratory analysis\n",
    "working_comments = comments.sample(withReplacement = False, fraction = 0.001)"
   ]
  },
  {
   "cell_type": "code",
   "execution_count": 6,
   "id": "1dd1c470-efff-403c-b6e5-bf9c41228171",
   "metadata": {
    "scrolled": true
   },
   "outputs": [
    {
     "ename": "NameError",
     "evalue": "name 'working_comments' is not defined",
     "output_type": "error",
     "traceback": [
      "\u001b[0;31m---------------------------------------------------------------------------\u001b[0m",
      "\u001b[0;31mNameError\u001b[0m                                 Traceback (most recent call last)",
      "Cell \u001b[0;32mIn[6], line 1\u001b[0m\n\u001b[0;32m----> 1\u001b[0m \u001b[43mworking_comments\u001b[49m\u001b[38;5;241m.\u001b[39mwrite\u001b[38;5;241m.\u001b[39mparquet(\u001b[38;5;124m\"\u001b[39m\u001b[38;5;124m./small_sample_comments.parquet\u001b[39m\u001b[38;5;124m\"\u001b[39m)\n",
      "\u001b[0;31mNameError\u001b[0m: name 'working_comments' is not defined"
     ]
    }
   ],
   "source": [
    "working_comments.write.parquet(\"./small_sample_comments.parquet\")\n"
   ]
  },
  {
   "cell_type": "code",
   "execution_count": 6,
   "id": "7ffc4b6b-b68a-447c-a4d7-f0cd3acbdb8d",
   "metadata": {},
   "outputs": [
    {
     "name": "stderr",
     "output_type": "stream",
     "text": [
      "[Stage 1:>                                                          (0 + 4) / 4]\r"
     ]
    },
    {
     "name": "stdout",
     "output_type": "stream",
     "text": [
      "+--------------+-----+\n",
      "|     subreddit|count|\n",
      "+--------------+-----+\n",
      "|       finance|   32|\n",
      "|CryptoCurrency| 3384|\n",
      "|     investing|  465|\n",
      "+--------------+-----+\n",
      "\n"
     ]
    },
    {
     "name": "stderr",
     "output_type": "stream",
     "text": [
      "                                                                                \r"
     ]
    }
   ],
   "source": [
    "working_comments2 = spark.read.parquet(\n",
    "    \"./small_sample_comments.parquet\",\n",
    "    header=True\n",
    ")\n",
    "working_comments2.groupBy('subreddit').count().show()"
   ]
  },
  {
   "cell_type": "code",
   "execution_count": 7,
   "id": "73e5955e-27a6-45cb-b69f-31254a771948",
   "metadata": {},
   "outputs": [
    {
     "name": "stdout",
     "output_type": "stream",
     "text": [
      "+--------------------+\n",
      "|                body|\n",
      "+--------------------+\n",
      "|We’ll all be rich...|\n",
      "|It’s probably jus...|\n",
      "|It's going to be ...|\n",
      "|I will be laughin...|\n",
      "|           [removed]|\n",
      "|Always the countr...|\n",
      "|I am excited to s...|\n",
      "|           Over 9000|\n",
      "|  That's incredible!|\n",
      "|These are the Bit...|\n",
      "|The real whale, r...|\n",
      "|                 VTI|\n",
      "|I mean that's one...|\n",
      "|I love your enthu...|\n",
      "|What a sack of sh...|\n",
      "|Stablecoins aren'...|\n",
      "|Sold 24% of my st...|\n",
      "|Receiving them co...|\n",
      "|Imagine u get pai...|\n",
      "|What do we use mo...|\n",
      "+--------------------+\n",
      "only showing top 20 rows\n",
      "\n"
     ]
    }
   ],
   "source": [
    "working_comments2.select(f.col('body')).show()"
   ]
  },
  {
   "cell_type": "code",
   "execution_count": 4,
   "id": "b90c6673-0f26-4535-b6d5-381c6c35c0b2",
   "metadata": {},
   "outputs": [
    {
     "name": "stdout",
     "output_type": "stream",
     "text": [
      "Collecting sparknlp\n",
      "  Downloading sparknlp-1.0.0-py3-none-any.whl.metadata (1.2 kB)\n",
      "Collecting spark-nlp (from sparknlp)\n",
      "  Downloading spark_nlp-5.5.1-py2.py3-none-any.whl.metadata (19 kB)\n",
      "Requirement already satisfied: numpy in /opt/conda/lib/python3.11/site-packages (from sparknlp) (1.26.4)\n",
      "Downloading sparknlp-1.0.0-py3-none-any.whl (1.4 kB)\n",
      "Downloading spark_nlp-5.5.1-py2.py3-none-any.whl (626 kB)\n",
      "\u001b[2K   \u001b[90m━━━━━━━━━━━━━━━━━━━━━━━━━━━━━━━━━━━━━━━━\u001b[0m \u001b[32m626.6/626.6 kB\u001b[0m \u001b[31m39.7 MB/s\u001b[0m eta \u001b[36m0:00:00\u001b[0m\n",
      "\u001b[?25hInstalling collected packages: spark-nlp, sparknlp\n",
      "Successfully installed spark-nlp-5.5.1 sparknlp-1.0.0\n",
      "Note: you may need to restart the kernel to use updated packages.\n"
     ]
    }
   ],
   "source": [
    "%pip install sparknlp"
   ]
  },
  {
   "cell_type": "code",
   "execution_count": 5,
   "id": "a19aa2f3-1210-4705-8b69-401eab9c6cb3",
   "metadata": {},
   "outputs": [],
   "source": []
  },
  {
   "cell_type": "code",
   "execution_count": 8,
   "id": "4fbc2a4d-686c-45a8-ba87-5cb82167bf62",
   "metadata": {},
   "outputs": [
    {
     "name": "stdout",
     "output_type": "stream",
     "text": [
      "+--------------------+----------------------+--------------------+--------------------+----------------+-----------+-------------+------+------+-------+----------+----------+------------+-----+--------+--------------+------------+-------+\n",
      "|              author|author_flair_css_class|   author_flair_text|                body|controversiality|created_utc|distinguished|edited|gilded|     id|   link_id| parent_id|retrieved_on|score|stickied|     subreddit|subreddit_id|bodylen|\n",
      "+--------------------+----------------------+--------------------+--------------------+----------------+-----------+-------------+------+------+-------+----------+----------+------------+-----+--------+--------------+------------+-------+\n",
      "|discussionandrespect|                      |sleeping peaceful...|We’ll all be rich...|               0| 1689744941|         null|  null|     0|jsjytab|t3_153et67|t1_jsjy5nd|  1689744965|    1|   false|CryptoCurrency|    t5_2wlj3|     44|\n",
      "|          XWarriorYZ|                      |Platinum | QC: CC...|It’s probably jus...|               0| 1689747447|         null|  null|     0|jsk2hk9|t3_153lr3d|t3_153lr3d|  1689747473|    1|   false|CryptoCurrency|    t5_2wlj3|    109|\n",
      "|             Jocogui|      Warning-level1-1|Bronze | 6 months...|It's going to be ...|               0| 1689749807|         null|  null|     0|jsk5r5b|t3_153mtyq|t1_jsk43y0|  1689749827|    1|   false|CryptoCurrency|    t5_2wlj3|    179|\n",
      "|  JunglistMovement95|      Warning-level1-1|              Bronze|I will be laughin...|               0| 1689752349|         null|  null|     0|jsk93py|t3_152d296|t3_152d296|  1689752366|    1|   false|CryptoCurrency|    t5_2wlj3|     74|\n",
      "|           [deleted]|                  null|                null|           [removed]|               0| 1689753235|         null|  null|     0|jska7z0|t3_153lt2n|t3_153lt2n|  1689753250|    1|   false|CryptoCurrency|    t5_2wlj3|      9|\n",
      "|           DarioDays|      Warning-level2-2|                 Tin|Always the countr...|               0| 1689754347|         null|  null|     0|jskbm43|t3_153op2v|t3_153op2v|  1689754376|    1|   false|CryptoCurrency|    t5_2wlj3|    109|\n",
      "|            lourkeur|      Warning-level2-2|                 Tin|I am excited to s...|               0| 1689755361|         null|  null|     0|jskcvjq|t3_1536efj|t1_jsiv8he|  1689755381|    1|   false|CryptoCurrency|    t5_2wlj3|    108|\n",
      "|         Sorrytoruin|                  null|Platinum | QC: CC...|           Over 9000|               0| 1689756461|         null|  null|     0|jske8zn|t3_153nsfj|t1_jsk83k3|  1689756480|    1|   false|CryptoCurrency|    t5_2wlj3|      9|\n",
      "|           XADEBRAVO|                  null|                null|  That's incredible!|               0| 1689756783|         null|  null|     0|jskenij|t3_153p4uf|t1_jskect5|  1689756808|    1|   false|CryptoCurrency|    t5_2wlj3|     18|\n",
      "|             Zein313|                      |                    |These are the Bit...|               0| 1689758659|         null|  null|     0|jskgyz3|t3_152ftll|t3_152ftll|  1689758686|    1|   false|CryptoCurrency|    t5_2wlj3|    593|\n",
      "|           KuronFury|      Warning-level2-2|                 Tin|The real whale, r...|               0| 1689758960|         null|  null|     0|jskhcp1|t3_153pgf8|t1_jskgt8t|  1689758983|    1|   false|CryptoCurrency|    t5_2wlj3|     26|\n",
      "|         brianmcg321|                  null|                null|                 VTI|               0| 1689765813|         null|  null|     0|jskqyik|t3_153kqa9|t3_153kqa9|  1689765841|    1|   false|     investing|    t5_2qhhq|      3|\n",
      "|            Ofulinac|                      |Platinum | QC: CC 32|I mean that's one...|               0| 1689767267|         null|  null|     0|jsktemq|t3_153sp41|t3_153sp41|  1689767284|    1|   false|CryptoCurrency|    t5_2wlj3|     99|\n",
      "|            raphanum|      Warning-level2-2|                 Tin|I love your enthu...|               0| 1689767585|         null|  null|     0|jsktyxr|t3_153lr3d|t1_jskts2d|  1689767615|    1|   false|CryptoCurrency|    t5_2wlj3|    143|\n",
      "|          VoxImperii|                      |Platinum | QC: CC...|What a sack of sh...|               0| 1689768416|         null|  null|     0|jskvhbo|t3_153rkm9|t3_153rkm9|  1689768439|    1|   false|CryptoCurrency|    t5_2wlj3|     63|\n",
      "|        LargeSnorlax|                  null|                null|Stablecoins aren'...|               0| 1689771124|         null|  null|     0|jsl0r1p|t3_153sm6h|t1_jsktf7k|  1689771145|    1|   false|CryptoCurrency|    t5_2wlj3|    516|\n",
      "|            omghag18|                      |                    |Sold 24% of my st...|               0| 1689771696|         null|  null|     0|jsl1yok|t3_153rkcw|t3_153rkcw|  1689771728|    1|   false|CryptoCurrency|    t5_2wlj3|    103|\n",
      "|    Probably_notabot|      Warning-level2-2|     Tin | CC critic|Receiving them co...|               0| 1689771849|         null|  null|     0|jsl2a7p|t3_153lr3d|t1_jskx4nv|  1689771874|    1|   false|CryptoCurrency|    t5_2wlj3|     87|\n",
      "|            Tasigur1|      Warning-level2-2|                 Tin|Imagine u get pai...|               0| 1689772482|         null|  null|     0|jsl3nxz|t3_153q4r1|t1_jsko2mz|  1689772509|    1|   false|CryptoCurrency|    t5_2wlj3|     67|\n",
      "|         Carib_Coiin|      Warning-level2-2|                 Tin|What do we use mo...|               0| 1689772587|         null|  null|     0|jsl3w9u|t3_153tfdl|t1_jsl3t5g|  1689772613|    1|   false|CryptoCurrency|    t5_2wlj3|     31|\n",
      "+--------------------+----------------------+--------------------+--------------------+----------------+-----------+-------------+------+------+-------+----------+----------+------------+-----+--------+--------------+------------+-------+\n",
      "only showing top 20 rows\n",
      "\n"
     ]
    }
   ],
   "source": [
    "# this sell is for non sparknlp EDA\n",
    "working_comments2 = working_comments2.withColumn('bodylen', f.length(f.col('body')))\n",
    "working_comments2.show()"
   ]
  },
  {
   "cell_type": "code",
   "execution_count": 7,
   "id": "72f20fc9-c4c7-410d-bf66-d73b2c662ecb",
   "metadata": {
    "collapsed": true,
    "jupyter": {
     "outputs_hidden": true
    },
    "scrolled": true
   },
   "outputs": [
    {
     "name": "stderr",
     "output_type": "stream",
     "text": [
      "[Stage 5:=============================>                             (2 + 2) / 4]\r"
     ]
    },
    {
     "name": "stdout",
     "output_type": "stream",
     "text": [
      "                                   percent\n",
      "0  [12, 27, 39, 54, 70, 90, 122, 182, 322]\n"
     ]
    },
    {
     "name": "stderr",
     "output_type": "stream",
     "text": [
      "                                                                                \r"
     ]
    }
   ],
   "source": [
    "# get a plot of the percentiles of the data\n",
    "from pyspark.sql import Window\n",
    "bodylens = working_comments2.select(f.col('bodylen'))\n",
    "pct_list = [0.1,0.2,0.3,0.4,0.5,0.6,0.7,0.8,0.9]\n",
    "percentiles = bodylens.select( f.percentile_approx(f.col('bodylen'), percentage = pct_list).alias('percent')).toPandas()\n",
    "\n",
    "print(percentiles)\n",
    "#bodylens.withColumn(\"cd\", f.cume_dist().over(w)).show()"
   ]
  },
  {
   "cell_type": "code",
   "execution_count": 8,
   "id": "9f0b5b92-e634-4950-9089-b9b2d5f0630c",
   "metadata": {},
   "outputs": [
    {
     "data": {
      "image/png": "[encoded data removed]",
      "text/plain": [
       "<Figure size 640x480 with 1 Axes>"
      ]
     },
     "metadata": {},
     "output_type": "display_data"
    }
   ],
   "source": [
    "import matplotlib.pyplot as plt\n",
    "\n",
    "percentile_list = percentiles.loc[0,].item()\n",
    "density_list = []\n",
    "\n",
    "for index, item in enumerate(percentile_list):\n",
    "    lastval = 0\n",
    "    if index > 0:\n",
    "        lastval = percentile_list[index-1]\n",
    "    density = 0.1 / (item-lastval)\n",
    "    density_list.append(density)\n",
    "    \n",
    "plt.figure()\n",
    "\n",
    "plt.step(percentile_list, density_list)\n",
    "plt.xlabel(\"Length of comment (chars)\")\n",
    "plt.ylabel(\"Density\")\n",
    "plt.title(\"Distribution of Comment Lengths\")\n",
    "plt.savefig('allcoment_length_density.png')"
   ]
  },
  {
   "cell_type": "code",
   "execution_count": 16,
   "id": "34fcbb21-abda-4588-b976-a15c71a7647c",
   "metadata": {},
   "outputs": [
    {
     "name": "stderr",
     "output_type": "stream",
     "text": [
      "                                                                                \r"
     ]
    },
    {
     "data": {
      "text/plain": [
       "3881"
      ]
     },
     "execution_count": 16,
     "metadata": {},
     "output_type": "execute_result"
    }
   ],
   "source": [
    "working_comments2.count()"
   ]
  },
  {
   "cell_type": "code",
   "execution_count": 9,
   "id": "ea08b616-2ea7-4ab5-adec-b89dc6fb860a",
   "metadata": {},
   "outputs": [],
   "source": [
    "# dummy variables for regex matches in the comments\n",
    "\n",
    "snp =\t\"(?i)s and p|(?i)s&p|(?i)s&p 500|(?i)s&p500|(?i)s and p 500|(?i)spy|(?i)congress\"\n",
    "crypto =\t\"(?i)bitcoin|(?i)btc|(?i)eth|(?i)ether|(?i)crypto|(?i)etherium|(?i)alts|(?i)altcoin|(?i)shitcoin\"\n",
    "fed = \"(?i)jp|(?i)powell|(?i)fed|(?i)federal reserve|(?i)jerome|(?i)jpow|(?i)printer\"\n",
    "\n",
    "\n",
    "working_comments2 = working_comments2.withColumn(\"snp\", f.when(f.col(\"body\").rlike(snp), 'true').otherwise('false')) \\\n",
    "            .withColumn(\"crypto\", f.when(f.col(\"body\").rlike(crypto), 'true').otherwise('false')) \\\n",
    "            .withColumn(\"fed\", f.when(f.col(\"body\").rlike(fed), 'true').otherwise('false')) "
   ]
  },
  {
   "cell_type": "code",
   "execution_count": 10,
   "id": "147a675c-dac8-4a46-b5a7-002b6523d691",
   "metadata": {},
   "outputs": [
    {
     "name": "stderr",
     "output_type": "stream",
     "text": [
      "                                                                                \r"
     ]
    },
    {
     "name": "stdout",
     "output_type": "stream",
     "text": [
      "+-----+-----+\n",
      "|  snp|count|\n",
      "+-----+-----+\n",
      "|false| 3850|\n",
      "| true|   31|\n",
      "+-----+-----+\n",
      "\n",
      "+------+-----+\n",
      "|crypto|count|\n",
      "+------+-----+\n",
      "| false| 3119|\n",
      "|  true|  762|\n",
      "+------+-----+\n",
      "\n",
      "+-----+-----+\n",
      "|  fed|count|\n",
      "+-----+-----+\n",
      "|false| 3849|\n",
      "| true|   32|\n",
      "+-----+-----+\n",
      "\n"
     ]
    }
   ],
   "source": [
    "working_comments2.groupBy('snp').count().show()\n",
    "working_comments2.groupBy('crypto').count().show()\n",
    "working_comments2.groupBy('fed').count().show()\n",
    "\n",
    "# in 4k comments, 32 mention fed, 762 mention crypto, 31 mention the snp"
   ]
  },
  {
   "cell_type": "code",
   "execution_count": null,
   "id": "67a81768-ac6d-4ad1-a81c-06cfa885adb8",
   "metadata": {},
   "outputs": [],
   "source": [
    "# get most common words in the comments?\n",
    "# use pipeline to tokenize strings\n",
    "# make custom function to count occurences?"
   ]
  },
  {
   "cell_type": "code",
   "execution_count": 11,
   "id": "42d2fb95-13f8-4972-b4f1-2021a28849ee",
   "metadata": {},
   "outputs": [],
   "source": [
    "working_comments2 = working_comments2.withColumn(\"body\", f.lower(f.col('body') ))"
   ]
  },
  {
   "cell_type": "code",
   "execution_count": 17,
   "id": "6547aea4-ece8-463d-a4ec-79ad0d1e3507",
   "metadata": {},
   "outputs": [],
   "source": [
    "from pyspark.sql import SparkSession\n",
    "from pyspark.ml.feature import Tokenizer, CountVectorizer, IDF, StopWordsRemover, HashingTF\n",
    "from pyspark.ml import Pipeline\n",
    "from pyspark.sql.functions import col\n",
    "import numpy as np\n",
    "\n",
    "\n",
    "\n",
    "tokenizer = Tokenizer(inputCol=\"body\", outputCol=\"words\")\n",
    "# Vectorize the words using CountVectorizer (instead of HashingTF)\n",
    "\n",
    "\n",
    "stopwords_remover = StopWordsRemover(inputCol=\"words\", outputCol=\"filtered_words\")\n",
    "#hashingTF = HashingTF(inputCol=\"filtered_words\", outputCol=\"raw_features\", numFeatures=20)\n",
    "\n",
    "#countVectorizer = CountVectorizer(inputCol=\"filtered_words\", outputCol=\"raw_features\", vocabSize=1000, minDF=1)\n",
    "# Compute the IDF (Inverse Document Frequency)\n",
    "#idf = IDF(inputCol=\"raw_features\", outputCol=\"tfidf_features\")\n",
    "# Build the pipeline\n",
    "pipeline = Pipeline(stages=[tokenizer, stopwords_remover])\n",
    "\n",
    "\n",
    "\n"
   ]
  },
  {
   "cell_type": "code",
   "execution_count": 18,
   "id": "d3622fbf-d27d-402a-8d28-05664a9ae068",
   "metadata": {
    "scrolled": true
   },
   "outputs": [],
   "source": [
    "# Fit and transform the data\n",
    "model = pipeline.fit(working_comments2)\n",
    "result = model.transform(working_comments2)"
   ]
  },
  {
   "cell_type": "code",
   "execution_count": 14,
   "id": "92bb2f2d-3895-40c5-be20-0b9183d6e500",
   "metadata": {
    "scrolled": true
   },
   "outputs": [
    {
     "name": "stdout",
     "output_type": "stream",
     "text": [
      "tfhub_use download started this may take some time.\n",
      "Approximate size to download 923.7 MB\n",
      "[ | ]tfhub_use download started this may take some time.\n",
      "Approximate size to download 923.7 MB\n"
     ]
    },
    {
     "name": "stderr",
     "output_type": "stream",
     "text": [
      "24/12/03 03:04:33 WARN S3AbortableInputStream: Not all bytes were read from the S3ObjectInputStream, aborting HTTP connection. This is likely an error and may result in sub-optimal behavior. Request only the bytes you need via a ranged GET or drain the input stream after use.\n",
      "24/12/03 03:04:33 WARN S3AbortableInputStream: Not all bytes were read from the S3ObjectInputStream, aborting HTTP connection. This is likely an error and may result in sub-optimal behavior. Request only the bytes you need via a ranged GET or drain the input stream after use.\n"
     ]
    },
    {
     "name": "stdout",
     "output_type": "stream",
     "text": [
      "Download done! Loading the resource.\n",
      "[ \\ ]"
     ]
    },
    {
     "name": "stderr",
     "output_type": "stream",
     "text": [
      "2024-12-03 03:04:51.951305: I external/org_tensorflow/tensorflow/core/platform/cpu_feature_guard.cc:151] This TensorFlow binary is optimized with oneAPI Deep Neural Network Library (oneDNN) to use the following CPU instructions in performance-critical operations:  AVX2 AVX512F FMA\n",
      "To enable them in other operations, rebuild TensorFlow with the appropriate compiler flags.\n"
     ]
    },
    {
     "name": "stdout",
     "output_type": "stream",
     "text": [
      "[ / ]"
     ]
    },
    {
     "name": "stderr",
     "output_type": "stream",
     "text": [
      "2024-12-03 03:04:57.267823: W external/org_tensorflow/tensorflow/core/framework/cpu_allocator_impl.cc:82] Allocation of 60236800 exceeds 10% of free system memory.\n",
      "2024-12-03 03:04:57.359652: W external/org_tensorflow/tensorflow/core/framework/cpu_allocator_impl.cc:82] Allocation of 60236800 exceeds 10% of free system memory.\n",
      "2024-12-03 03:04:57.413854: W external/org_tensorflow/tensorflow/core/framework/cpu_allocator_impl.cc:82] Allocation of 60236800 exceeds 10% of free system memory.\n",
      "2024-12-03 03:04:57.498164: W external/org_tensorflow/tensorflow/core/framework/cpu_allocator_impl.cc:82] Allocation of 60236800 exceeds 10% of free system memory.\n",
      "2024-12-03 03:04:57.548178: W external/org_tensorflow/tensorflow/core/framework/cpu_allocator_impl.cc:82] Allocation of 60236800 exceeds 10% of free system memory.\n"
     ]
    },
    {
     "name": "stdout",
     "output_type": "stream",
     "text": [
      "[ \\ ]"
     ]
    },
    {
     "name": "stderr",
     "output_type": "stream",
     "text": [
      "WARNING: An illegal reflective access operation has occurred\n",
      "WARNING: Illegal reflective access by org.apache.spark.util.SizeEstimator$ (file:/opt/conda/lib/python3.11/site-packages/pyspark/jars/spark-core_2.12-3.4.0.jar) to field java.lang.ref.Reference.referent\n",
      "WARNING: Please consider reporting this to the maintainers of org.apache.spark.util.SizeEstimator$\n",
      "WARNING: Use --illegal-access=warn to enable warnings of further illegal reflective access operations\n",
      "WARNING: All illegal access operations will be denied in a future release\n"
     ]
    },
    {
     "name": "stdout",
     "output_type": "stream",
     "text": [
      "[OK!]\n",
      "sentimentdl_use_twitter download started this may take some time.\n",
      "Approximate size to download 11.4 MB\n",
      "[ | ]"
     ]
    },
    {
     "name": "stderr",
     "output_type": "stream",
     "text": [
      "24/12/03 03:05:05 WARN S3AbortableInputStream: Not all bytes were read from the S3ObjectInputStream, aborting HTTP connection. This is likely an error and may result in sub-optimal behavior. Request only the bytes you need via a ranged GET or drain the input stream after use.\n",
      "24/12/03 03:05:05 WARN S3AbortableInputStream: Not all bytes were read from the S3ObjectInputStream, aborting HTTP connection. This is likely an error and may result in sub-optimal behavior. Request only the bytes you need via a ranged GET or drain the input stream after use.\n",
      "24/12/03 03:05:05 WARN S3AbortableInputStream: Not all bytes were read from the S3ObjectInputStream, aborting HTTP connection. This is likely an error and may result in sub-optimal behavior. Request only the bytes you need via a ranged GET or drain the input stream after use.\n"
     ]
    },
    {
     "name": "stdout",
     "output_type": "stream",
     "text": [
      "sentimentdl_use_twitter download started this may take some time.\n",
      "Approximate size to download 11.4 MB\n",
      "Download done! Loading the resource.\n",
      "[OK!]\n"
     ]
    }
   ],
   "source": [
    "documentAssembler = DocumentAssembler()\\\n",
    "    .setInputCol(\"body\")\\\n",
    "    .setOutputCol(\"document\")\n",
    "\n",
    "MODEL_NAME='sentimentdl_use_twitter'\n",
    "\n",
    "use = UniversalSentenceEncoder.pretrained(name=\"tfhub_use\", lang=\"en\")\\\n",
    " .setInputCols([\"document\"])\\\n",
    " .setOutputCol(\"sentence_embeddings\")\n",
    "# convert text to lowercase, remove special characters, punctuation, and transform words based on a provided dictionary.\n",
    "sentimentdl = SentimentDLModel.pretrained(name=MODEL_NAME, lang=\"en\")\\\n",
    "    .setInputCols([\"sentence_embeddings\"])\\\n",
    "    .setOutputCol(\"sentiments\")\n",
    "\n",
    "finisher= (\n",
    "    Finisher()\n",
    "    .setInputCols([\"sentiments\"]).setOutputCols(\"sentiment\")\n",
    ")\n",
    "\n",
    "nlpPipeline = Pipeline(\n",
    "      stages = [\n",
    "          documentAssembler,\n",
    "          use,\n",
    "          sentimentdl,\n",
    "          finisher\n",
    "      ])"
   ]
  },
  {
   "cell_type": "code",
   "execution_count": 19,
   "id": "99e78947-bfd7-4b52-92dd-96f9dc865073",
   "metadata": {},
   "outputs": [],
   "source": [
    "pipelineModel = nlpPipeline.fit(working_comments2)\n",
    "results2 = pipelineModel.transform(working_comments2)"
   ]
  },
  {
   "cell_type": "code",
   "execution_count": 20,
   "id": "caf0831f-222f-4311-a7dc-bfb9feac9bb6",
   "metadata": {},
   "outputs": [
    {
     "name": "stdout",
     "output_type": "stream",
     "text": [
      "root\n",
      " |-- author: string (nullable = true)\n",
      " |-- author_flair_css_class: string (nullable = true)\n",
      " |-- author_flair_text: string (nullable = true)\n",
      " |-- body: string (nullable = true)\n",
      " |-- controversiality: long (nullable = true)\n",
      " |-- created_utc: long (nullable = true)\n",
      " |-- distinguished: string (nullable = true)\n",
      " |-- edited: double (nullable = true)\n",
      " |-- gilded: long (nullable = true)\n",
      " |-- id: string (nullable = true)\n",
      " |-- link_id: string (nullable = true)\n",
      " |-- parent_id: string (nullable = true)\n",
      " |-- retrieved_on: long (nullable = true)\n",
      " |-- score: long (nullable = true)\n",
      " |-- stickied: boolean (nullable = true)\n",
      " |-- subreddit: string (nullable = true)\n",
      " |-- subreddit_id: string (nullable = true)\n",
      " |-- bodylen: integer (nullable = true)\n",
      " |-- snp: string (nullable = false)\n",
      " |-- crypto: string (nullable = false)\n",
      " |-- fed: string (nullable = false)\n",
      " |-- sentiment: array (nullable = true)\n",
      " |    |-- element: string (containsNull = true)\n",
      "\n"
     ]
    }
   ],
   "source": [
    "results2.printSchema()"
   ]
  },
  {
   "cell_type": "code",
   "execution_count": 21,
   "id": "6ce010ea-3f4f-48cc-91ac-10b807620964",
   "metadata": {},
   "outputs": [
    {
     "name": "stderr",
     "output_type": "stream",
     "text": [
      "24/12/03 03:09:48 WARN package: Truncated the string representation of a plan since it was too large. This behavior can be adjusted by setting 'spark.sql.debug.maxToStringFields'.\n",
      "                                                                                \r"
     ]
    }
   ],
   "source": [
    "sentimentdata = results2.select(f.col('sentiment')).toPandas()"
   ]
  },
  {
   "cell_type": "code",
   "execution_count": 78,
   "id": "b8ff3005-3056-4b2f-af0f-b4eea4bb3da4",
   "metadata": {
    "collapsed": true,
    "jupyter": {
     "outputs_hidden": true
    },
    "scrolled": true
   },
   "outputs": [
    {
     "ename": "ValueError",
     "evalue": "Cannot run multiple SparkContexts at once; existing SparkContext(app=Spark NLP, master=local[*]) created by getOrCreate at /opt/conda/lib/python3.11/site-packages/sparknlp/__init__.py:199 ",
     "output_type": "error",
     "traceback": [
      "\u001b[0;31m---------------------------------------------------------------------------\u001b[0m",
      "\u001b[0;31mValueError\u001b[0m                                Traceback (most recent call last)",
      "Cell \u001b[0;32mIn[78], line 2\u001b[0m\n\u001b[1;32m      1\u001b[0m \u001b[38;5;28;01mfrom\u001b[39;00m \u001b[38;5;21;01mpyspark\u001b[39;00m \u001b[38;5;28;01mimport\u001b[39;00m SparkContext\n\u001b[0;32m----> 2\u001b[0m sc \u001b[38;5;241m=\u001b[39m \u001b[43mSparkContext\u001b[49m\u001b[43m(\u001b[49m\u001b[38;5;124;43m\"\u001b[39;49m\u001b[38;5;124;43mlocal\u001b[39;49m\u001b[38;5;124;43m\"\u001b[39;49m\u001b[43m,\u001b[49m\u001b[43m \u001b[49m\u001b[38;5;124;43m\"\u001b[39;49m\u001b[38;5;124;43mSimple App\u001b[39;49m\u001b[38;5;124;43m\"\u001b[39;49m\u001b[43m)\u001b[49m\n\u001b[1;32m      3\u001b[0m \u001b[38;5;28mprint\u001b[39m(sc)\n",
      "File \u001b[0;32m/opt/conda/lib/python3.11/site-packages/pyspark/context.py:198\u001b[0m, in \u001b[0;36mSparkContext.__init__\u001b[0;34m(self, master, appName, sparkHome, pyFiles, environment, batchSize, serializer, conf, gateway, jsc, profiler_cls, udf_profiler_cls, memory_profiler_cls)\u001b[0m\n\u001b[1;32m    192\u001b[0m \u001b[38;5;28;01mif\u001b[39;00m gateway \u001b[38;5;129;01mis\u001b[39;00m \u001b[38;5;129;01mnot\u001b[39;00m \u001b[38;5;28;01mNone\u001b[39;00m \u001b[38;5;129;01mand\u001b[39;00m gateway\u001b[38;5;241m.\u001b[39mgateway_parameters\u001b[38;5;241m.\u001b[39mauth_token \u001b[38;5;129;01mis\u001b[39;00m \u001b[38;5;28;01mNone\u001b[39;00m:\n\u001b[1;32m    193\u001b[0m     \u001b[38;5;28;01mraise\u001b[39;00m \u001b[38;5;167;01mValueError\u001b[39;00m(\n\u001b[1;32m    194\u001b[0m         \u001b[38;5;124m\"\u001b[39m\u001b[38;5;124mYou are trying to pass an insecure Py4j gateway to Spark. This\u001b[39m\u001b[38;5;124m\"\u001b[39m\n\u001b[1;32m    195\u001b[0m         \u001b[38;5;124m\"\u001b[39m\u001b[38;5;124m is not allowed as it is a security risk.\u001b[39m\u001b[38;5;124m\"\u001b[39m\n\u001b[1;32m    196\u001b[0m     )\n\u001b[0;32m--> 198\u001b[0m \u001b[43mSparkContext\u001b[49m\u001b[38;5;241;43m.\u001b[39;49m\u001b[43m_ensure_initialized\u001b[49m\u001b[43m(\u001b[49m\u001b[38;5;28;43mself\u001b[39;49m\u001b[43m,\u001b[49m\u001b[43m \u001b[49m\u001b[43mgateway\u001b[49m\u001b[38;5;241;43m=\u001b[39;49m\u001b[43mgateway\u001b[49m\u001b[43m,\u001b[49m\u001b[43m \u001b[49m\u001b[43mconf\u001b[49m\u001b[38;5;241;43m=\u001b[39;49m\u001b[43mconf\u001b[49m\u001b[43m)\u001b[49m\n\u001b[1;32m    199\u001b[0m \u001b[38;5;28;01mtry\u001b[39;00m:\n\u001b[1;32m    200\u001b[0m     \u001b[38;5;28mself\u001b[39m\u001b[38;5;241m.\u001b[39m_do_init(\n\u001b[1;32m    201\u001b[0m         master,\n\u001b[1;32m    202\u001b[0m         appName,\n\u001b[0;32m   (...)\u001b[0m\n\u001b[1;32m    212\u001b[0m         memory_profiler_cls,\n\u001b[1;32m    213\u001b[0m     )\n",
      "File \u001b[0;32m/opt/conda/lib/python3.11/site-packages/pyspark/context.py:445\u001b[0m, in \u001b[0;36mSparkContext._ensure_initialized\u001b[0;34m(cls, instance, gateway, conf)\u001b[0m\n\u001b[1;32m    442\u001b[0m     callsite \u001b[38;5;241m=\u001b[39m SparkContext\u001b[38;5;241m.\u001b[39m_active_spark_context\u001b[38;5;241m.\u001b[39m_callsite\n\u001b[1;32m    444\u001b[0m     \u001b[38;5;66;03m# Raise error if there is already a running Spark context\u001b[39;00m\n\u001b[0;32m--> 445\u001b[0m     \u001b[38;5;28;01mraise\u001b[39;00m \u001b[38;5;167;01mValueError\u001b[39;00m(\n\u001b[1;32m    446\u001b[0m         \u001b[38;5;124m\"\u001b[39m\u001b[38;5;124mCannot run multiple SparkContexts at once; \u001b[39m\u001b[38;5;124m\"\u001b[39m\n\u001b[1;32m    447\u001b[0m         \u001b[38;5;124m\"\u001b[39m\u001b[38;5;124mexisting SparkContext(app=\u001b[39m\u001b[38;5;132;01m%s\u001b[39;00m\u001b[38;5;124m, master=\u001b[39m\u001b[38;5;132;01m%s\u001b[39;00m\u001b[38;5;124m)\u001b[39m\u001b[38;5;124m\"\u001b[39m\n\u001b[1;32m    448\u001b[0m         \u001b[38;5;124m\"\u001b[39m\u001b[38;5;124m created by \u001b[39m\u001b[38;5;132;01m%s\u001b[39;00m\u001b[38;5;124m at \u001b[39m\u001b[38;5;132;01m%s\u001b[39;00m\u001b[38;5;124m:\u001b[39m\u001b[38;5;132;01m%s\u001b[39;00m\u001b[38;5;124m \u001b[39m\u001b[38;5;124m\"\u001b[39m\n\u001b[1;32m    449\u001b[0m         \u001b[38;5;241m%\u001b[39m (\n\u001b[1;32m    450\u001b[0m             currentAppName,\n\u001b[1;32m    451\u001b[0m             currentMaster,\n\u001b[1;32m    452\u001b[0m             callsite\u001b[38;5;241m.\u001b[39mfunction,\n\u001b[1;32m    453\u001b[0m             callsite\u001b[38;5;241m.\u001b[39mfile,\n\u001b[1;32m    454\u001b[0m             callsite\u001b[38;5;241m.\u001b[39mlinenum,\n\u001b[1;32m    455\u001b[0m         )\n\u001b[1;32m    456\u001b[0m     )\n\u001b[1;32m    457\u001b[0m \u001b[38;5;28;01melse\u001b[39;00m:\n\u001b[1;32m    458\u001b[0m     SparkContext\u001b[38;5;241m.\u001b[39m_active_spark_context \u001b[38;5;241m=\u001b[39m instance\n",
      "\u001b[0;31mValueError\u001b[0m: Cannot run multiple SparkContexts at once; existing SparkContext(app=Spark NLP, master=local[*]) created by getOrCreate at /opt/conda/lib/python3.11/site-packages/sparknlp/__init__.py:199 "
     ]
    }
   ],
   "source": [
    "from pyspark import SparkContext\n",
    "sc = SparkContext(\"local\", \"Simple App\")\n",
    "print(sc)\n"
   ]
  },
  {
   "cell_type": "code",
   "execution_count": 81,
   "id": "bb240850-ac48-42be-b831-b0fd5d31eb1e",
   "metadata": {
    "collapsed": true,
    "jupyter": {
     "outputs_hidden": true
    }
   },
   "outputs": [
    {
     "ename": "ParseException",
     "evalue": "\n[UNSUPPORTED_DATATYPE] Unsupported data type \"LIST\".(line 1, pos 0)\n\n== SQL ==\nlist\n^^^\n",
     "output_type": "error",
     "traceback": [
      "\u001b[0;31m---------------------------------------------------------------------------\u001b[0m",
      "\u001b[0;31mParseException\u001b[0m                            Traceback (most recent call last)",
      "Cell \u001b[0;32mIn[81], line 11\u001b[0m\n\u001b[1;32m      6\u001b[0m     \u001b[38;5;28;01mreturn\u001b[39;00m \u001b[38;5;28mfloat\u001b[39m(sentimentrow\u001b[38;5;241m.\u001b[39mitem()[\u001b[38;5;241m0\u001b[39m]\u001b[38;5;241m.\u001b[39m\u001b[38;5;21m__getitem__\u001b[39m(\u001b[38;5;124m'\u001b[39m\u001b[38;5;124mmetadata\u001b[39m\u001b[38;5;124m'\u001b[39m)[\u001b[38;5;124m'\u001b[39m\u001b[38;5;124mpositive\u001b[39m\u001b[38;5;124m'\u001b[39m]) \u001b[38;5;241m-\u001b[39m \u001b[38;5;28mfloat\u001b[39m(sentimentrow\u001b[38;5;241m.\u001b[39mitem()[\u001b[38;5;241m0\u001b[39m]\u001b[38;5;241m.\u001b[39m\u001b[38;5;21m__getitem__\u001b[39m(\u001b[38;5;124m'\u001b[39m\u001b[38;5;124mmetadata\u001b[39m\u001b[38;5;124m'\u001b[39m)[\u001b[38;5;124m'\u001b[39m\u001b[38;5;124mnegative\u001b[39m\u001b[38;5;124m'\u001b[39m]) \n\u001b[1;32m      8\u001b[0m scoreUDF \u001b[38;5;241m=\u001b[39m udf(\u001b[38;5;28;01mlambda\u001b[39;00m x: get_score(x),FloatType() )\n\u001b[0;32m---> 11\u001b[0m results\u001b[38;5;241m.\u001b[39mwithColumn(\u001b[38;5;124m'\u001b[39m\u001b[38;5;124msentitems\u001b[39m\u001b[38;5;124m'\u001b[39m, \u001b[43mf\u001b[49m\u001b[38;5;241;43m.\u001b[39;49m\u001b[43mcol\u001b[49m\u001b[43m(\u001b[49m\u001b[38;5;124;43m'\u001b[39;49m\u001b[38;5;124;43msentiment\u001b[39;49m\u001b[38;5;124;43m'\u001b[39;49m\u001b[43m)\u001b[49m\u001b[38;5;241;43m.\u001b[39;49m\u001b[43mastype\u001b[49m\u001b[43m(\u001b[49m\u001b[38;5;124;43m'\u001b[39;49m\u001b[38;5;124;43mlist\u001b[39;49m\u001b[38;5;124;43m'\u001b[39;49m\u001b[43m)\u001b[49m )\u001b[38;5;241m.\u001b[39mshow(\u001b[38;5;241m3\u001b[39m)\n\u001b[1;32m     13\u001b[0m \u001b[38;5;66;03m#results.withColumn('sent_score',   f.col('sentiment').item()[0].__getitem__('metadata')['positive'].cast('float') - f.col('sentiment').item()[0].__getitem__('metadata')['negative'].cast('float') ).show(5)\u001b[39;00m\n\u001b[1;32m     14\u001b[0m \n\u001b[1;32m     15\u001b[0m \u001b[38;5;66;03m#print(float(sentimentdata.loc[10].item()[0].__getitem__('metadata')['positive']) - float(sentimentdata.loc[10].item()[0].__getitem__('metadata')['negative']))\u001b[39;00m\n",
      "File \u001b[0;32m/opt/conda/lib/python3.11/site-packages/pyspark/sql/column.py:1188\u001b[0m, in \u001b[0;36mColumn.cast\u001b[0;34m(self, dataType)\u001b[0m\n\u001b[1;32m   1158\u001b[0m \u001b[38;5;250m\u001b[39m\u001b[38;5;124;03m\"\"\"\u001b[39;00m\n\u001b[1;32m   1159\u001b[0m \u001b[38;5;124;03mCasts the column into type ``dataType``.\u001b[39;00m\n\u001b[1;32m   1160\u001b[0m \n\u001b[0;32m   (...)\u001b[0m\n\u001b[1;32m   1185\u001b[0m \u001b[38;5;124;03m[Row(ages='2'), Row(ages='5')]\u001b[39;00m\n\u001b[1;32m   1186\u001b[0m \u001b[38;5;124;03m\"\"\"\u001b[39;00m\n\u001b[1;32m   1187\u001b[0m \u001b[38;5;28;01mif\u001b[39;00m \u001b[38;5;28misinstance\u001b[39m(dataType, \u001b[38;5;28mstr\u001b[39m):\n\u001b[0;32m-> 1188\u001b[0m     jc \u001b[38;5;241m=\u001b[39m \u001b[38;5;28;43mself\u001b[39;49m\u001b[38;5;241;43m.\u001b[39;49m\u001b[43m_jc\u001b[49m\u001b[38;5;241;43m.\u001b[39;49m\u001b[43mcast\u001b[49m\u001b[43m(\u001b[49m\u001b[43mdataType\u001b[49m\u001b[43m)\u001b[49m\n\u001b[1;32m   1189\u001b[0m \u001b[38;5;28;01melif\u001b[39;00m \u001b[38;5;28misinstance\u001b[39m(dataType, DataType):\n\u001b[1;32m   1190\u001b[0m     \u001b[38;5;28;01mfrom\u001b[39;00m \u001b[38;5;21;01mpyspark\u001b[39;00m\u001b[38;5;21;01m.\u001b[39;00m\u001b[38;5;21;01msql\u001b[39;00m \u001b[38;5;28;01mimport\u001b[39;00m SparkSession\n",
      "File \u001b[0;32m/opt/conda/lib/python3.11/site-packages/py4j/java_gateway.py:1322\u001b[0m, in \u001b[0;36mJavaMember.__call__\u001b[0;34m(self, *args)\u001b[0m\n\u001b[1;32m   1316\u001b[0m command \u001b[38;5;241m=\u001b[39m proto\u001b[38;5;241m.\u001b[39mCALL_COMMAND_NAME \u001b[38;5;241m+\u001b[39m\\\n\u001b[1;32m   1317\u001b[0m     \u001b[38;5;28mself\u001b[39m\u001b[38;5;241m.\u001b[39mcommand_header \u001b[38;5;241m+\u001b[39m\\\n\u001b[1;32m   1318\u001b[0m     args_command \u001b[38;5;241m+\u001b[39m\\\n\u001b[1;32m   1319\u001b[0m     proto\u001b[38;5;241m.\u001b[39mEND_COMMAND_PART\n\u001b[1;32m   1321\u001b[0m answer \u001b[38;5;241m=\u001b[39m \u001b[38;5;28mself\u001b[39m\u001b[38;5;241m.\u001b[39mgateway_client\u001b[38;5;241m.\u001b[39msend_command(command)\n\u001b[0;32m-> 1322\u001b[0m return_value \u001b[38;5;241m=\u001b[39m \u001b[43mget_return_value\u001b[49m\u001b[43m(\u001b[49m\n\u001b[1;32m   1323\u001b[0m \u001b[43m    \u001b[49m\u001b[43manswer\u001b[49m\u001b[43m,\u001b[49m\u001b[43m \u001b[49m\u001b[38;5;28;43mself\u001b[39;49m\u001b[38;5;241;43m.\u001b[39;49m\u001b[43mgateway_client\u001b[49m\u001b[43m,\u001b[49m\u001b[43m \u001b[49m\u001b[38;5;28;43mself\u001b[39;49m\u001b[38;5;241;43m.\u001b[39;49m\u001b[43mtarget_id\u001b[49m\u001b[43m,\u001b[49m\u001b[43m \u001b[49m\u001b[38;5;28;43mself\u001b[39;49m\u001b[38;5;241;43m.\u001b[39;49m\u001b[43mname\u001b[49m\u001b[43m)\u001b[49m\n\u001b[1;32m   1325\u001b[0m \u001b[38;5;28;01mfor\u001b[39;00m temp_arg \u001b[38;5;129;01min\u001b[39;00m temp_args:\n\u001b[1;32m   1326\u001b[0m     \u001b[38;5;28;01mif\u001b[39;00m \u001b[38;5;28mhasattr\u001b[39m(temp_arg, \u001b[38;5;124m\"\u001b[39m\u001b[38;5;124m_detach\u001b[39m\u001b[38;5;124m\"\u001b[39m):\n",
      "File \u001b[0;32m/opt/conda/lib/python3.11/site-packages/pyspark/errors/exceptions/captured.py:175\u001b[0m, in \u001b[0;36mcapture_sql_exception.<locals>.deco\u001b[0;34m(*a, **kw)\u001b[0m\n\u001b[1;32m    171\u001b[0m converted \u001b[38;5;241m=\u001b[39m convert_exception(e\u001b[38;5;241m.\u001b[39mjava_exception)\n\u001b[1;32m    172\u001b[0m \u001b[38;5;28;01mif\u001b[39;00m \u001b[38;5;129;01mnot\u001b[39;00m \u001b[38;5;28misinstance\u001b[39m(converted, UnknownException):\n\u001b[1;32m    173\u001b[0m     \u001b[38;5;66;03m# Hide where the exception came from that shows a non-Pythonic\u001b[39;00m\n\u001b[1;32m    174\u001b[0m     \u001b[38;5;66;03m# JVM exception message.\u001b[39;00m\n\u001b[0;32m--> 175\u001b[0m     \u001b[38;5;28;01mraise\u001b[39;00m converted \u001b[38;5;28;01mfrom\u001b[39;00m \u001b[38;5;28;01mNone\u001b[39;00m\n\u001b[1;32m    176\u001b[0m \u001b[38;5;28;01melse\u001b[39;00m:\n\u001b[1;32m    177\u001b[0m     \u001b[38;5;28;01mraise\u001b[39;00m\n",
      "\u001b[0;31mParseException\u001b[0m: \n[UNSUPPORTED_DATATYPE] Unsupported data type \"LIST\".(line 1, pos 0)\n\n== SQL ==\nlist\n^^^\n"
     ]
    }
   ],
   "source": [
    "#from pyspark.sql.functions import udf\n",
    "#from pyspark.sql.types import FloatType\n",
    "\n",
    "#@udf\n",
    "#def get_score(sentimentrow, i):\n",
    "#    return float(sentimentrow.item()[0].__getitem__('metadata')['positive']) - float(sentimentrow.item()[0].__getitem__('metadata')['negative']) \n",
    "\n",
    "#scoreUDF = udf(lambda x: get_score(x),FloatType() )\n",
    "\n",
    "\n",
    "#results.withColumn('sentitems', f.col('sentiment') ).show(3)\n",
    "\n",
    "\n",
    "\n",
    "\n",
    "\n",
    "# below 3was already commented out\n",
    "\n",
    "#results.withColumn('sent_score',   f.col('sentiment').item()[0].__getitem__('metadata')['positive'].cast('float') - f.col('sentiment').item()[0].__getitem__('metadata')['negative'].cast('float') ).show(5)\n",
    "\n",
    "#print(float(sentimentdata.loc[10].item()[0].__getitem__('metadata')['positive']) - float(sentimentdata.loc[10].item()[0].__getitem__('metadata')['negative']))\n"
   ]
  },
  {
   "cell_type": "code",
   "execution_count": 90,
   "id": "c458e174-7336-4fc0-ad52-aa215f84023d",
   "metadata": {
    "collapsed": true,
    "jupyter": {
     "outputs_hidden": true
    }
   },
   "outputs": [
    {
     "name": "stdout",
     "output_type": "stream",
     "text": [
      "--2024-11-14 21:42:19--  https://s3.amazonaws.com/auxdata.johnsnowlabs.com/public/resources/en/lemma-corpus-small/lemmas_small.txt\n",
      "Resolving s3.amazonaws.com (s3.amazonaws.com)... 52.216.52.88, 54.231.135.24, 52.217.125.8, ...\n",
      "Connecting to s3.amazonaws.com (s3.amazonaws.com)|52.216.52.88|:443... connected.\n",
      "WARNING: cannot verify s3.amazonaws.com's certificate, issued by ‘CN=Amazon RSA 2048 M01,O=Amazon,C=US’:\n",
      "  Unable to locally verify the issuer's authority.\n",
      "HTTP request sent, awaiting response... 200 OK\n",
      "Length: 189437 (185K) [text/plain]\n",
      "Saving to: ‘./tmp/lemmas_small.txt’\n",
      "\n",
      "lemmas_small.txt    100%[===================>] 185.00K  --.-KB/s    in 0.007s  \n",
      "\n",
      "2024-11-14 21:42:19 (25.5 MB/s) - ‘./tmp/lemmas_small.txt’ saved [189437/189437]\n",
      "\n",
      "--2024-11-14 21:42:19--  https://s3.amazonaws.com/auxdata.johnsnowlabs.com/public/resources/en/sentiment-corpus/default-sentiment-dict.txt\n",
      "Resolving s3.amazonaws.com (s3.amazonaws.com)... 52.217.200.40, 52.217.227.0, 52.217.142.152, ...\n",
      "Connecting to s3.amazonaws.com (s3.amazonaws.com)|52.217.200.40|:443... connected.\n",
      "WARNING: cannot verify s3.amazonaws.com's certificate, issued by ‘CN=Amazon RSA 2048 M01,O=Amazon,C=US’:\n",
      "  Unable to locally verify the issuer's authority.\n",
      "HTTP request sent, awaiting response... 200 OK\n",
      "Length: 289 [text/plain]\n",
      "Saving to: ‘./tmp/default-sentiment-dict.txt’\n",
      "\n",
      "default-sentiment-d 100%[===================>]     289  --.-KB/s    in 0s      \n",
      "\n",
      "2024-11-14 21:42:19 (8.13 MB/s) - ‘./tmp/default-sentiment-dict.txt’ saved [289/289]\n",
      "\n"
     ]
    }
   ],
   "source": [
    "!wget -N https://s3.amazonaws.com/auxdata.johnsnowlabs.com/public/resources/en/lemma-corpus-small/lemmas_small.txt -P ./tmp --no-check-certificate\n",
    "!wget -N https://s3.amazonaws.com/auxdata.johnsnowlabs.com/public/resources/en/sentiment-corpus/default-sentiment-dict.txt -P ./tmp --no-check-certificate"
   ]
  },
  {
   "cell_type": "code",
   "execution_count": 50,
   "id": "b5ef671a-99d8-4a49-95a1-bf1c2586c7b1",
   "metadata": {},
   "outputs": [
    {
     "name": "stdout",
     "output_type": "stream",
     "text": [
      "sentimentdl_use_twitter download started this may take some time.\n",
      "Approximate size to download 11.4 MB\n",
      "[ | ]sentimentdl_use_twitter download started this may take some time.\n",
      "Approximate size to download 11.4 MB\n"
     ]
    },
    {
     "name": "stderr",
     "output_type": "stream",
     "text": [
      "24/11/15 01:34:17 WARN S3AbortableInputStream: Not all bytes were read from the S3ObjectInputStream, aborting HTTP connection. This is likely an error and may result in sub-optimal behavior. Request only the bytes you need via a ranged GET or drain the input stream after use.\n",
      "24/11/15 01:34:17 WARN S3AbortableInputStream: Not all bytes were read from the S3ObjectInputStream, aborting HTTP connection. This is likely an error and may result in sub-optimal behavior. Request only the bytes you need via a ranged GET or drain the input stream after use.\n"
     ]
    },
    {
     "name": "stdout",
     "output_type": "stream",
     "text": [
      "Download done! Loading the resource.\n",
      "[ / ]"
     ]
    },
    {
     "name": "stderr",
     "output_type": "stream",
     "text": [
      "2024-11-15 01:34:20.792926: I external/org_tensorflow/tensorflow/core/platform/cpu_feature_guard.cc:151] This TensorFlow binary is optimized with oneAPI Deep Neural Network Library (oneDNN) to use the following CPU instructions in performance-critical operations:  AVX2 AVX512F FMA\n",
      "To enable them in other operations, rebuild TensorFlow with the appropriate compiler flags.\n"
     ]
    },
    {
     "name": "stdout",
     "output_type": "stream",
     "text": [
      "[OK!]\n"
     ]
    },
    {
     "ename": "TypeError",
     "evalue": "setInputCols in SentimentDLModel_eca587b575f7 expecting 1 columns. Provided column amount: 2. Which should be columns from the following annotators: ['sentence_embeddings']",
     "output_type": "error",
     "traceback": [
      "\u001b[0;31m---------------------------------------------------------------------------\u001b[0m",
      "\u001b[0;31mTypeError\u001b[0m                                 Traceback (most recent call last)",
      "Cell \u001b[0;32mIn[50], line 38\u001b[0m\n\u001b[1;32m     28\u001b[0m sentiment_detector\u001b[38;5;241m=\u001b[39m (\n\u001b[1;32m     29\u001b[0m     SentimentDetector()\n\u001b[1;32m     30\u001b[0m     \u001b[38;5;241m.\u001b[39msetInputCols([\u001b[38;5;124m\"\u001b[39m\u001b[38;5;124mlemma\u001b[39m\u001b[38;5;124m\"\u001b[39m, \u001b[38;5;124m\"\u001b[39m\u001b[38;5;124msentence\u001b[39m\u001b[38;5;124m\"\u001b[39m]) \\\n\u001b[0;32m   (...)\u001b[0m\n\u001b[1;32m     33\u001b[0m    \n\u001b[1;32m     34\u001b[0m )\n\u001b[1;32m     36\u001b[0m MODEL_NAME\u001b[38;5;241m=\u001b[39m\u001b[38;5;124m'\u001b[39m\u001b[38;5;124msentimentdl_use_twitter\u001b[39m\u001b[38;5;124m'\u001b[39m\n\u001b[1;32m     37\u001b[0m sentimentdl \u001b[38;5;241m=\u001b[39m \u001b[43mSentimentDLModel\u001b[49m\u001b[38;5;241;43m.\u001b[39;49m\u001b[43mpretrained\u001b[49m\u001b[43m(\u001b[49m\u001b[43mname\u001b[49m\u001b[38;5;241;43m=\u001b[39;49m\u001b[43mMODEL_NAME\u001b[49m\u001b[43m,\u001b[49m\u001b[43m \u001b[49m\u001b[43mlang\u001b[49m\u001b[38;5;241;43m=\u001b[39;49m\u001b[38;5;124;43m\"\u001b[39;49m\u001b[38;5;124;43men\u001b[39;49m\u001b[38;5;124;43m\"\u001b[39;49m\u001b[43m)\u001b[49m\u001b[43m\\\u001b[49m\n\u001b[0;32m---> 38\u001b[0m \u001b[43m    \u001b[49m\u001b[38;5;241;43m.\u001b[39;49m\u001b[43msetInputCols\u001b[49m\u001b[43m(\u001b[49m\u001b[43m[\u001b[49m\u001b[38;5;124;43m\"\u001b[39;49m\u001b[38;5;124;43mlemma\u001b[39;49m\u001b[38;5;124;43m\"\u001b[39;49m\u001b[43m,\u001b[49m\u001b[43m \u001b[49m\u001b[38;5;124;43m\"\u001b[39;49m\u001b[38;5;124;43msentence\u001b[39;49m\u001b[38;5;124;43m\"\u001b[39;49m\u001b[43m]\u001b[49m\u001b[43m)\u001b[49m\\\n\u001b[1;32m     39\u001b[0m     \u001b[38;5;241m.\u001b[39msetOutputCol(\u001b[38;5;124m\"\u001b[39m\u001b[38;5;124msentiment_score\u001b[39m\u001b[38;5;124m\"\u001b[39m)\n\u001b[1;32m     42\u001b[0m \u001b[38;5;66;03m#sentiment_detector.enableScore = True\u001b[39;00m\n\u001b[1;32m     43\u001b[0m \n\u001b[1;32m     44\u001b[0m \n\u001b[1;32m     45\u001b[0m \u001b[38;5;66;03m# Step 6: Finisher\u001b[39;00m\n\u001b[1;32m     46\u001b[0m finisher\u001b[38;5;241m=\u001b[39m (\n\u001b[1;32m     47\u001b[0m     Finisher()\n\u001b[1;32m     48\u001b[0m     \u001b[38;5;241m.\u001b[39msetInputCols([\u001b[38;5;124m\"\u001b[39m\u001b[38;5;124msentiment_score\u001b[39m\u001b[38;5;124m\"\u001b[39m])\u001b[38;5;241m.\u001b[39msetOutputCols(\u001b[38;5;124m\"\u001b[39m\u001b[38;5;124msentiment\u001b[39m\u001b[38;5;124m\"\u001b[39m)\n\u001b[1;32m     49\u001b[0m )\n",
      "File \u001b[0;32m/opt/conda/lib/python3.11/site-packages/sparknlp/common/annotator_properties.py:51\u001b[0m, in \u001b[0;36mAnnotatorProperties.setInputCols\u001b[0;34m(self, *value)\u001b[0m\n\u001b[1;32m     43\u001b[0m \u001b[38;5;250m\u001b[39m\u001b[38;5;124;03m\"\"\"Sets column names of input annotations.\u001b[39;00m\n\u001b[1;32m     44\u001b[0m \n\u001b[1;32m     45\u001b[0m \u001b[38;5;124;03mParameters\u001b[39;00m\n\u001b[0;32m   (...)\u001b[0m\n\u001b[1;32m     48\u001b[0m \u001b[38;5;124;03m    Input columns for the annotator\u001b[39;00m\n\u001b[1;32m     49\u001b[0m \u001b[38;5;124;03m\"\"\"\u001b[39;00m\n\u001b[1;32m     50\u001b[0m \u001b[38;5;28;01mif\u001b[39;00m \u001b[38;5;28mtype\u001b[39m(value[\u001b[38;5;241m0\u001b[39m]) \u001b[38;5;241m==\u001b[39m \u001b[38;5;28mstr\u001b[39m \u001b[38;5;129;01mor\u001b[39;00m \u001b[38;5;28mtype\u001b[39m(value[\u001b[38;5;241m0\u001b[39m]) \u001b[38;5;241m==\u001b[39m \u001b[38;5;28mlist\u001b[39m:\n\u001b[0;32m---> 51\u001b[0m     \u001b[38;5;28;43mself\u001b[39;49m\u001b[38;5;241;43m.\u001b[39;49m\u001b[43minputColsValidation\u001b[49m\u001b[43m(\u001b[49m\u001b[43mvalue\u001b[49m\u001b[43m)\u001b[49m\n\u001b[1;32m     52\u001b[0m     \u001b[38;5;28;01mif\u001b[39;00m \u001b[38;5;28mlen\u001b[39m(value) \u001b[38;5;241m==\u001b[39m \u001b[38;5;241m1\u001b[39m \u001b[38;5;129;01mand\u001b[39;00m \u001b[38;5;28mtype\u001b[39m(value[\u001b[38;5;241m0\u001b[39m]) \u001b[38;5;241m==\u001b[39m \u001b[38;5;28mlist\u001b[39m:\n\u001b[1;32m     53\u001b[0m         \u001b[38;5;28;01mreturn\u001b[39;00m \u001b[38;5;28mself\u001b[39m\u001b[38;5;241m.\u001b[39m_set(inputCols\u001b[38;5;241m=\u001b[39mvalue[\u001b[38;5;241m0\u001b[39m])\n",
      "File \u001b[0;32m/opt/conda/lib/python3.11/site-packages/sparknlp/common/annotator_properties.py:68\u001b[0m, in \u001b[0;36mAnnotatorProperties.inputColsValidation\u001b[0;34m(self, value)\u001b[0m\n\u001b[1;32m     66\u001b[0m \u001b[38;5;28;01mif\u001b[39;00m \u001b[38;5;28mlen\u001b[39m(\u001b[38;5;28mself\u001b[39m\u001b[38;5;241m.\u001b[39moptionalInputAnnotatorTypes) \u001b[38;5;241m==\u001b[39m \u001b[38;5;241m0\u001b[39m:\n\u001b[1;32m     67\u001b[0m     \u001b[38;5;28;01mif\u001b[39;00m actual_columns \u001b[38;5;241m!=\u001b[39m expected_columns:\n\u001b[0;32m---> 68\u001b[0m         \u001b[38;5;28;01mraise\u001b[39;00m \u001b[38;5;167;01mTypeError\u001b[39;00m(\n\u001b[1;32m     69\u001b[0m             \u001b[38;5;124mf\u001b[39m\u001b[38;5;124m\"\u001b[39m\u001b[38;5;124msetInputCols in \u001b[39m\u001b[38;5;132;01m{\u001b[39;00m\u001b[38;5;28mself\u001b[39m\u001b[38;5;241m.\u001b[39muid\u001b[38;5;132;01m}\u001b[39;00m\u001b[38;5;124m expecting \u001b[39m\u001b[38;5;132;01m{\u001b[39;00mexpected_columns\u001b[38;5;132;01m}\u001b[39;00m\u001b[38;5;124m columns. \u001b[39m\u001b[38;5;124m\"\u001b[39m\n\u001b[1;32m     70\u001b[0m             \u001b[38;5;124mf\u001b[39m\u001b[38;5;124m\"\u001b[39m\u001b[38;5;124mProvided column amount: \u001b[39m\u001b[38;5;132;01m{\u001b[39;00mactual_columns\u001b[38;5;132;01m}\u001b[39;00m\u001b[38;5;124m. \u001b[39m\u001b[38;5;124m\"\u001b[39m\n\u001b[1;32m     71\u001b[0m             \u001b[38;5;124mf\u001b[39m\u001b[38;5;124m\"\u001b[39m\u001b[38;5;124mWhich should be columns from the following annotators: \u001b[39m\u001b[38;5;132;01m{\u001b[39;00m\u001b[38;5;28mself\u001b[39m\u001b[38;5;241m.\u001b[39minputAnnotatorTypes\u001b[38;5;132;01m}\u001b[39;00m\u001b[38;5;124m\"\u001b[39m)\n\u001b[1;32m     72\u001b[0m \u001b[38;5;28;01melse\u001b[39;00m:\n\u001b[1;32m     73\u001b[0m     expected_columns \u001b[38;5;241m=\u001b[39m expected_columns \u001b[38;5;241m+\u001b[39m \u001b[38;5;28mlen\u001b[39m(\u001b[38;5;28mself\u001b[39m\u001b[38;5;241m.\u001b[39moptionalInputAnnotatorTypes)\n",
      "\u001b[0;31mTypeError\u001b[0m: setInputCols in SentimentDLModel_eca587b575f7 expecting 1 columns. Provided column amount: 2. Which should be columns from the following annotators: ['sentence_embeddings']"
     ]
    }
   ],
   "source": [
    "# DONT RUN THIS ONE FOR REAL RESULTS/USES THE DICTIONARY BASED  DATA\n",
    "# Import the required modules and classes\n",
    "from sparknlp.base import DocumentAssembler, Pipeline, Finisher\n",
    "from sparknlp.annotator import (\n",
    "    SentenceDetector,\n",
    "    Tokenizer,\n",
    "    Lemmatizer,\n",
    "    SentimentDetector\n",
    ")\n",
    "#import sparknlp.annotator.pragmatic\n",
    "#from sparknlp.annotator.pragmatic import SentimentDetector\n",
    "\n",
    "\n",
    "import pyspark.sql.functions as F\n",
    "# Step 1: Transforms raw texts to `document` annotation\n",
    "document_assembler = (\n",
    "    DocumentAssembler()\n",
    "    .setInputCol(\"body\")\n",
    "    .setOutputCol(\"document\")\n",
    ")\n",
    "# Step 2: Sentence Detection\n",
    "sentence_detector = SentenceDetector().setInputCols([\"document\"]).setOutputCol(\"sentence\")\n",
    "# Step 3: Tokenization\n",
    "tokenizer = Tokenizer().setInputCols([\"sentence\"]).setOutputCol(\"token\")\n",
    "# Step 4: Lemmatization\n",
    "lemmatizer= Lemmatizer().setInputCols(\"token\").setOutputCol(\"lemma\") \\\n",
    "                        .setDictionary(\"./tmp/lemmas_small.txt\", key_delimiter=\"->\", value_delimiter=\"\\t\")\n",
    "# Step 5: Sentiment Detection\n",
    "sentiment_detector= (\n",
    "    SentimentDetector()\n",
    "    .setInputCols([\"lemma\", \"sentence\"]) \\\n",
    "    .setOutputCol(\"sentiment_score\") \\\n",
    "    .setDictionary(\"./tmp/default-sentiment-dict.txt\", \",\")\n",
    "   \n",
    ")\n",
    "\n",
    "MODEL_NAME='sentimentdl_use_twitter'\n",
    "sentimentdl = SentimentDLModel.pretrained(name=MODEL_NAME, lang=\"en\")\\\n",
    "    .setInputCols([\"lemma\", \"sentence\"])\\\n",
    "    .setOutputCol(\"sentiment_score\")\n",
    "\n",
    "\n",
    "#sentiment_detector.enableScore = True\n",
    "\n",
    "\n",
    "# Step 6: Finisher\n",
    "finisher= (\n",
    "    Finisher()\n",
    "    .setInputCols([\"sentiment_score\"]).setOutputCols(\"sentiment\")\n",
    ")\n",
    "\n",
    "# Define the pipeline\n",
    "pipeline = Pipeline(\n",
    "    stages=[\n",
    "        document_assembler,\n",
    "        sentence_detector, \n",
    "        tokenizer, \n",
    "        lemmatizer, \n",
    "        #sentiment_detector, \n",
    "        sentimentdl,\n",
    "        finisher\n",
    "    ]\n",
    ")"
   ]
  },
  {
   "cell_type": "code",
   "execution_count": 11,
   "id": "786bc5c1-680d-47ef-9db3-9b22682586b8",
   "metadata": {},
   "outputs": [
    {
     "name": "stderr",
     "output_type": "stream",
     "text": [
      "WARNING: An illegal reflective access operation has occurred\n",
      "WARNING: Illegal reflective access by org.apache.spark.util.SizeEstimator$ (file:/opt/conda/lib/python3.11/site-packages/pyspark/jars/spark-core_2.12-3.4.0.jar) to field java.util.regex.Pattern.pattern\n",
      "WARNING: Please consider reporting this to the maintainers of org.apache.spark.util.SizeEstimator$\n",
      "WARNING: Use --illegal-access=warn to enable warnings of further illegal reflective access operations\n",
      "WARNING: All illegal access operations will be denied in a future release\n"
     ]
    }
   ],
   "source": [
    "pipelineModel = pipeline.fit(working_comments2)\n",
    "results = pipelineModel.transform(working_comments2)\n",
    "\n"
   ]
  },
  {
   "cell_type": "code",
   "execution_count": 23,
   "id": "c6836b9a-86b4-4372-a2bd-79fd83e27d23",
   "metadata": {},
   "outputs": [
    {
     "name": "stdout",
     "output_type": "stream",
     "text": [
      "+--------------------+----------------------+--------------------+--------------------+----------------+-----------+-------------+------+------+-------+----------+----------+------------+-----+--------+--------------+------------+-------+-----+------+-----+----------+\n",
      "|              author|author_flair_css_class|   author_flair_text|                body|controversiality|created_utc|distinguished|edited|gilded|     id|   link_id| parent_id|retrieved_on|score|stickied|     subreddit|subreddit_id|bodylen|  snp|crypto|  fed| sentiment|\n",
      "+--------------------+----------------------+--------------------+--------------------+----------------+-----------+-------------+------+------+-------+----------+----------+------------+-----+--------+--------------+------------+-------+-----+------+-----+----------+\n",
      "|discussionandrespect|                      |sleeping peaceful...|we’ll all be rich...|               0| 1689744941|         null|  null|     0|jsjytab|t3_153et67|t1_jsjy5nd|  1689744965|    1|   false|CryptoCurrency|    t5_2wlj3|     44|false| false|false|[positive]|\n",
      "|          XWarriorYZ|                      |Platinum | QC: CC...|it’s probably jus...|               0| 1689747447|         null|  null|     0|jsk2hk9|t3_153lr3d|t3_153lr3d|  1689747473|    1|   false|CryptoCurrency|    t5_2wlj3|    109|false| false|false| [neutral]|\n",
      "|             Jocogui|      Warning-level1-1|Bronze | 6 months...|it's going to be ...|               0| 1689749807|         null|  null|     0|jsk5r5b|t3_153mtyq|t1_jsk43y0|  1689749827|    1|   false|CryptoCurrency|    t5_2wlj3|    179|false|  true|false|[positive]|\n",
      "|  JunglistMovement95|      Warning-level1-1|              Bronze|i will be laughin...|               0| 1689752349|         null|  null|     0|jsk93py|t3_152d296|t3_152d296|  1689752366|    1|   false|CryptoCurrency|    t5_2wlj3|     74|false| false|false|[positive]|\n",
      "|           [deleted]|                  null|                null|           [removed]|               0| 1689753235|         null|  null|     0|jska7z0|t3_153lt2n|t3_153lt2n|  1689753250|    1|   false|CryptoCurrency|    t5_2wlj3|      9|false| false|false|[negative]|\n",
      "|           DarioDays|      Warning-level2-2|                 Tin|always the countr...|               0| 1689754347|         null|  null|     0|jskbm43|t3_153op2v|t3_153op2v|  1689754376|    1|   false|CryptoCurrency|    t5_2wlj3|    109|false|  true|false|[positive]|\n",
      "|            lourkeur|      Warning-level2-2|                 Tin|i am excited to s...|               0| 1689755361|         null|  null|     0|jskcvjq|t3_1536efj|t1_jsiv8he|  1689755381|    1|   false|CryptoCurrency|    t5_2wlj3|    108|false| false|false|[negative]|\n",
      "|         Sorrytoruin|                  null|Platinum | QC: CC...|           over 9000|               0| 1689756461|         null|  null|     0|jske8zn|t3_153nsfj|t1_jsk83k3|  1689756480|    1|   false|CryptoCurrency|    t5_2wlj3|      9|false| false|false|[positive]|\n",
      "|           XADEBRAVO|                  null|                null|  that's incredible!|               0| 1689756783|         null|  null|     0|jskenij|t3_153p4uf|t1_jskect5|  1689756808|    1|   false|CryptoCurrency|    t5_2wlj3|     18|false| false|false|[positive]|\n",
      "|             Zein313|                      |                    |these are the bit...|               0| 1689758659|         null|  null|     0|jskgyz3|t3_152ftll|t3_152ftll|  1689758686|    1|   false|CryptoCurrency|    t5_2wlj3|    593|false|  true|false|[positive]|\n",
      "|           KuronFury|      Warning-level2-2|                 Tin|the real whale, r...|               0| 1689758960|         null|  null|     0|jskhcp1|t3_153pgf8|t1_jskgt8t|  1689758983|    1|   false|CryptoCurrency|    t5_2wlj3|     26|false| false|false|[positive]|\n",
      "|         brianmcg321|                  null|                null|                 vti|               0| 1689765813|         null|  null|     0|jskqyik|t3_153kqa9|t3_153kqa9|  1689765841|    1|   false|     investing|    t5_2qhhq|      3|false| false|false|[positive]|\n",
      "|            Ofulinac|                      |Platinum | QC: CC 32|i mean that's one...|               0| 1689767267|         null|  null|     0|jsktemq|t3_153sp41|t3_153sp41|  1689767284|    1|   false|CryptoCurrency|    t5_2wlj3|     99|false| false|false|[positive]|\n",
      "|            raphanum|      Warning-level2-2|                 Tin|i love your enthu...|               0| 1689767585|         null|  null|     0|jsktyxr|t3_153lr3d|t1_jskts2d|  1689767615|    1|   false|CryptoCurrency|    t5_2wlj3|    143|false|  true|false|[positive]|\n",
      "|          VoxImperii|                      |Platinum | QC: CC...|what a sack of sh...|               0| 1689768416|         null|  null|     0|jskvhbo|t3_153rkm9|t3_153rkm9|  1689768439|    1|   false|CryptoCurrency|    t5_2wlj3|     63|false| false|false|[negative]|\n",
      "|        LargeSnorlax|                  null|                null|stablecoins aren'...|               0| 1689771124|         null|  null|     0|jsl0r1p|t3_153sm6h|t1_jsktf7k|  1689771145|    1|   false|CryptoCurrency|    t5_2wlj3|    516|false|  true|false|[positive]|\n",
      "|            omghag18|                      |                    |sold 24% of my st...|               0| 1689771696|         null|  null|     0|jsl1yok|t3_153rkcw|t3_153rkcw|  1689771728|    1|   false|CryptoCurrency|    t5_2wlj3|    103|false| false|false|[negative]|\n",
      "|    Probably_notabot|      Warning-level2-2|     Tin | CC critic|receiving them co...|               0| 1689771849|         null|  null|     0|jsl2a7p|t3_153lr3d|t1_jskx4nv|  1689771874|    1|   false|CryptoCurrency|    t5_2wlj3|     87|false| false|false|[positive]|\n",
      "|            Tasigur1|      Warning-level2-2|                 Tin|imagine u get pai...|               0| 1689772482|         null|  null|     0|jsl3nxz|t3_153q4r1|t1_jsko2mz|  1689772509|    1|   false|CryptoCurrency|    t5_2wlj3|     67|false| false|false| [neutral]|\n",
      "|         Carib_Coiin|      Warning-level2-2|                 Tin|what do we use mo...|               0| 1689772587|         null|  null|     0|jsl3w9u|t3_153tfdl|t1_jsl3t5g|  1689772613|    1|   false|CryptoCurrency|    t5_2wlj3|     31|false| false|false|[positive]|\n",
      "+--------------------+----------------------+--------------------+--------------------+----------------+-----------+-------------+------+------+-------+----------+----------+------------+-----+--------+--------------+------------+-------+-----+------+-----+----------+\n",
      "only showing top 20 rows\n",
      "\n"
     ]
    }
   ],
   "source": [
    "results2.show()"
   ]
  },
  {
   "cell_type": "code",
   "execution_count": 30,
   "id": "bc725cba-fb1a-452a-94d5-adc7ddb4e582",
   "metadata": {},
   "outputs": [],
   "source": [
    "sentiment_chart_columns = (\"sentiment\",\"subreddit\", \"snp\",\"crypto\", \"fed\" ,\"score\",\"created_utc\")\n",
    "clean_results = results2.select(*sentiment_chart_columns)\n"
   ]
  },
  {
   "cell_type": "code",
   "execution_count": 31,
   "id": "e4494613-31c9-4f77-9ab8-1c068693b7a9",
   "metadata": {},
   "outputs": [],
   "source": [
    "clean_results = clean_results.withColumn(\"created_utc\", f.from_unixtime(\"created_utc\")) \\\n",
    "                .withColumn('day', f.dayofmonth('created_utc')) \\\n",
    "                .withColumn('month', f.month('created_utc')) \\\n",
    "                .withColumn('year', f.year('created_utc')) \\\n",
    "                .withColumn('pos', f.when(f.col('sentiment')[0] == 'positive', 1).otherwise(0)) \\\n",
    "                .withColumn('neg', f.when(f.col('sentiment')[0] == 'negative', 1).otherwise(0)) \\\n",
    "                .withColumn('neu', f.when(f.col('sentiment')[0] == 'neutral', 1).otherwise(0)) \n",
    "\n",
    "\n",
    "                    "
   ]
  },
  {
   "cell_type": "code",
   "execution_count": 32,
   "id": "a1a0822e-ece0-4cb0-bb58-a57125ad1aeb",
   "metadata": {},
   "outputs": [
    {
     "name": "stdout",
     "output_type": "stream",
     "text": [
      "+----------+--------------+-----+------+-----+-----+-------------------+---+-----+----+---+---+---+\n",
      "| sentiment|     subreddit|  snp|crypto|  fed|score|        created_utc|day|month|year|pos|neg|neu|\n",
      "+----------+--------------+-----+------+-----+-----+-------------------+---+-----+----+---+---+---+\n",
      "|[positive]|CryptoCurrency|false| false|false|    1|2023-07-19 05:35:41| 19|    7|2023|  1|  0|  0|\n",
      "| [neutral]|CryptoCurrency|false| false|false|    1|2023-07-19 06:17:27| 19|    7|2023|  0|  0|  1|\n",
      "|[positive]|CryptoCurrency|false|  true|false|    1|2023-07-19 06:56:47| 19|    7|2023|  1|  0|  0|\n",
      "|[positive]|CryptoCurrency|false| false|false|    1|2023-07-19 07:39:09| 19|    7|2023|  1|  0|  0|\n",
      "|[negative]|CryptoCurrency|false| false|false|    1|2023-07-19 07:53:55| 19|    7|2023|  0|  1|  0|\n",
      "|[positive]|CryptoCurrency|false|  true|false|    1|2023-07-19 08:12:27| 19|    7|2023|  1|  0|  0|\n",
      "|[negative]|CryptoCurrency|false| false|false|    1|2023-07-19 08:29:21| 19|    7|2023|  0|  1|  0|\n",
      "|[positive]|CryptoCurrency|false| false|false|    1|2023-07-19 08:47:41| 19|    7|2023|  1|  0|  0|\n",
      "|[positive]|CryptoCurrency|false| false|false|    1|2023-07-19 08:53:03| 19|    7|2023|  1|  0|  0|\n",
      "|[positive]|CryptoCurrency|false|  true|false|    1|2023-07-19 09:24:19| 19|    7|2023|  1|  0|  0|\n",
      "|[positive]|CryptoCurrency|false| false|false|    1|2023-07-19 09:29:20| 19|    7|2023|  1|  0|  0|\n",
      "|[positive]|     investing|false| false|false|    1|2023-07-19 11:23:33| 19|    7|2023|  1|  0|  0|\n",
      "|[positive]|CryptoCurrency|false| false|false|    1|2023-07-19 11:47:47| 19|    7|2023|  1|  0|  0|\n",
      "|[positive]|CryptoCurrency|false|  true|false|    1|2023-07-19 11:53:05| 19|    7|2023|  1|  0|  0|\n",
      "|[negative]|CryptoCurrency|false| false|false|    1|2023-07-19 12:06:56| 19|    7|2023|  0|  1|  0|\n",
      "|[positive]|CryptoCurrency|false|  true|false|    1|2023-07-19 12:52:04| 19|    7|2023|  1|  0|  0|\n",
      "|[negative]|CryptoCurrency|false| false|false|    1|2023-07-19 13:01:36| 19|    7|2023|  0|  1|  0|\n",
      "|[positive]|CryptoCurrency|false| false|false|    1|2023-07-19 13:04:09| 19|    7|2023|  1|  0|  0|\n",
      "| [neutral]|CryptoCurrency|false| false|false|    1|2023-07-19 13:14:42| 19|    7|2023|  0|  0|  1|\n",
      "|[positive]|CryptoCurrency|false| false|false|    1|2023-07-19 13:16:27| 19|    7|2023|  1|  0|  0|\n",
      "+----------+--------------+-----+------+-----+-----+-------------------+---+-----+----+---+---+---+\n",
      "only showing top 20 rows\n",
      "\n"
     ]
    }
   ],
   "source": [
    "\n",
    "\n",
    "clean_results.show()"
   ]
  },
  {
   "cell_type": "code",
   "execution_count": 33,
   "id": "9557f13c-9b41-4eb3-939a-0e5bfd848cd2",
   "metadata": {},
   "outputs": [
    {
     "name": "stderr",
     "output_type": "stream",
     "text": [
      "                                                                                \r"
     ]
    }
   ],
   "source": [
    "sentiment_over_time = clean_results.groupBy('year','month').agg(f.count('*').alias('total'),\n",
    "                                          f.sum('pos').alias('postotal'),\n",
    "                                         f.sum('neg').alias('negtotal'),\n",
    "                                         f.sum('neu').alias('neutotal')).toPandas()\n",
    "\n",
    "\n"
   ]
  },
  {
   "cell_type": "code",
   "execution_count": 52,
   "id": "4a27afc2-0f56-426a-83e5-75466acf526d",
   "metadata": {},
   "outputs": [
    {
     "name": "stderr",
     "output_type": "stream",
     "text": [
      "                                                                                \r"
     ]
    }
   ],
   "source": [
    "sentiment_over_time_daily = clean_results.withColumn('snp', f.col('snp').cast('boolean')). \\\n",
    "                            withColumn('fed', f.col('fed').cast('boolean')). \\\n",
    "                            withColumn('crypto', f.col('crypto').cast('boolean')). \\\n",
    "                            groupBy('year','month','day').agg(f.count('*').alias('total'),\n",
    "                                          f.sum('pos').alias('postotal'),\n",
    "                                         f.sum('neg').alias('negtotal'),\n",
    "                                         f.sum('neu').alias('neutotal'),\n",
    "                                        f.count(f.when(f.col('snp'), f.col('snp'))).alias('snpcomments'),\n",
    "                                        f.count(f.when(f.col('fed'), f.col('fed'))).alias('fedcomments'),\n",
    "                                        f.count(f.when(f.col('crypto'), f.col('crypto'))).alias('cryptocomments')\n",
    "                                                             ).toPandas()"
   ]
  },
  {
   "cell_type": "code",
   "execution_count": 53,
   "id": "f8c15dfe-1306-494f-9dd7-a716d5d34e09",
   "metadata": {},
   "outputs": [
    {
     "data": {
      "text/html": [
       "<div>\n",
       "<style scoped>\n",
       "    .dataframe tbody tr th:only-of-type {\n",
       "        vertical-align: middle;\n",
       "    }\n",
       "\n",
       "    .dataframe tbody tr th {\n",
       "        vertical-align: top;\n",
       "    }\n",
       "\n",
       "    .dataframe thead th {\n",
       "        text-align: right;\n",
       "    }\n",
       "</style>\n",
       "<table border=\"1\" class=\"dataframe\">\n",
       "  <thead>\n",
       "    <tr style=\"text-align: right;\">\n",
       "      <th></th>\n",
       "      <th>year</th>\n",
       "      <th>month</th>\n",
       "      <th>day</th>\n",
       "      <th>total</th>\n",
       "      <th>postotal</th>\n",
       "      <th>negtotal</th>\n",
       "      <th>neutotal</th>\n",
       "      <th>snpcomments</th>\n",
       "      <th>fedcomments</th>\n",
       "      <th>cryptocomments</th>\n",
       "    </tr>\n",
       "  </thead>\n",
       "  <tbody>\n",
       "    <tr>\n",
       "      <th>0</th>\n",
       "      <td>2024</td>\n",
       "      <td>3</td>\n",
       "      <td>19</td>\n",
       "      <td>8</td>\n",
       "      <td>6</td>\n",
       "      <td>2</td>\n",
       "      <td>0</td>\n",
       "      <td>0</td>\n",
       "      <td>0</td>\n",
       "      <td>3</td>\n",
       "    </tr>\n",
       "    <tr>\n",
       "      <th>1</th>\n",
       "      <td>2023</td>\n",
       "      <td>9</td>\n",
       "      <td>4</td>\n",
       "      <td>24</td>\n",
       "      <td>11</td>\n",
       "      <td>11</td>\n",
       "      <td>2</td>\n",
       "      <td>1</td>\n",
       "      <td>1</td>\n",
       "      <td>6</td>\n",
       "    </tr>\n",
       "    <tr>\n",
       "      <th>2</th>\n",
       "      <td>2023</td>\n",
       "      <td>6</td>\n",
       "      <td>29</td>\n",
       "      <td>10</td>\n",
       "      <td>5</td>\n",
       "      <td>5</td>\n",
       "      <td>0</td>\n",
       "      <td>0</td>\n",
       "      <td>0</td>\n",
       "      <td>0</td>\n",
       "    </tr>\n",
       "    <tr>\n",
       "      <th>3</th>\n",
       "      <td>2023</td>\n",
       "      <td>8</td>\n",
       "      <td>10</td>\n",
       "      <td>21</td>\n",
       "      <td>14</td>\n",
       "      <td>7</td>\n",
       "      <td>0</td>\n",
       "      <td>0</td>\n",
       "      <td>0</td>\n",
       "      <td>1</td>\n",
       "    </tr>\n",
       "    <tr>\n",
       "      <th>4</th>\n",
       "      <td>2023</td>\n",
       "      <td>7</td>\n",
       "      <td>4</td>\n",
       "      <td>6</td>\n",
       "      <td>1</td>\n",
       "      <td>3</td>\n",
       "      <td>2</td>\n",
       "      <td>0</td>\n",
       "      <td>1</td>\n",
       "      <td>0</td>\n",
       "    </tr>\n",
       "  </tbody>\n",
       "</table>\n",
       "</div>"
      ],
      "text/plain": [
       "   year  month  day  total  postotal  negtotal  neutotal  snpcomments  \\\n",
       "0  2024      3   19      8         6         2         0            0   \n",
       "1  2023      9    4     24        11        11         2            1   \n",
       "2  2023      6   29     10         5         5         0            0   \n",
       "3  2023      8   10     21        14         7         0            0   \n",
       "4  2023      7    4      6         1         3         2            0   \n",
       "\n",
       "   fedcomments  cryptocomments  \n",
       "0            0               3  \n",
       "1            1               6  \n",
       "2            0               0  \n",
       "3            0               1  \n",
       "4            1               0  "
      ]
     },
     "execution_count": 53,
     "metadata": {},
     "output_type": "execute_result"
    }
   ],
   "source": [
    "sentiment_over_time_daily.head()"
   ]
  },
  {
   "cell_type": "code",
   "execution_count": 54,
   "id": "0efb9a03-15a1-4c61-a085-1ab01578eb52",
   "metadata": {},
   "outputs": [],
   "source": [
    "# checkpoint to save data for the ML section\n",
    "sentiment_over_time_daily.to_csv('NLP_output_for_ml.csv')"
   ]
  },
  {
   "cell_type": "code",
   "execution_count": 138,
   "id": "b434ddf8-940a-4f27-9860-0f3a0568625d",
   "metadata": {},
   "outputs": [
    {
     "data": {
      "image/png": "[encoded data removed]",
      "text/plain": [
       "<Figure size 640x480 with 1 Axes>"
      ]
     },
     "metadata": {},
     "output_type": "display_data"
    },
    {
     "data": {
      "text/plain": [
       "<Figure size 640x480 with 0 Axes>"
      ]
     },
     "metadata": {},
     "output_type": "display_data"
    }
   ],
   "source": [
    "import matplotlib.pyplot as plt\n",
    "import datetime\n",
    "\n",
    "sentiment_over_time['DATE'] = pd.to_datetime(sentiment_over_time[['year', 'month']].assign(DAY=1))\n",
    "\n",
    "for row in range(0,sentiment_over_time.shape[0]):\n",
    "    total = sentiment_over_time.loc[row,'total']\n",
    "    sentiment_over_time.loc[row,'posshare'] = sentiment_over_time.loc[row,'postotal'] / total\n",
    "    sentiment_over_time.loc[row,'negshare'] = sentiment_over_time.loc[row,'negtotal'] / total\n",
    "    sentiment_over_time.loc[row,'neushare'] = sentiment_over_time.loc[row,'neutotal'] / total\n",
    "\n",
    "\n",
    "sentiment_over_time.sort_values('DATE', inplace = True)\n",
    "plt.figure()\n",
    "\n",
    "#plt.plot(sentiment_over_time['DATE'], sentiment_over_time['total'], color = 'gray', label = 'all comments')\n",
    "plt.plot(sentiment_over_time['DATE'], sentiment_over_time['posshare'], color = 'b', label = 'positive comments')\n",
    "plt.plot(sentiment_over_time['DATE'], sentiment_over_time['negshare'], color = 'r', label = 'negative comments')\n",
    "plt.plot(sentiment_over_time['DATE'], sentiment_over_time['neushare'], color = 'purple', label = 'neutral comments')\n",
    "\n",
    "plt.title('Share of Comments by Sentiment')\n",
    "plt.xlabel('Date')\n",
    "plt.ylabel('Share of Comments')\n",
    "\n",
    "plt.legend()\n",
    "plt.show()\n",
    "\n",
    "plt.savefig('sentiment_share_of_comments.png')"
   ]
  },
  {
   "cell_type": "code",
   "execution_count": 102,
   "id": "24552ff4-d53b-47b8-9de7-eb0185b8af66",
   "metadata": {},
   "outputs": [
    {
     "name": "stderr",
     "output_type": "stream",
     "text": [
      "                                                                                \r"
     ]
    }
   ],
   "source": [
    "\n",
    "# group by number of comments with each sentiment for each mention\n",
    "sentiment_mentions = clean_results.groupBy('snp','crypto','fed').agg(f.count('*').alias('total'),\n",
    "                                          f.sum('pos').alias('postotal'),\n",
    "                                         f.sum('neg').alias('negtotal'),\n",
    "                                         f.sum('neu').alias('neutotal')).toPandas()\n",
    "\n"
   ]
  },
  {
   "cell_type": "code",
   "execution_count": 103,
   "id": "861887be-fb76-47c3-8e28-8f34194160db",
   "metadata": {},
   "outputs": [
    {
     "name": "stderr",
     "output_type": "stream",
     "text": [
      "/tmp/ipykernel_135/3390288318.py:7: FutureWarning: Setting an item of incompatible dtype is deprecated and will raise an error in a future version of pandas. Value '0.6917900403768507' has dtype incompatible with int64, please explicitly cast to a compatible dtype first.\n",
      "  sentiment_mentions.loc[row,'postotal'] = sentiment_mentions.loc[row,'postotal'] / total\n",
      "/tmp/ipykernel_135/3390288318.py:8: FutureWarning: Setting an item of incompatible dtype is deprecated and will raise an error in a future version of pandas. Value '0.27456258411843876' has dtype incompatible with int64, please explicitly cast to a compatible dtype first.\n",
      "  sentiment_mentions.loc[row,'negtotal'] = sentiment_mentions.loc[row,'negtotal'] / total\n",
      "/tmp/ipykernel_135/3390288318.py:9: FutureWarning: Setting an item of incompatible dtype is deprecated and will raise an error in a future version of pandas. Value '0.033647375504710635' has dtype incompatible with int64, please explicitly cast to a compatible dtype first.\n",
      "  sentiment_mentions.loc[row,'neutotal'] = sentiment_mentions.loc[row,'neutotal'] / total\n"
     ]
    }
   ],
   "source": [
    "# create a table \n",
    "import dataframe_image as dfi\n",
    "\n",
    "# adjust numbers to be percent of total\n",
    "for row in range(0,sentiment_mentions.shape[0]):\n",
    "    total = sentiment_mentions.loc[row,'total']\n",
    "    sentiment_mentions.loc[row,'postotal'] = sentiment_mentions.loc[row,'postotal'] / total\n",
    "    sentiment_mentions.loc[row,'negtotal'] = sentiment_mentions.loc[row,'negtotal'] / total\n",
    "    sentiment_mentions.loc[row,'neutotal'] = sentiment_mentions.loc[row,'neutotal'] / total\n",
    "    \n",
    "sentiment_mentions['total'] = sentiment_mentions['total'] / sum(sentiment_mentions['total'])\n",
    "#sentiment_mentions = sentiment_mentions.round(2)\n",
    "#pd.options.display.float_format = \"{:,.2f}\".format\n",
    "sentiment_mentions.columns = ['S&P Mentioned', 'Crypto Mentioned', 'Fed Mentioned', 'Share of All Comments', '% Positive', '% Negative', '% Neutral']\n",
    "df_styled = sentiment_mentions.style.background_gradient()"
   ]
  },
  {
   "cell_type": "code",
   "execution_count": 104,
   "id": "65b407ef-e231-4b1f-b92b-252dca589f2d",
   "metadata": {},
   "outputs": [
    {
     "data": {
      "text/html": [
       "<style type=\"text/css\">\n",
       "#T_3e501_row0_col3, #T_3e501_row0_col5, #T_3e501_row0_col6, #T_3e501_row3_col3, #T_3e501_row3_col6, #T_3e501_row4_col6, #T_3e501_row5_col3, #T_3e501_row5_col5, #T_3e501_row5_col6, #T_3e501_row6_col3, #T_3e501_row6_col6, #T_3e501_row7_col4 {\n",
       "  background-color: #fff7fb;\n",
       "  color: #000000;\n",
       "}\n",
       "#T_3e501_row0_col4, #T_3e501_row2_col3, #T_3e501_row5_col4, #T_3e501_row6_col5, #T_3e501_row7_col6 {\n",
       "  background-color: #023858;\n",
       "  color: #f1f1f1;\n",
       "}\n",
       "#T_3e501_row1_col3 {\n",
       "  background-color: #d2d3e7;\n",
       "  color: #000000;\n",
       "}\n",
       "#T_3e501_row1_col4 {\n",
       "  background-color: #81aed2;\n",
       "  color: #f1f1f1;\n",
       "}\n",
       "#T_3e501_row1_col5 {\n",
       "  background-color: #4094c3;\n",
       "  color: #f1f1f1;\n",
       "}\n",
       "#T_3e501_row1_col6 {\n",
       "  background-color: #d9d8ea;\n",
       "  color: #000000;\n",
       "}\n",
       "#T_3e501_row2_col4 {\n",
       "  background-color: #dad9ea;\n",
       "  color: #000000;\n",
       "}\n",
       "#T_3e501_row2_col5 {\n",
       "  background-color: #045483;\n",
       "  color: #f1f1f1;\n",
       "}\n",
       "#T_3e501_row2_col6 {\n",
       "  background-color: #b1c2de;\n",
       "  color: #000000;\n",
       "}\n",
       "#T_3e501_row3_col4 {\n",
       "  background-color: #71a8ce;\n",
       "  color: #f1f1f1;\n",
       "}\n",
       "#T_3e501_row3_col5 {\n",
       "  background-color: #358fc0;\n",
       "  color: #f1f1f1;\n",
       "}\n",
       "#T_3e501_row4_col3, #T_3e501_row7_col3 {\n",
       "  background-color: #fef6fb;\n",
       "  color: #000000;\n",
       "}\n",
       "#T_3e501_row4_col4 {\n",
       "  background-color: #1e80b8;\n",
       "  color: #f1f1f1;\n",
       "}\n",
       "#T_3e501_row4_col5 {\n",
       "  background-color: #9cb9d9;\n",
       "  color: #000000;\n",
       "}\n",
       "#T_3e501_row6_col4 {\n",
       "  background-color: #d8d7e9;\n",
       "  color: #000000;\n",
       "}\n",
       "#T_3e501_row7_col5 {\n",
       "  background-color: #034b76;\n",
       "  color: #f1f1f1;\n",
       "}\n",
       "</style>\n",
       "<table id=\"T_3e501\">\n",
       "  <thead>\n",
       "    <tr>\n",
       "      <th class=\"blank level0\" >&nbsp;</th>\n",
       "      <th id=\"T_3e501_level0_col0\" class=\"col_heading level0 col0\" >S&P Mentioned</th>\n",
       "      <th id=\"T_3e501_level0_col1\" class=\"col_heading level0 col1\" >Crypto Mentioned</th>\n",
       "      <th id=\"T_3e501_level0_col2\" class=\"col_heading level0 col2\" >Fed Mentioned</th>\n",
       "      <th id=\"T_3e501_level0_col3\" class=\"col_heading level0 col3\" >Share of All Comments</th>\n",
       "      <th id=\"T_3e501_level0_col4\" class=\"col_heading level0 col4\" >% Positive</th>\n",
       "      <th id=\"T_3e501_level0_col5\" class=\"col_heading level0 col5\" >% Negative</th>\n",
       "      <th id=\"T_3e501_level0_col6\" class=\"col_heading level0 col6\" >% Neutral</th>\n",
       "    </tr>\n",
       "  </thead>\n",
       "  <tbody>\n",
       "    <tr>\n",
       "      <th id=\"T_3e501_level0_row0\" class=\"row_heading level0 row0\" >0</th>\n",
       "      <td id=\"T_3e501_row0_col0\" class=\"data row0 col0\" >true</td>\n",
       "      <td id=\"T_3e501_row0_col1\" class=\"data row0 col1\" >true</td>\n",
       "      <td id=\"T_3e501_row0_col2\" class=\"data row0 col2\" >true</td>\n",
       "      <td id=\"T_3e501_row0_col3\" class=\"data row0 col3\" >0.000258</td>\n",
       "      <td id=\"T_3e501_row0_col4\" class=\"data row0 col4\" >1.000000</td>\n",
       "      <td id=\"T_3e501_row0_col5\" class=\"data row0 col5\" >0.000000</td>\n",
       "      <td id=\"T_3e501_row0_col6\" class=\"data row0 col6\" >0.000000</td>\n",
       "    </tr>\n",
       "    <tr>\n",
       "      <th id=\"T_3e501_level0_row1\" class=\"row_heading level0 row1\" >1</th>\n",
       "      <td id=\"T_3e501_row1_col0\" class=\"data row1 col0\" >false</td>\n",
       "      <td id=\"T_3e501_row1_col1\" class=\"data row1 col1\" >true</td>\n",
       "      <td id=\"T_3e501_row1_col2\" class=\"data row1 col2\" >false</td>\n",
       "      <td id=\"T_3e501_row1_col3\" class=\"data row1 col3\" >0.191446</td>\n",
       "      <td id=\"T_3e501_row1_col4\" class=\"data row1 col4\" >0.691790</td>\n",
       "      <td id=\"T_3e501_row1_col5\" class=\"data row1 col5\" >0.274563</td>\n",
       "      <td id=\"T_3e501_row1_col6\" class=\"data row1 col6\" >0.033647</td>\n",
       "    </tr>\n",
       "    <tr>\n",
       "      <th id=\"T_3e501_level0_row2\" class=\"row_heading level0 row2\" >2</th>\n",
       "      <td id=\"T_3e501_row2_col0\" class=\"data row2 col0\" >false</td>\n",
       "      <td id=\"T_3e501_row2_col1\" class=\"data row2 col1\" >false</td>\n",
       "      <td id=\"T_3e501_row2_col2\" class=\"data row2 col2\" >false</td>\n",
       "      <td id=\"T_3e501_row2_col3\" class=\"data row2 col3\" >0.792837</td>\n",
       "      <td id=\"T_3e501_row2_col4\" class=\"data row2 col4\" >0.538837</td>\n",
       "      <td id=\"T_3e501_row2_col5\" class=\"data row2 col5\" >0.407215</td>\n",
       "      <td id=\"T_3e501_row2_col6\" class=\"data row2 col6\" >0.053949</td>\n",
       "    </tr>\n",
       "    <tr>\n",
       "      <th id=\"T_3e501_level0_row3\" class=\"row_heading level0 row3\" >3</th>\n",
       "      <td id=\"T_3e501_row3_col0\" class=\"data row3 col0\" >true</td>\n",
       "      <td id=\"T_3e501_row3_col1\" class=\"data row3 col1\" >true</td>\n",
       "      <td id=\"T_3e501_row3_col2\" class=\"data row3 col2\" >false</td>\n",
       "      <td id=\"T_3e501_row3_col3\" class=\"data row3 col3\" >0.001804</td>\n",
       "      <td id=\"T_3e501_row3_col4\" class=\"data row3 col4\" >0.714286</td>\n",
       "      <td id=\"T_3e501_row3_col5\" class=\"data row3 col5\" >0.285714</td>\n",
       "      <td id=\"T_3e501_row3_col6\" class=\"data row3 col6\" >0.000000</td>\n",
       "    </tr>\n",
       "    <tr>\n",
       "      <th id=\"T_3e501_level0_row4\" class=\"row_heading level0 row4\" >4</th>\n",
       "      <td id=\"T_3e501_row4_col0\" class=\"data row4 col0\" >true</td>\n",
       "      <td id=\"T_3e501_row4_col1\" class=\"data row4 col1\" >false</td>\n",
       "      <td id=\"T_3e501_row4_col2\" class=\"data row4 col2\" >false</td>\n",
       "      <td id=\"T_3e501_row4_col3\" class=\"data row4 col3\" >0.005669</td>\n",
       "      <td id=\"T_3e501_row4_col4\" class=\"data row4 col4\" >0.818182</td>\n",
       "      <td id=\"T_3e501_row4_col5\" class=\"data row4 col5\" >0.181818</td>\n",
       "      <td id=\"T_3e501_row4_col6\" class=\"data row4 col6\" >0.000000</td>\n",
       "    </tr>\n",
       "    <tr>\n",
       "      <th id=\"T_3e501_level0_row5\" class=\"row_heading level0 row5\" >5</th>\n",
       "      <td id=\"T_3e501_row5_col0\" class=\"data row5 col0\" >true</td>\n",
       "      <td id=\"T_3e501_row5_col1\" class=\"data row5 col1\" >false</td>\n",
       "      <td id=\"T_3e501_row5_col2\" class=\"data row5 col2\" >true</td>\n",
       "      <td id=\"T_3e501_row5_col3\" class=\"data row5 col3\" >0.000258</td>\n",
       "      <td id=\"T_3e501_row5_col4\" class=\"data row5 col4\" >1.000000</td>\n",
       "      <td id=\"T_3e501_row5_col5\" class=\"data row5 col5\" >0.000000</td>\n",
       "      <td id=\"T_3e501_row5_col6\" class=\"data row5 col6\" >0.000000</td>\n",
       "    </tr>\n",
       "    <tr>\n",
       "      <th id=\"T_3e501_level0_row6\" class=\"row_heading level0 row6\" >6</th>\n",
       "      <td id=\"T_3e501_row6_col0\" class=\"data row6 col0\" >false</td>\n",
       "      <td id=\"T_3e501_row6_col1\" class=\"data row6 col1\" >true</td>\n",
       "      <td id=\"T_3e501_row6_col2\" class=\"data row6 col2\" >true</td>\n",
       "      <td id=\"T_3e501_row6_col3\" class=\"data row6 col3\" >0.002834</td>\n",
       "      <td id=\"T_3e501_row6_col4\" class=\"data row6 col4\" >0.545455</td>\n",
       "      <td id=\"T_3e501_row6_col5\" class=\"data row6 col5\" >0.454545</td>\n",
       "      <td id=\"T_3e501_row6_col6\" class=\"data row6 col6\" >0.000000</td>\n",
       "    </tr>\n",
       "    <tr>\n",
       "      <th id=\"T_3e501_level0_row7\" class=\"row_heading level0 row7\" >7</th>\n",
       "      <td id=\"T_3e501_row7_col0\" class=\"data row7 col0\" >false</td>\n",
       "      <td id=\"T_3e501_row7_col1\" class=\"data row7 col1\" >false</td>\n",
       "      <td id=\"T_3e501_row7_col2\" class=\"data row7 col2\" >true</td>\n",
       "      <td id=\"T_3e501_row7_col3\" class=\"data row7 col3\" >0.004896</td>\n",
       "      <td id=\"T_3e501_row7_col4\" class=\"data row7 col4\" >0.421053</td>\n",
       "      <td id=\"T_3e501_row7_col5\" class=\"data row7 col5\" >0.421053</td>\n",
       "      <td id=\"T_3e501_row7_col6\" class=\"data row7 col6\" >0.157895</td>\n",
       "    </tr>\n",
       "  </tbody>\n",
       "</table>\n"
      ],
      "text/plain": [
       "<pandas.io.formats.style.Styler at 0x7f030ae98a50>"
      ]
     },
     "execution_count": 104,
     "metadata": {},
     "output_type": "execute_result"
    }
   ],
   "source": [
    "df_styled"
   ]
  },
  {
   "cell_type": "code",
   "execution_count": null,
   "id": "bc93292d-1e09-4646-b04c-70088341b87f",
   "metadata": {},
   "outputs": [],
   "source": [
    "# plots\n",
    "# plot 1: average sentiment across a\n",
    "ll comments over time(lines)\n",
    "\n",
    "\n",
    "\n",
    "# plot 2: share of pos/neg/neurtral sentiment (stacked bars)\n",
    "\n",
    "\n",
    "\n",
    "\n",
    "# plot 3: daily mentions of fed vs. daily sentiment? (scatter)"
   ]
  }
 ],
 "metadata": {
  "kernelspec": {
   "display_name": "Python 3 (ipykernel)",
   "language": "python",
   "name": "python3"
  },
  "language_info": {
   "codemirror_mode": {
    "name": "ipython",
    "version": 3
   },
   "file_extension": ".py",
   "mimetype": "text/x-python",
   "name": "python",
   "nbconvert_exporter": "python",
   "pygments_lexer": "ipython3",
   "version": "3.11.10"
  }
 },
 "nbformat": 4,
 "nbformat_minor": 5
}
